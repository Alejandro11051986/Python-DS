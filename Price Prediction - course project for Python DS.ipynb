{
 "cells": [
  {
   "cell_type": "code",
   "execution_count": 1,
   "id": "5dcaef74",
   "metadata": {
    "_cell_guid": "b1076dfc-b9ad-4769-8c92-a6c4dae69d19",
    "_uuid": "8f2839f25d086af736a60e9eeb907d3b93b6e0e5",
    "execution": {
     "iopub.execute_input": "2021-11-07T13:04:50.541715Z",
     "iopub.status.busy": "2021-11-07T13:04:50.539886Z",
     "iopub.status.idle": "2021-11-07T13:04:50.559103Z",
     "shell.execute_reply": "2021-11-07T13:04:50.559710Z",
     "shell.execute_reply.started": "2021-11-07T12:36:18.384865Z"
    },
    "papermill": {
     "duration": 0.075091,
     "end_time": "2021-11-07T13:04:50.560071",
     "exception": false,
     "start_time": "2021-11-07T13:04:50.484980",
     "status": "completed"
    },
    "tags": []
   },
   "outputs": [],
   "source": [
    "# This Python 3 environment comes with many helpful analytics libraries installed\n",
    "# It is defined by the kaggle/python Docker image: https://github.com/kaggle/docker-python\n",
    "# For example, here's several helpful packages to load\n",
    "\n",
    "import numpy as np # linear algebra\n",
    "import pandas as pd # data processing, CSV file I/O (e.g. pd.read_csv)\n",
    "\n",
    "# Input data files are available in the read-only \"../input/\" directory\n",
    "# For example, running this (by clicking run or pressing Shift+Enter) will list all files under the input directory\n",
    "\n",
    "import os\n",
    "for dirname, _, filenames in os.walk('/kaggle/input'):\n",
    "    for filename in filenames:\n",
    "        print(os.path.join(dirname, filename))\n",
    "\n",
    "# You can write up to 20GB to the current directory (/kaggle/working/) that gets preserved as output when you create a version using \"Save & Run All\" \n",
    "# You can also write temporary files to /kaggle/temp/, but they won't be saved outside of the current session"
   ]
  },
  {
   "cell_type": "markdown",
   "id": "a06bd09f",
   "metadata": {
    "papermill": {
     "duration": 0.049068,
     "end_time": "2021-11-07T13:04:50.658553",
     "exception": false,
     "start_time": "2021-11-07T13:04:50.609485",
     "status": "completed"
    },
    "tags": []
   },
   "source": [
    "### Импортируем необходимые для работы функции и классы"
   ]
  },
  {
   "cell_type": "code",
   "execution_count": 2,
   "id": "e3e956b8",
   "metadata": {
    "execution": {
     "iopub.execute_input": "2021-11-07T13:04:50.764297Z",
     "iopub.status.busy": "2021-11-07T13:04:50.763073Z",
     "iopub.status.idle": "2021-11-07T13:04:52.552064Z",
     "shell.execute_reply": "2021-11-07T13:04:52.551376Z",
     "shell.execute_reply.started": "2021-11-07T12:36:18.398224Z"
    },
    "papermill": {
     "duration": 1.842991,
     "end_time": "2021-11-07T13:04:52.552262",
     "exception": false,
     "start_time": "2021-11-07T13:04:50.709271",
     "status": "completed"
    },
    "tags": []
   },
   "outputs": [],
   "source": [
    "import numpy as np\n",
    "import pandas as pd\n",
    "import random\n",
    "\n",
    "from sklearn.model_selection import train_test_split, cross_val_score\n",
    "from sklearn.preprocessing import StandardScaler, RobustScaler\n",
    "from sklearn.ensemble import RandomForestRegressor\n",
    "from sklearn.metrics import r2_score as r2\n",
    "from sklearn.model_selection import KFold, GridSearchCV\n",
    "\n",
    "from catboost import CatBoostRegressor\n",
    "\n",
    "from datetime import datetime\n",
    "\n",
    "import matplotlib\n",
    "import matplotlib.pyplot as plt\n",
    "import seaborn as sns\n",
    "%matplotlib inline"
   ]
  },
  {
   "cell_type": "markdown",
   "id": "d3171f82",
   "metadata": {
    "papermill": {
     "duration": 0.049235,
     "end_time": "2021-11-07T13:04:52.652076",
     "exception": false,
     "start_time": "2021-11-07T13:04:52.602841",
     "status": "completed"
    },
    "tags": []
   },
   "source": [
    "### Предупреждеия"
   ]
  },
  {
   "cell_type": "code",
   "execution_count": 3,
   "id": "c285cac8",
   "metadata": {
    "execution": {
     "iopub.execute_input": "2021-11-07T13:04:52.756700Z",
     "iopub.status.busy": "2021-11-07T13:04:52.755981Z",
     "iopub.status.idle": "2021-11-07T13:04:52.759615Z",
     "shell.execute_reply": "2021-11-07T13:04:52.760084Z",
     "shell.execute_reply.started": "2021-11-07T12:36:18.411505Z"
    },
    "papermill": {
     "duration": 0.057247,
     "end_time": "2021-11-07T13:04:52.760298",
     "exception": false,
     "start_time": "2021-11-07T13:04:52.703051",
     "status": "completed"
    },
    "tags": []
   },
   "outputs": [],
   "source": [
    "import warnings\n",
    "warnings.filterwarnings('ignore')"
   ]
  },
  {
   "cell_type": "markdown",
   "id": "ccffc8da",
   "metadata": {
    "papermill": {
     "duration": 0.138246,
     "end_time": "2021-11-07T13:04:52.947840",
     "exception": false,
     "start_time": "2021-11-07T13:04:52.809594",
     "status": "completed"
    },
    "tags": []
   },
   "source": [
    "### Унификация шрифта"
   ]
  },
  {
   "cell_type": "code",
   "execution_count": 4,
   "id": "7a8f71b4",
   "metadata": {
    "execution": {
     "iopub.execute_input": "2021-11-07T13:04:53.052893Z",
     "iopub.status.busy": "2021-11-07T13:04:53.052130Z",
     "iopub.status.idle": "2021-11-07T13:04:53.053928Z",
     "shell.execute_reply": "2021-11-07T13:04:53.054399Z",
     "shell.execute_reply.started": "2021-11-07T12:36:18.429025Z"
    },
    "papermill": {
     "duration": 0.057061,
     "end_time": "2021-11-07T13:04:53.054619",
     "exception": false,
     "start_time": "2021-11-07T13:04:52.997558",
     "status": "completed"
    },
    "tags": []
   },
   "outputs": [],
   "source": [
    "matplotlib.rcParams.update({'font.size': 14})"
   ]
  },
  {
   "cell_type": "markdown",
   "id": "7012af7d",
   "metadata": {
    "papermill": {
     "duration": 0.050104,
     "end_time": "2021-11-07T13:04:53.157435",
     "exception": false,
     "start_time": "2021-11-07T13:04:53.107331",
     "status": "completed"
    },
    "tags": []
   },
   "source": [
    "### Функция для подсчета метрик"
   ]
  },
  {
   "cell_type": "code",
   "execution_count": 5,
   "id": "b1d50e19",
   "metadata": {
    "execution": {
     "iopub.execute_input": "2021-11-07T13:04:53.267670Z",
     "iopub.status.busy": "2021-11-07T13:04:53.266879Z",
     "iopub.status.idle": "2021-11-07T13:04:53.268436Z",
     "shell.execute_reply": "2021-11-07T13:04:53.269042Z",
     "shell.execute_reply.started": "2021-11-07T12:36:18.444882Z"
    },
    "papermill": {
     "duration": 0.061738,
     "end_time": "2021-11-07T13:04:53.269239",
     "exception": false,
     "start_time": "2021-11-07T13:04:53.207501",
     "status": "completed"
    },
    "tags": []
   },
   "outputs": [],
   "source": [
    "def evaluate_preds(train_true_values, train_pred_values, test_true_values, test_pred_values):\n",
    "    print(\"Train R2:\\t\" + str(round(r2(train_true_values, train_pred_values), 3)))\n",
    "    print(\"Test R2:\\t\" + str(round(r2(test_true_values, test_pred_values), 3)))\n",
    "    \n",
    "    plt.figure(figsize=(18,10))\n",
    "    \n",
    "    plt.subplot(121)\n",
    "    sns.scatterplot(x=train_pred_values, y=train_true_values)\n",
    "    plt.xlabel('Predicted values')\n",
    "    plt.ylabel('True values')\n",
    "    plt.title('Train sample prediction')\n",
    "    \n",
    "    plt.subplot(122)\n",
    "    sns.scatterplot(x=test_pred_values, y=test_true_values)\n",
    "    plt.xlabel('Predicted values')\n",
    "    plt.ylabel('True values')\n",
    "    plt.title('Test sample prediction')\n",
    "\n",
    "    plt.show()"
   ]
  },
  {
   "cell_type": "markdown",
   "id": "39aef80c",
   "metadata": {
    "papermill": {
     "duration": 0.04899,
     "end_time": "2021-11-07T13:04:53.368094",
     "exception": false,
     "start_time": "2021-11-07T13:04:53.319104",
     "status": "completed"
    },
    "tags": []
   },
   "source": [
    "### Путь к файлам с данными"
   ]
  },
  {
   "cell_type": "code",
   "execution_count": 6,
   "id": "32e821fe",
   "metadata": {
    "execution": {
     "iopub.execute_input": "2021-11-07T13:04:53.473037Z",
     "iopub.status.busy": "2021-11-07T13:04:53.472225Z",
     "iopub.status.idle": "2021-11-07T13:04:53.476090Z",
     "shell.execute_reply": "2021-11-07T13:04:53.476733Z",
     "shell.execute_reply.started": "2021-11-07T12:36:18.458579Z"
    },
    "papermill": {
     "duration": 0.059469,
     "end_time": "2021-11-07T13:04:53.476946",
     "exception": false,
     "start_time": "2021-11-07T13:04:53.417477",
     "status": "completed"
    },
    "tags": []
   },
   "outputs": [],
   "source": [
    "TRAIN_DATASET_PATH = 'reports/train.csv'\n",
    "TEST_DATASET_PATH = 'reports/test.csv'"
   ]
  },
  {
   "cell_type": "markdown",
   "id": "f36f6e7a",
   "metadata": {
    "papermill": {
     "duration": 0.053248,
     "end_time": "2021-11-07T13:04:53.578888",
     "exception": false,
     "start_time": "2021-11-07T13:04:53.525640",
     "status": "completed"
    },
    "tags": []
   },
   "source": [
    "### Загрузка данных"
   ]
  },
  {
   "cell_type": "markdown",
   "id": "8310d465",
   "metadata": {
    "papermill": {
     "duration": 0.048508,
     "end_time": "2021-11-07T13:04:53.677224",
     "exception": false,
     "start_time": "2021-11-07T13:04:53.628716",
     "status": "completed"
    },
    "tags": []
   },
   "source": [
    "Описание датасета\n",
    "\n",
    "* Id - идентификационный номер квартиры\n",
    "* DistrictId - идентификационный номер района\n",
    "* Rooms - количество комнат\n",
    "* Square - площадь\n",
    "* LifeSquare - жилая площадь\n",
    "* KitchenSquare - площадь кухни\n",
    "* Floor - этаж\n",
    "* HouseFloor - количество этажей в доме\n",
    "* HouseYear - год постройки дома\n",
    "* Ecology_1, Ecology_2, Ecology_3 - экологические показатели местности\n",
    "* Social_1, Social_2, Social_3 - социальные показатели местности\n",
    "* Healthcare_1, Helthcare_2 - показатели местности, связанные с охраной здоровья\n",
    "* Shops_1, Shops_2 - показатели, связанные с наличием магазинов, торговых центров\n",
    "* Price - цена квартиры"
   ]
  },
  {
   "cell_type": "markdown",
   "id": "1252f2e8",
   "metadata": {
    "papermill": {
     "duration": 0.04943,
     "end_time": "2021-11-07T13:04:53.778343",
     "exception": false,
     "start_time": "2021-11-07T13:04:53.728913",
     "status": "completed"
    },
    "tags": []
   },
   "source": [
    "### Считываем обучающий набор данных"
   ]
  },
  {
   "cell_type": "code",
   "execution_count": 7,
   "id": "69c74bf1",
   "metadata": {
    "execution": {
     "iopub.execute_input": "2021-11-07T13:04:53.881024Z",
     "iopub.status.busy": "2021-11-07T13:04:53.880271Z",
     "iopub.status.idle": "2021-11-07T13:04:53.983774Z",
     "shell.execute_reply": "2021-11-07T13:04:53.983078Z",
     "shell.execute_reply.started": "2021-11-07T12:36:18.475094Z"
    },
    "papermill": {
     "duration": 0.155769,
     "end_time": "2021-11-07T13:04:53.983970",
     "exception": false,
     "start_time": "2021-11-07T13:04:53.828201",
     "status": "completed"
    },
    "tags": []
   },
   "outputs": [
    {
     "data": {
      "text/html": [
       "<div>\n",
       "<style scoped>\n",
       "    .dataframe tbody tr th:only-of-type {\n",
       "        vertical-align: middle;\n",
       "    }\n",
       "\n",
       "    .dataframe tbody tr th {\n",
       "        vertical-align: top;\n",
       "    }\n",
       "\n",
       "    .dataframe thead th {\n",
       "        text-align: right;\n",
       "    }\n",
       "</style>\n",
       "<table border=\"1\" class=\"dataframe\">\n",
       "  <thead>\n",
       "    <tr style=\"text-align: right;\">\n",
       "      <th></th>\n",
       "      <th>Id</th>\n",
       "      <th>DistrictId</th>\n",
       "      <th>Rooms</th>\n",
       "      <th>Square</th>\n",
       "      <th>LifeSquare</th>\n",
       "      <th>KitchenSquare</th>\n",
       "      <th>Floor</th>\n",
       "      <th>HouseFloor</th>\n",
       "      <th>HouseYear</th>\n",
       "      <th>Ecology_1</th>\n",
       "      <th>Ecology_2</th>\n",
       "      <th>Ecology_3</th>\n",
       "      <th>Social_1</th>\n",
       "      <th>Social_2</th>\n",
       "      <th>Social_3</th>\n",
       "      <th>Healthcare_1</th>\n",
       "      <th>Helthcare_2</th>\n",
       "      <th>Shops_1</th>\n",
       "      <th>Shops_2</th>\n",
       "      <th>Price</th>\n",
       "    </tr>\n",
       "  </thead>\n",
       "  <tbody>\n",
       "    <tr>\n",
       "      <th>9995</th>\n",
       "      <td>1260</td>\n",
       "      <td>61</td>\n",
       "      <td>2.0</td>\n",
       "      <td>49.090728</td>\n",
       "      <td>33.272626</td>\n",
       "      <td>6.0</td>\n",
       "      <td>3</td>\n",
       "      <td>12.0</td>\n",
       "      <td>1981</td>\n",
       "      <td>0.300323</td>\n",
       "      <td>B</td>\n",
       "      <td>B</td>\n",
       "      <td>52</td>\n",
       "      <td>10311</td>\n",
       "      <td>6</td>\n",
       "      <td>NaN</td>\n",
       "      <td>1</td>\n",
       "      <td>9</td>\n",
       "      <td>B</td>\n",
       "      <td>119367.455796</td>\n",
       "    </tr>\n",
       "    <tr>\n",
       "      <th>9996</th>\n",
       "      <td>16265</td>\n",
       "      <td>27</td>\n",
       "      <td>2.0</td>\n",
       "      <td>64.307684</td>\n",
       "      <td>37.038420</td>\n",
       "      <td>9.0</td>\n",
       "      <td>13</td>\n",
       "      <td>0.0</td>\n",
       "      <td>1977</td>\n",
       "      <td>0.072158</td>\n",
       "      <td>B</td>\n",
       "      <td>B</td>\n",
       "      <td>2</td>\n",
       "      <td>629</td>\n",
       "      <td>1</td>\n",
       "      <td>NaN</td>\n",
       "      <td>0</td>\n",
       "      <td>0</td>\n",
       "      <td>A</td>\n",
       "      <td>199715.148807</td>\n",
       "    </tr>\n",
       "    <tr>\n",
       "      <th>9997</th>\n",
       "      <td>2795</td>\n",
       "      <td>178</td>\n",
       "      <td>1.0</td>\n",
       "      <td>29.648057</td>\n",
       "      <td>16.555363</td>\n",
       "      <td>5.0</td>\n",
       "      <td>3</td>\n",
       "      <td>5.0</td>\n",
       "      <td>1958</td>\n",
       "      <td>0.460556</td>\n",
       "      <td>B</td>\n",
       "      <td>B</td>\n",
       "      <td>20</td>\n",
       "      <td>4386</td>\n",
       "      <td>14</td>\n",
       "      <td>NaN</td>\n",
       "      <td>1</td>\n",
       "      <td>5</td>\n",
       "      <td>B</td>\n",
       "      <td>165953.912580</td>\n",
       "    </tr>\n",
       "    <tr>\n",
       "      <th>9998</th>\n",
       "      <td>14561</td>\n",
       "      <td>21</td>\n",
       "      <td>1.0</td>\n",
       "      <td>32.330292</td>\n",
       "      <td>22.326870</td>\n",
       "      <td>5.0</td>\n",
       "      <td>3</td>\n",
       "      <td>9.0</td>\n",
       "      <td>1969</td>\n",
       "      <td>0.194489</td>\n",
       "      <td>B</td>\n",
       "      <td>B</td>\n",
       "      <td>47</td>\n",
       "      <td>8004</td>\n",
       "      <td>3</td>\n",
       "      <td>125.0</td>\n",
       "      <td>3</td>\n",
       "      <td>5</td>\n",
       "      <td>B</td>\n",
       "      <td>171842.411855</td>\n",
       "    </tr>\n",
       "    <tr>\n",
       "      <th>9999</th>\n",
       "      <td>7202</td>\n",
       "      <td>94</td>\n",
       "      <td>1.0</td>\n",
       "      <td>35.815476</td>\n",
       "      <td>22.301367</td>\n",
       "      <td>6.0</td>\n",
       "      <td>9</td>\n",
       "      <td>9.0</td>\n",
       "      <td>1975</td>\n",
       "      <td>0.127376</td>\n",
       "      <td>B</td>\n",
       "      <td>B</td>\n",
       "      <td>43</td>\n",
       "      <td>8429</td>\n",
       "      <td>3</td>\n",
       "      <td>NaN</td>\n",
       "      <td>3</td>\n",
       "      <td>9</td>\n",
       "      <td>B</td>\n",
       "      <td>177685.627486</td>\n",
       "    </tr>\n",
       "  </tbody>\n",
       "</table>\n",
       "</div>"
      ],
      "text/plain": [
       "         Id  DistrictId  Rooms     Square  LifeSquare  KitchenSquare  Floor  \\\n",
       "9995   1260          61    2.0  49.090728   33.272626            6.0      3   \n",
       "9996  16265          27    2.0  64.307684   37.038420            9.0     13   \n",
       "9997   2795         178    1.0  29.648057   16.555363            5.0      3   \n",
       "9998  14561          21    1.0  32.330292   22.326870            5.0      3   \n",
       "9999   7202          94    1.0  35.815476   22.301367            6.0      9   \n",
       "\n",
       "      HouseFloor  HouseYear  Ecology_1 Ecology_2 Ecology_3  Social_1  \\\n",
       "9995        12.0       1981   0.300323         B         B        52   \n",
       "9996         0.0       1977   0.072158         B         B         2   \n",
       "9997         5.0       1958   0.460556         B         B        20   \n",
       "9998         9.0       1969   0.194489         B         B        47   \n",
       "9999         9.0       1975   0.127376         B         B        43   \n",
       "\n",
       "      Social_2  Social_3  Healthcare_1  Helthcare_2  Shops_1 Shops_2  \\\n",
       "9995     10311         6           NaN            1        9       B   \n",
       "9996       629         1           NaN            0        0       A   \n",
       "9997      4386        14           NaN            1        5       B   \n",
       "9998      8004         3         125.0            3        5       B   \n",
       "9999      8429         3           NaN            3        9       B   \n",
       "\n",
       "              Price  \n",
       "9995  119367.455796  \n",
       "9996  199715.148807  \n",
       "9997  165953.912580  \n",
       "9998  171842.411855  \n",
       "9999  177685.627486  "
      ]
     },
     "execution_count": 7,
     "metadata": {},
     "output_type": "execute_result"
    }
   ],
   "source": [
    "train_df = pd.read_csv(TRAIN_DATASET_PATH)\n",
    "train_df.tail()"
   ]
  },
  {
   "cell_type": "markdown",
   "id": "2635d368",
   "metadata": {
    "papermill": {
     "duration": 0.050454,
     "end_time": "2021-11-07T13:04:54.085896",
     "exception": false,
     "start_time": "2021-11-07T13:04:54.035442",
     "status": "completed"
    },
    "tags": []
   },
   "source": [
    "#### Считываем тестовый набор данных"
   ]
  },
  {
   "cell_type": "code",
   "execution_count": 8,
   "id": "8c714cc8",
   "metadata": {
    "execution": {
     "iopub.execute_input": "2021-11-07T13:04:54.193017Z",
     "iopub.status.busy": "2021-11-07T13:04:54.192240Z",
     "iopub.status.idle": "2021-11-07T13:04:54.247378Z",
     "shell.execute_reply": "2021-11-07T13:04:54.248009Z",
     "shell.execute_reply.started": "2021-11-07T12:36:18.536901Z"
    },
    "papermill": {
     "duration": 0.111737,
     "end_time": "2021-11-07T13:04:54.248236",
     "exception": false,
     "start_time": "2021-11-07T13:04:54.136499",
     "status": "completed"
    },
    "tags": []
   },
   "outputs": [
    {
     "data": {
      "text/html": [
       "<div>\n",
       "<style scoped>\n",
       "    .dataframe tbody tr th:only-of-type {\n",
       "        vertical-align: middle;\n",
       "    }\n",
       "\n",
       "    .dataframe tbody tr th {\n",
       "        vertical-align: top;\n",
       "    }\n",
       "\n",
       "    .dataframe thead th {\n",
       "        text-align: right;\n",
       "    }\n",
       "</style>\n",
       "<table border=\"1\" class=\"dataframe\">\n",
       "  <thead>\n",
       "    <tr style=\"text-align: right;\">\n",
       "      <th></th>\n",
       "      <th>Id</th>\n",
       "      <th>DistrictId</th>\n",
       "      <th>Rooms</th>\n",
       "      <th>Square</th>\n",
       "      <th>LifeSquare</th>\n",
       "      <th>KitchenSquare</th>\n",
       "      <th>Floor</th>\n",
       "      <th>HouseFloor</th>\n",
       "      <th>HouseYear</th>\n",
       "      <th>Ecology_1</th>\n",
       "      <th>Ecology_2</th>\n",
       "      <th>Ecology_3</th>\n",
       "      <th>Social_1</th>\n",
       "      <th>Social_2</th>\n",
       "      <th>Social_3</th>\n",
       "      <th>Healthcare_1</th>\n",
       "      <th>Helthcare_2</th>\n",
       "      <th>Shops_1</th>\n",
       "      <th>Shops_2</th>\n",
       "    </tr>\n",
       "  </thead>\n",
       "  <tbody>\n",
       "    <tr>\n",
       "      <th>4995</th>\n",
       "      <td>10379</td>\n",
       "      <td>29</td>\n",
       "      <td>2.0</td>\n",
       "      <td>43.177521</td>\n",
       "      <td>30.339945</td>\n",
       "      <td>5.0</td>\n",
       "      <td>6</td>\n",
       "      <td>5.0</td>\n",
       "      <td>1962</td>\n",
       "      <td>0.069660</td>\n",
       "      <td>B</td>\n",
       "      <td>B</td>\n",
       "      <td>31</td>\n",
       "      <td>6119</td>\n",
       "      <td>4</td>\n",
       "      <td>NaN</td>\n",
       "      <td>1</td>\n",
       "      <td>2</td>\n",
       "      <td>B</td>\n",
       "    </tr>\n",
       "    <tr>\n",
       "      <th>4996</th>\n",
       "      <td>16138</td>\n",
       "      <td>38</td>\n",
       "      <td>3.0</td>\n",
       "      <td>93.698122</td>\n",
       "      <td>94.521465</td>\n",
       "      <td>10.0</td>\n",
       "      <td>21</td>\n",
       "      <td>27.0</td>\n",
       "      <td>2018</td>\n",
       "      <td>0.060753</td>\n",
       "      <td>B</td>\n",
       "      <td>B</td>\n",
       "      <td>15</td>\n",
       "      <td>2787</td>\n",
       "      <td>2</td>\n",
       "      <td>520.0</td>\n",
       "      <td>0</td>\n",
       "      <td>7</td>\n",
       "      <td>B</td>\n",
       "    </tr>\n",
       "    <tr>\n",
       "      <th>4997</th>\n",
       "      <td>3912</td>\n",
       "      <td>101</td>\n",
       "      <td>1.0</td>\n",
       "      <td>33.656723</td>\n",
       "      <td>19.003259</td>\n",
       "      <td>5.0</td>\n",
       "      <td>2</td>\n",
       "      <td>5.0</td>\n",
       "      <td>1966</td>\n",
       "      <td>0.038693</td>\n",
       "      <td>B</td>\n",
       "      <td>B</td>\n",
       "      <td>28</td>\n",
       "      <td>6533</td>\n",
       "      <td>1</td>\n",
       "      <td>1015.0</td>\n",
       "      <td>2</td>\n",
       "      <td>5</td>\n",
       "      <td>B</td>\n",
       "    </tr>\n",
       "    <tr>\n",
       "      <th>4998</th>\n",
       "      <td>5722</td>\n",
       "      <td>10</td>\n",
       "      <td>1.0</td>\n",
       "      <td>38.635155</td>\n",
       "      <td>20.976257</td>\n",
       "      <td>9.0</td>\n",
       "      <td>8</td>\n",
       "      <td>14.0</td>\n",
       "      <td>1970</td>\n",
       "      <td>0.089040</td>\n",
       "      <td>B</td>\n",
       "      <td>B</td>\n",
       "      <td>33</td>\n",
       "      <td>7976</td>\n",
       "      <td>5</td>\n",
       "      <td>NaN</td>\n",
       "      <td>0</td>\n",
       "      <td>11</td>\n",
       "      <td>B</td>\n",
       "    </tr>\n",
       "    <tr>\n",
       "      <th>4999</th>\n",
       "      <td>11004</td>\n",
       "      <td>21</td>\n",
       "      <td>2.0</td>\n",
       "      <td>67.122742</td>\n",
       "      <td>33.944344</td>\n",
       "      <td>13.0</td>\n",
       "      <td>9</td>\n",
       "      <td>17.0</td>\n",
       "      <td>2009</td>\n",
       "      <td>0.194489</td>\n",
       "      <td>B</td>\n",
       "      <td>B</td>\n",
       "      <td>47</td>\n",
       "      <td>8004</td>\n",
       "      <td>3</td>\n",
       "      <td>125.0</td>\n",
       "      <td>3</td>\n",
       "      <td>5</td>\n",
       "      <td>B</td>\n",
       "    </tr>\n",
       "  </tbody>\n",
       "</table>\n",
       "</div>"
      ],
      "text/plain": [
       "         Id  DistrictId  Rooms     Square  LifeSquare  KitchenSquare  Floor  \\\n",
       "4995  10379          29    2.0  43.177521   30.339945            5.0      6   \n",
       "4996  16138          38    3.0  93.698122   94.521465           10.0     21   \n",
       "4997   3912         101    1.0  33.656723   19.003259            5.0      2   \n",
       "4998   5722          10    1.0  38.635155   20.976257            9.0      8   \n",
       "4999  11004          21    2.0  67.122742   33.944344           13.0      9   \n",
       "\n",
       "      HouseFloor  HouseYear  Ecology_1 Ecology_2 Ecology_3  Social_1  \\\n",
       "4995         5.0       1962   0.069660         B         B        31   \n",
       "4996        27.0       2018   0.060753         B         B        15   \n",
       "4997         5.0       1966   0.038693         B         B        28   \n",
       "4998        14.0       1970   0.089040         B         B        33   \n",
       "4999        17.0       2009   0.194489         B         B        47   \n",
       "\n",
       "      Social_2  Social_3  Healthcare_1  Helthcare_2  Shops_1 Shops_2  \n",
       "4995      6119         4           NaN            1        2       B  \n",
       "4996      2787         2         520.0            0        7       B  \n",
       "4997      6533         1        1015.0            2        5       B  \n",
       "4998      7976         5           NaN            0       11       B  \n",
       "4999      8004         3         125.0            3        5       B  "
      ]
     },
     "execution_count": 8,
     "metadata": {},
     "output_type": "execute_result"
    }
   ],
   "source": [
    "test_df = pd.read_csv(TEST_DATASET_PATH)\n",
    "test_df.tail()"
   ]
  },
  {
   "cell_type": "markdown",
   "id": "0b754f99",
   "metadata": {
    "papermill": {
     "duration": 0.050502,
     "end_time": "2021-11-07T13:04:54.350750",
     "exception": false,
     "start_time": "2021-11-07T13:04:54.300248",
     "status": "completed"
    },
    "tags": []
   },
   "source": [
    "#### Приведение типов"
   ]
  },
  {
   "cell_type": "code",
   "execution_count": 9,
   "id": "c1a5e803",
   "metadata": {
    "execution": {
     "iopub.execute_input": "2021-11-07T13:04:54.457557Z",
     "iopub.status.busy": "2021-11-07T13:04:54.456816Z",
     "iopub.status.idle": "2021-11-07T13:04:54.465310Z",
     "shell.execute_reply": "2021-11-07T13:04:54.465891Z",
     "shell.execute_reply.started": "2021-11-07T12:36:18.576537Z"
    },
    "papermill": {
     "duration": 0.063782,
     "end_time": "2021-11-07T13:04:54.466120",
     "exception": false,
     "start_time": "2021-11-07T13:04:54.402338",
     "status": "completed"
    },
    "tags": []
   },
   "outputs": [
    {
     "data": {
      "text/plain": [
       "Id                 int64\n",
       "DistrictId         int64\n",
       "Rooms            float64\n",
       "Square           float64\n",
       "LifeSquare       float64\n",
       "KitchenSquare    float64\n",
       "Floor              int64\n",
       "HouseFloor       float64\n",
       "HouseYear          int64\n",
       "Ecology_1        float64\n",
       "Ecology_2         object\n",
       "Ecology_3         object\n",
       "Social_1           int64\n",
       "Social_2           int64\n",
       "Social_3           int64\n",
       "Healthcare_1     float64\n",
       "Helthcare_2        int64\n",
       "Shops_1            int64\n",
       "Shops_2           object\n",
       "Price            float64\n",
       "dtype: object"
      ]
     },
     "execution_count": 9,
     "metadata": {},
     "output_type": "execute_result"
    }
   ],
   "source": [
    "train_df.dtypes"
   ]
  },
  {
   "cell_type": "code",
   "execution_count": 10,
   "id": "1ffa2aa1",
   "metadata": {
    "execution": {
     "iopub.execute_input": "2021-11-07T13:04:54.572421Z",
     "iopub.status.busy": "2021-11-07T13:04:54.571566Z",
     "iopub.status.idle": "2021-11-07T13:04:54.593316Z",
     "shell.execute_reply": "2021-11-07T13:04:54.594151Z",
     "shell.execute_reply.started": "2021-11-07T12:36:18.585125Z"
    },
    "papermill": {
     "duration": 0.076691,
     "end_time": "2021-11-07T13:04:54.594397",
     "exception": false,
     "start_time": "2021-11-07T13:04:54.517706",
     "status": "completed"
    },
    "tags": []
   },
   "outputs": [
    {
     "data": {
      "text/plain": [
       "['Id',\n",
       " 'DistrictId',\n",
       " 'Rooms',\n",
       " 'Square',\n",
       " 'LifeSquare',\n",
       " 'KitchenSquare',\n",
       " 'Floor',\n",
       " 'HouseFloor',\n",
       " 'HouseYear',\n",
       " 'Ecology_1',\n",
       " 'Social_1',\n",
       " 'Social_2',\n",
       " 'Social_3',\n",
       " 'Healthcare_1',\n",
       " 'Helthcare_2',\n",
       " 'Shops_1',\n",
       " 'Price']"
      ]
     },
     "execution_count": 10,
     "metadata": {},
     "output_type": "execute_result"
    }
   ],
   "source": [
    "num_feat = list(train_df.select_dtypes(exclude='object').columns)\n",
    "obj_feat = list(train_df.select_dtypes(include='object').columns)\n",
    "target = 'Price'\n",
    "train_df['Id'] = train_df['Id'].astype(str)\n",
    "\n",
    "num_feat"
   ]
  },
  {
   "cell_type": "markdown",
   "id": "8b07d548",
   "metadata": {
    "papermill": {
     "duration": 0.052967,
     "end_time": "2021-11-07T13:04:54.699609",
     "exception": false,
     "start_time": "2021-11-07T13:04:54.646642",
     "status": "completed"
    },
    "tags": []
   },
   "source": [
    "#### Количество строк в тесте и трейне"
   ]
  },
  {
   "cell_type": "code",
   "execution_count": 11,
   "id": "f0d341c8",
   "metadata": {
    "execution": {
     "iopub.execute_input": "2021-11-07T13:04:54.812262Z",
     "iopub.status.busy": "2021-11-07T13:04:54.811441Z",
     "iopub.status.idle": "2021-11-07T13:04:54.817038Z",
     "shell.execute_reply": "2021-11-07T13:04:54.817651Z",
     "shell.execute_reply.started": "2021-11-07T12:36:18.604922Z"
    },
    "papermill": {
     "duration": 0.064229,
     "end_time": "2021-11-07T13:04:54.817860",
     "exception": false,
     "start_time": "2021-11-07T13:04:54.753631",
     "status": "completed"
    },
    "tags": []
   },
   "outputs": [
    {
     "name": "stdout",
     "output_type": "stream",
     "text": [
      "Строк в трейне: 10000\n",
      "Строк в тесте: 5000\n"
     ]
    }
   ],
   "source": [
    "print('Строк в трейне:', train_df.shape[0])\n",
    "print('Строк в тесте:', test_df.shape[0])"
   ]
  },
  {
   "cell_type": "code",
   "execution_count": 12,
   "id": "961c1974",
   "metadata": {
    "execution": {
     "iopub.execute_input": "2021-11-07T13:04:54.928462Z",
     "iopub.status.busy": "2021-11-07T13:04:54.927680Z",
     "iopub.status.idle": "2021-11-07T13:04:54.931287Z",
     "shell.execute_reply": "2021-11-07T13:04:54.931829Z",
     "shell.execute_reply.started": "2021-11-07T12:36:18.614143Z"
    },
    "papermill": {
     "duration": 0.061818,
     "end_time": "2021-11-07T13:04:54.932032",
     "exception": false,
     "start_time": "2021-11-07T13:04:54.870214",
     "status": "completed"
    },
    "tags": []
   },
   "outputs": [
    {
     "data": {
      "text/plain": [
       "True"
      ]
     },
     "execution_count": 12,
     "metadata": {},
     "output_type": "execute_result"
    }
   ],
   "source": [
    "train_df.shape[1] - 1 == test_df.shape[1]"
   ]
  },
  {
   "cell_type": "code",
   "execution_count": 13,
   "id": "eb1c161e",
   "metadata": {
    "execution": {
     "iopub.execute_input": "2021-11-07T13:04:55.042076Z",
     "iopub.status.busy": "2021-11-07T13:04:55.041254Z",
     "iopub.status.idle": "2021-11-07T13:04:55.060679Z",
     "shell.execute_reply": "2021-11-07T13:04:55.061282Z",
     "shell.execute_reply.started": "2021-11-07T12:36:18.627228Z"
    },
    "papermill": {
     "duration": 0.076485,
     "end_time": "2021-11-07T13:04:55.061517",
     "exception": false,
     "start_time": "2021-11-07T13:04:54.985032",
     "status": "completed"
    },
    "tags": []
   },
   "outputs": [],
   "source": [
    "submission_df = pd.read_csv('reports/sample_submission.csv')"
   ]
  },
  {
   "cell_type": "markdown",
   "id": "e4307e9e",
   "metadata": {
    "papermill": {
     "duration": 0.053655,
     "end_time": "2021-11-07T13:04:55.169733",
     "exception": false,
     "start_time": "2021-11-07T13:04:55.116078",
     "status": "completed"
    },
    "tags": []
   },
   "source": [
    "### Целевая переменная"
   ]
  },
  {
   "cell_type": "code",
   "execution_count": 14,
   "id": "9061cb74",
   "metadata": {
    "execution": {
     "iopub.execute_input": "2021-11-07T13:04:55.291079Z",
     "iopub.status.busy": "2021-11-07T13:04:55.282721Z",
     "iopub.status.idle": "2021-11-07T13:04:55.642783Z",
     "shell.execute_reply": "2021-11-07T13:04:55.642064Z",
     "shell.execute_reply.started": "2021-11-07T12:36:18.644196Z"
    },
    "papermill": {
     "duration": 0.416029,
     "end_time": "2021-11-07T13:04:55.642950",
     "exception": false,
     "start_time": "2021-11-07T13:04:55.226921",
     "status": "completed"
    },
    "tags": []
   },
   "outputs": [
    {
     "data": {
      "image/png": "[encoded data removed]",
      "text/plain": [
       "<Figure size 1152x576 with 1 Axes>"
      ]
     },
     "metadata": {
      "needs_background": "light"
     },
     "output_type": "display_data"
    }
   ],
   "source": [
    "plt.figure(figsize = (16, 8))\n",
    "\n",
    "train_df['Price'].hist(bins=30)\n",
    "plt.ylabel('Count')\n",
    "plt.xlabel('Price')\n",
    "\n",
    "plt.title('Target distribution')\n",
    "plt.show()"
   ]
  },
  {
   "cell_type": "markdown",
   "id": "a0a93129",
   "metadata": {
    "papermill": {
     "duration": 0.055575,
     "end_time": "2021-11-07T13:04:55.751001",
     "exception": false,
     "start_time": "2021-11-07T13:04:55.695426",
     "status": "completed"
    },
    "tags": []
   },
   "source": [
    "#### Количественные переменные."
   ]
  },
  {
   "cell_type": "code",
   "execution_count": 15,
   "id": "057c50c3",
   "metadata": {
    "execution": {
     "iopub.execute_input": "2021-11-07T13:04:55.865044Z",
     "iopub.status.busy": "2021-11-07T13:04:55.859885Z",
     "iopub.status.idle": "2021-11-07T13:04:55.927919Z",
     "shell.execute_reply": "2021-11-07T13:04:55.927243Z",
     "shell.execute_reply.started": "2021-11-07T12:36:18.958398Z"
    },
    "papermill": {
     "duration": 0.124478,
     "end_time": "2021-11-07T13:04:55.928089",
     "exception": false,
     "start_time": "2021-11-07T13:04:55.803611",
     "status": "completed"
    },
    "tags": []
   },
   "outputs": [
    {
     "data": {
      "text/html": [
       "<div>\n",
       "<style scoped>\n",
       "    .dataframe tbody tr th:only-of-type {\n",
       "        vertical-align: middle;\n",
       "    }\n",
       "\n",
       "    .dataframe tbody tr th {\n",
       "        vertical-align: top;\n",
       "    }\n",
       "\n",
       "    .dataframe thead th {\n",
       "        text-align: right;\n",
       "    }\n",
       "</style>\n",
       "<table border=\"1\" class=\"dataframe\">\n",
       "  <thead>\n",
       "    <tr style=\"text-align: right;\">\n",
       "      <th></th>\n",
       "      <th>DistrictId</th>\n",
       "      <th>Rooms</th>\n",
       "      <th>Square</th>\n",
       "      <th>LifeSquare</th>\n",
       "      <th>KitchenSquare</th>\n",
       "      <th>Floor</th>\n",
       "      <th>HouseFloor</th>\n",
       "      <th>HouseYear</th>\n",
       "      <th>Ecology_1</th>\n",
       "      <th>Social_1</th>\n",
       "      <th>Social_2</th>\n",
       "      <th>Social_3</th>\n",
       "      <th>Healthcare_1</th>\n",
       "      <th>Helthcare_2</th>\n",
       "      <th>Shops_1</th>\n",
       "      <th>Price</th>\n",
       "    </tr>\n",
       "  </thead>\n",
       "  <tbody>\n",
       "    <tr>\n",
       "      <th>count</th>\n",
       "      <td>10000.000000</td>\n",
       "      <td>10000.000000</td>\n",
       "      <td>10000.000000</td>\n",
       "      <td>7887.000000</td>\n",
       "      <td>10000.000000</td>\n",
       "      <td>10000.000000</td>\n",
       "      <td>10000.000000</td>\n",
       "      <td>1.000000e+04</td>\n",
       "      <td>10000.000000</td>\n",
       "      <td>10000.000000</td>\n",
       "      <td>10000.000000</td>\n",
       "      <td>10000.000000</td>\n",
       "      <td>5202.000000</td>\n",
       "      <td>10000.000000</td>\n",
       "      <td>10000.000000</td>\n",
       "      <td>10000.000000</td>\n",
       "    </tr>\n",
       "    <tr>\n",
       "      <th>mean</th>\n",
       "      <td>50.400800</td>\n",
       "      <td>1.890500</td>\n",
       "      <td>56.315775</td>\n",
       "      <td>37.199645</td>\n",
       "      <td>6.273300</td>\n",
       "      <td>8.526700</td>\n",
       "      <td>12.609400</td>\n",
       "      <td>3.990166e+03</td>\n",
       "      <td>0.118858</td>\n",
       "      <td>24.687000</td>\n",
       "      <td>5352.157400</td>\n",
       "      <td>8.039200</td>\n",
       "      <td>1142.904460</td>\n",
       "      <td>1.319500</td>\n",
       "      <td>4.231300</td>\n",
       "      <td>214138.857399</td>\n",
       "    </tr>\n",
       "    <tr>\n",
       "      <th>std</th>\n",
       "      <td>43.587592</td>\n",
       "      <td>0.839512</td>\n",
       "      <td>21.058732</td>\n",
       "      <td>86.241209</td>\n",
       "      <td>28.560917</td>\n",
       "      <td>5.241148</td>\n",
       "      <td>6.775974</td>\n",
       "      <td>2.005003e+05</td>\n",
       "      <td>0.119025</td>\n",
       "      <td>17.532614</td>\n",
       "      <td>4006.799803</td>\n",
       "      <td>23.831875</td>\n",
       "      <td>1021.517264</td>\n",
       "      <td>1.493601</td>\n",
       "      <td>4.806341</td>\n",
       "      <td>92872.293865</td>\n",
       "    </tr>\n",
       "    <tr>\n",
       "      <th>min</th>\n",
       "      <td>0.000000</td>\n",
       "      <td>0.000000</td>\n",
       "      <td>1.136859</td>\n",
       "      <td>0.370619</td>\n",
       "      <td>0.000000</td>\n",
       "      <td>1.000000</td>\n",
       "      <td>0.000000</td>\n",
       "      <td>1.910000e+03</td>\n",
       "      <td>0.000000</td>\n",
       "      <td>0.000000</td>\n",
       "      <td>168.000000</td>\n",
       "      <td>0.000000</td>\n",
       "      <td>0.000000</td>\n",
       "      <td>0.000000</td>\n",
       "      <td>0.000000</td>\n",
       "      <td>59174.778028</td>\n",
       "    </tr>\n",
       "    <tr>\n",
       "      <th>25%</th>\n",
       "      <td>20.000000</td>\n",
       "      <td>1.000000</td>\n",
       "      <td>41.774881</td>\n",
       "      <td>22.769832</td>\n",
       "      <td>1.000000</td>\n",
       "      <td>4.000000</td>\n",
       "      <td>9.000000</td>\n",
       "      <td>1.974000e+03</td>\n",
       "      <td>0.017647</td>\n",
       "      <td>6.000000</td>\n",
       "      <td>1564.000000</td>\n",
       "      <td>0.000000</td>\n",
       "      <td>350.000000</td>\n",
       "      <td>0.000000</td>\n",
       "      <td>1.000000</td>\n",
       "      <td>153872.633942</td>\n",
       "    </tr>\n",
       "    <tr>\n",
       "      <th>50%</th>\n",
       "      <td>36.000000</td>\n",
       "      <td>2.000000</td>\n",
       "      <td>52.513310</td>\n",
       "      <td>32.781260</td>\n",
       "      <td>6.000000</td>\n",
       "      <td>7.000000</td>\n",
       "      <td>13.000000</td>\n",
       "      <td>1.977000e+03</td>\n",
       "      <td>0.075424</td>\n",
       "      <td>25.000000</td>\n",
       "      <td>5285.000000</td>\n",
       "      <td>2.000000</td>\n",
       "      <td>900.000000</td>\n",
       "      <td>1.000000</td>\n",
       "      <td>3.000000</td>\n",
       "      <td>192269.644879</td>\n",
       "    </tr>\n",
       "    <tr>\n",
       "      <th>75%</th>\n",
       "      <td>75.000000</td>\n",
       "      <td>2.000000</td>\n",
       "      <td>65.900625</td>\n",
       "      <td>45.128803</td>\n",
       "      <td>9.000000</td>\n",
       "      <td>12.000000</td>\n",
       "      <td>17.000000</td>\n",
       "      <td>2.001000e+03</td>\n",
       "      <td>0.195781</td>\n",
       "      <td>36.000000</td>\n",
       "      <td>7227.000000</td>\n",
       "      <td>5.000000</td>\n",
       "      <td>1548.000000</td>\n",
       "      <td>2.000000</td>\n",
       "      <td>6.000000</td>\n",
       "      <td>249135.462171</td>\n",
       "    </tr>\n",
       "    <tr>\n",
       "      <th>max</th>\n",
       "      <td>209.000000</td>\n",
       "      <td>19.000000</td>\n",
       "      <td>641.065193</td>\n",
       "      <td>7480.592129</td>\n",
       "      <td>2014.000000</td>\n",
       "      <td>42.000000</td>\n",
       "      <td>117.000000</td>\n",
       "      <td>2.005201e+07</td>\n",
       "      <td>0.521867</td>\n",
       "      <td>74.000000</td>\n",
       "      <td>19083.000000</td>\n",
       "      <td>141.000000</td>\n",
       "      <td>4849.000000</td>\n",
       "      <td>6.000000</td>\n",
       "      <td>23.000000</td>\n",
       "      <td>633233.466570</td>\n",
       "    </tr>\n",
       "  </tbody>\n",
       "</table>\n",
       "</div>"
      ],
      "text/plain": [
       "         DistrictId         Rooms        Square   LifeSquare  KitchenSquare  \\\n",
       "count  10000.000000  10000.000000  10000.000000  7887.000000   10000.000000   \n",
       "mean      50.400800      1.890500     56.315775    37.199645       6.273300   \n",
       "std       43.587592      0.839512     21.058732    86.241209      28.560917   \n",
       "min        0.000000      0.000000      1.136859     0.370619       0.000000   \n",
       "25%       20.000000      1.000000     41.774881    22.769832       1.000000   \n",
       "50%       36.000000      2.000000     52.513310    32.781260       6.000000   \n",
       "75%       75.000000      2.000000     65.900625    45.128803       9.000000   \n",
       "max      209.000000     19.000000    641.065193  7480.592129    2014.000000   \n",
       "\n",
       "              Floor    HouseFloor     HouseYear     Ecology_1      Social_1  \\\n",
       "count  10000.000000  10000.000000  1.000000e+04  10000.000000  10000.000000   \n",
       "mean       8.526700     12.609400  3.990166e+03      0.118858     24.687000   \n",
       "std        5.241148      6.775974  2.005003e+05      0.119025     17.532614   \n",
       "min        1.000000      0.000000  1.910000e+03      0.000000      0.000000   \n",
       "25%        4.000000      9.000000  1.974000e+03      0.017647      6.000000   \n",
       "50%        7.000000     13.000000  1.977000e+03      0.075424     25.000000   \n",
       "75%       12.000000     17.000000  2.001000e+03      0.195781     36.000000   \n",
       "max       42.000000    117.000000  2.005201e+07      0.521867     74.000000   \n",
       "\n",
       "           Social_2      Social_3  Healthcare_1   Helthcare_2       Shops_1  \\\n",
       "count  10000.000000  10000.000000   5202.000000  10000.000000  10000.000000   \n",
       "mean    5352.157400      8.039200   1142.904460      1.319500      4.231300   \n",
       "std     4006.799803     23.831875   1021.517264      1.493601      4.806341   \n",
       "min      168.000000      0.000000      0.000000      0.000000      0.000000   \n",
       "25%     1564.000000      0.000000    350.000000      0.000000      1.000000   \n",
       "50%     5285.000000      2.000000    900.000000      1.000000      3.000000   \n",
       "75%     7227.000000      5.000000   1548.000000      2.000000      6.000000   \n",
       "max    19083.000000    141.000000   4849.000000      6.000000     23.000000   \n",
       "\n",
       "               Price  \n",
       "count   10000.000000  \n",
       "mean   214138.857399  \n",
       "std     92872.293865  \n",
       "min     59174.778028  \n",
       "25%    153872.633942  \n",
       "50%    192269.644879  \n",
       "75%    249135.462171  \n",
       "max    633233.466570  "
      ]
     },
     "execution_count": 15,
     "metadata": {},
     "output_type": "execute_result"
    }
   ],
   "source": [
    "train_df.describe()"
   ]
  },
  {
   "cell_type": "markdown",
   "id": "3cc925d9",
   "metadata": {
    "papermill": {
     "duration": 0.060044,
     "end_time": "2021-11-07T13:04:56.043823",
     "exception": false,
     "start_time": "2021-11-07T13:04:55.983779",
     "status": "completed"
    },
    "tags": []
   },
   "source": [
    "### Номинативные переменные"
   ]
  },
  {
   "cell_type": "code",
   "execution_count": 16,
   "id": "35a95e0c",
   "metadata": {
    "execution": {
     "iopub.execute_input": "2021-11-07T13:04:56.163628Z",
     "iopub.status.busy": "2021-11-07T13:04:56.162793Z",
     "iopub.status.idle": "2021-11-07T13:04:56.168175Z",
     "shell.execute_reply": "2021-11-07T13:04:56.168865Z",
     "shell.execute_reply.started": "2021-11-07T12:36:19.023705Z"
    },
    "papermill": {
     "duration": 0.066206,
     "end_time": "2021-11-07T13:04:56.169067",
     "exception": false,
     "start_time": "2021-11-07T13:04:56.102861",
     "status": "completed"
    },
    "tags": []
   },
   "outputs": [
    {
     "data": {
      "text/plain": [
       "['Id', 'Ecology_2', 'Ecology_3', 'Shops_2']"
      ]
     },
     "execution_count": 16,
     "metadata": {},
     "output_type": "execute_result"
    }
   ],
   "source": [
    "train_df.select_dtypes(include='object').columns.tolist()"
   ]
  },
  {
   "cell_type": "code",
   "execution_count": 17,
   "id": "89eb8ea5",
   "metadata": {
    "execution": {
     "iopub.execute_input": "2021-11-07T13:04:56.281861Z",
     "iopub.status.busy": "2021-11-07T13:04:56.281045Z",
     "iopub.status.idle": "2021-11-07T13:04:56.289598Z",
     "shell.execute_reply": "2021-11-07T13:04:56.290070Z",
     "shell.execute_reply.started": "2021-11-07T12:36:19.034300Z"
    },
    "papermill": {
     "duration": 0.065761,
     "end_time": "2021-11-07T13:04:56.290272",
     "exception": false,
     "start_time": "2021-11-07T13:04:56.224511",
     "status": "completed"
    },
    "tags": []
   },
   "outputs": [
    {
     "data": {
      "text/plain": [
       "27     851\n",
       "1      652\n",
       "23     565\n",
       "6      511\n",
       "9      294\n",
       "      ... \n",
       "196      1\n",
       "117      1\n",
       "205      1\n",
       "199      1\n",
       "207      1\n",
       "Name: DistrictId, Length: 205, dtype: int64"
      ]
     },
     "execution_count": 17,
     "metadata": {},
     "output_type": "execute_result"
    }
   ],
   "source": [
    "train_df['DistrictId'].value_counts()"
   ]
  },
  {
   "cell_type": "code",
   "execution_count": 18,
   "id": "c0aba616",
   "metadata": {
    "execution": {
     "iopub.execute_input": "2021-11-07T13:04:56.407825Z",
     "iopub.status.busy": "2021-11-07T13:04:56.407027Z",
     "iopub.status.idle": "2021-11-07T13:04:56.412452Z",
     "shell.execute_reply": "2021-11-07T13:04:56.413046Z",
     "shell.execute_reply.started": "2021-11-07T12:36:19.053542Z"
    },
    "papermill": {
     "duration": 0.068008,
     "end_time": "2021-11-07T13:04:56.413245",
     "exception": false,
     "start_time": "2021-11-07T13:04:56.345237",
     "status": "completed"
    },
    "tags": []
   },
   "outputs": [
    {
     "data": {
      "text/plain": [
       "B    9903\n",
       "A      97\n",
       "Name: Ecology_2, dtype: int64"
      ]
     },
     "execution_count": 18,
     "metadata": {},
     "output_type": "execute_result"
    }
   ],
   "source": [
    "train_df['Ecology_2'].value_counts()"
   ]
  },
  {
   "cell_type": "code",
   "execution_count": 19,
   "id": "5ab43df1",
   "metadata": {
    "execution": {
     "iopub.execute_input": "2021-11-07T13:04:56.534295Z",
     "iopub.status.busy": "2021-11-07T13:04:56.533222Z",
     "iopub.status.idle": "2021-11-07T13:04:56.538199Z",
     "shell.execute_reply": "2021-11-07T13:04:56.537525Z",
     "shell.execute_reply.started": "2021-11-07T12:36:19.065310Z"
    },
    "papermill": {
     "duration": 0.070582,
     "end_time": "2021-11-07T13:04:56.538373",
     "exception": false,
     "start_time": "2021-11-07T13:04:56.467791",
     "status": "completed"
    },
    "tags": []
   },
   "outputs": [
    {
     "data": {
      "text/plain": [
       "B    9725\n",
       "A     275\n",
       "Name: Ecology_3, dtype: int64"
      ]
     },
     "execution_count": 19,
     "metadata": {},
     "output_type": "execute_result"
    }
   ],
   "source": [
    "train_df['Ecology_3'].value_counts()"
   ]
  },
  {
   "cell_type": "code",
   "execution_count": 20,
   "id": "19c5f58a",
   "metadata": {
    "execution": {
     "iopub.execute_input": "2021-11-07T13:04:56.659824Z",
     "iopub.status.busy": "2021-11-07T13:04:56.659032Z",
     "iopub.status.idle": "2021-11-07T13:04:56.661735Z",
     "shell.execute_reply": "2021-11-07T13:04:56.662378Z",
     "shell.execute_reply.started": "2021-11-07T12:36:19.081232Z"
    },
    "papermill": {
     "duration": 0.068486,
     "end_time": "2021-11-07T13:04:56.662583",
     "exception": false,
     "start_time": "2021-11-07T13:04:56.594097",
     "status": "completed"
    },
    "tags": []
   },
   "outputs": [
    {
     "data": {
      "text/plain": [
       "B    9175\n",
       "A     825\n",
       "Name: Shops_2, dtype: int64"
      ]
     },
     "execution_count": 20,
     "metadata": {},
     "output_type": "execute_result"
    }
   ],
   "source": [
    "train_df['Shops_2'].value_counts()"
   ]
  },
  {
   "cell_type": "markdown",
   "id": "3a747a3c",
   "metadata": {
    "papermill": {
     "duration": 0.055367,
     "end_time": "2021-11-07T13:04:56.773076",
     "exception": false,
     "start_time": "2021-11-07T13:04:56.717709",
     "status": "completed"
    },
    "tags": []
   },
   "source": [
    "### Обработка выбросов"
   ]
  },
  {
   "cell_type": "markdown",
   "id": "733f1cc5",
   "metadata": {
    "papermill": {
     "duration": 0.056096,
     "end_time": "2021-11-07T13:04:56.883890",
     "exception": false,
     "start_time": "2021-11-07T13:04:56.827794",
     "status": "completed"
    },
    "tags": []
   },
   "source": [
    "#### Поиск выбросов"
   ]
  },
  {
   "cell_type": "code",
   "execution_count": 21,
   "id": "c683d56f",
   "metadata": {
    "execution": {
     "iopub.execute_input": "2021-11-07T13:04:57.008049Z",
     "iopub.status.busy": "2021-11-07T13:04:57.007229Z",
     "iopub.status.idle": "2021-11-07T13:04:59.633895Z",
     "shell.execute_reply": "2021-11-07T13:04:59.634576Z",
     "shell.execute_reply.started": "2021-11-07T12:36:19.093396Z"
    },
    "papermill": {
     "duration": 2.695743,
     "end_time": "2021-11-07T13:04:59.634790",
     "exception": false,
     "start_time": "2021-11-07T13:04:56.939047",
     "status": "completed"
    },
    "tags": []
   },
   "outputs": [
    {
     "data": {
      "image/png": "[encoded data removed]",
      "text/plain": [
       "<Figure size 1152x1152 with 16 Axes>"
      ]
     },
     "metadata": {
      "needs_background": "light"
     },
     "output_type": "display_data"
    }
   ],
   "source": [
    "train_df[list(train_df.select_dtypes(exclude='object').columns)].hist(\n",
    "    figsize=(16,16)\n",
    ")\n",
    "plt.show()"
   ]
  },
  {
   "cell_type": "code",
   "execution_count": 22,
   "id": "e7138ace",
   "metadata": {
    "execution": {
     "iopub.execute_input": "2021-11-07T13:04:59.760284Z",
     "iopub.status.busy": "2021-11-07T13:04:59.759506Z",
     "iopub.status.idle": "2021-11-07T13:04:59.821307Z",
     "shell.execute_reply": "2021-11-07T13:04:59.821925Z",
     "shell.execute_reply.started": "2021-11-07T12:36:21.280614Z"
    },
    "papermill": {
     "duration": 0.127588,
     "end_time": "2021-11-07T13:04:59.822135",
     "exception": false,
     "start_time": "2021-11-07T13:04:59.694547",
     "status": "completed"
    },
    "tags": []
   },
   "outputs": [
    {
     "data": {
      "text/html": [
       "<div>\n",
       "<style scoped>\n",
       "    .dataframe tbody tr th:only-of-type {\n",
       "        vertical-align: middle;\n",
       "    }\n",
       "\n",
       "    .dataframe tbody tr th {\n",
       "        vertical-align: top;\n",
       "    }\n",
       "\n",
       "    .dataframe thead th {\n",
       "        text-align: right;\n",
       "    }\n",
       "</style>\n",
       "<table border=\"1\" class=\"dataframe\">\n",
       "  <thead>\n",
       "    <tr style=\"text-align: right;\">\n",
       "      <th></th>\n",
       "      <th>count</th>\n",
       "      <th>mean</th>\n",
       "      <th>std</th>\n",
       "      <th>min</th>\n",
       "      <th>25%</th>\n",
       "      <th>50%</th>\n",
       "      <th>75%</th>\n",
       "      <th>max</th>\n",
       "    </tr>\n",
       "  </thead>\n",
       "  <tbody>\n",
       "    <tr>\n",
       "      <th>DistrictId</th>\n",
       "      <td>10000.0</td>\n",
       "      <td>50.400800</td>\n",
       "      <td>43.587592</td>\n",
       "      <td>0.000000</td>\n",
       "      <td>20.000000</td>\n",
       "      <td>36.000000</td>\n",
       "      <td>75.000000</td>\n",
       "      <td>2.090000e+02</td>\n",
       "    </tr>\n",
       "    <tr>\n",
       "      <th>Rooms</th>\n",
       "      <td>10000.0</td>\n",
       "      <td>1.890500</td>\n",
       "      <td>0.839512</td>\n",
       "      <td>0.000000</td>\n",
       "      <td>1.000000</td>\n",
       "      <td>2.000000</td>\n",
       "      <td>2.000000</td>\n",
       "      <td>1.900000e+01</td>\n",
       "    </tr>\n",
       "    <tr>\n",
       "      <th>Square</th>\n",
       "      <td>10000.0</td>\n",
       "      <td>56.315775</td>\n",
       "      <td>21.058732</td>\n",
       "      <td>1.136859</td>\n",
       "      <td>41.774881</td>\n",
       "      <td>52.513310</td>\n",
       "      <td>65.900625</td>\n",
       "      <td>6.410652e+02</td>\n",
       "    </tr>\n",
       "    <tr>\n",
       "      <th>LifeSquare</th>\n",
       "      <td>7887.0</td>\n",
       "      <td>37.199645</td>\n",
       "      <td>86.241209</td>\n",
       "      <td>0.370619</td>\n",
       "      <td>22.769832</td>\n",
       "      <td>32.781260</td>\n",
       "      <td>45.128803</td>\n",
       "      <td>7.480592e+03</td>\n",
       "    </tr>\n",
       "    <tr>\n",
       "      <th>KitchenSquare</th>\n",
       "      <td>10000.0</td>\n",
       "      <td>6.273300</td>\n",
       "      <td>28.560917</td>\n",
       "      <td>0.000000</td>\n",
       "      <td>1.000000</td>\n",
       "      <td>6.000000</td>\n",
       "      <td>9.000000</td>\n",
       "      <td>2.014000e+03</td>\n",
       "    </tr>\n",
       "    <tr>\n",
       "      <th>Floor</th>\n",
       "      <td>10000.0</td>\n",
       "      <td>8.526700</td>\n",
       "      <td>5.241148</td>\n",
       "      <td>1.000000</td>\n",
       "      <td>4.000000</td>\n",
       "      <td>7.000000</td>\n",
       "      <td>12.000000</td>\n",
       "      <td>4.200000e+01</td>\n",
       "    </tr>\n",
       "    <tr>\n",
       "      <th>HouseFloor</th>\n",
       "      <td>10000.0</td>\n",
       "      <td>12.609400</td>\n",
       "      <td>6.775974</td>\n",
       "      <td>0.000000</td>\n",
       "      <td>9.000000</td>\n",
       "      <td>13.000000</td>\n",
       "      <td>17.000000</td>\n",
       "      <td>1.170000e+02</td>\n",
       "    </tr>\n",
       "    <tr>\n",
       "      <th>HouseYear</th>\n",
       "      <td>10000.0</td>\n",
       "      <td>3990.166300</td>\n",
       "      <td>200500.261427</td>\n",
       "      <td>1910.000000</td>\n",
       "      <td>1974.000000</td>\n",
       "      <td>1977.000000</td>\n",
       "      <td>2001.000000</td>\n",
       "      <td>2.005201e+07</td>\n",
       "    </tr>\n",
       "    <tr>\n",
       "      <th>Ecology_1</th>\n",
       "      <td>10000.0</td>\n",
       "      <td>0.118858</td>\n",
       "      <td>0.119025</td>\n",
       "      <td>0.000000</td>\n",
       "      <td>0.017647</td>\n",
       "      <td>0.075424</td>\n",
       "      <td>0.195781</td>\n",
       "      <td>5.218671e-01</td>\n",
       "    </tr>\n",
       "    <tr>\n",
       "      <th>Social_1</th>\n",
       "      <td>10000.0</td>\n",
       "      <td>24.687000</td>\n",
       "      <td>17.532614</td>\n",
       "      <td>0.000000</td>\n",
       "      <td>6.000000</td>\n",
       "      <td>25.000000</td>\n",
       "      <td>36.000000</td>\n",
       "      <td>7.400000e+01</td>\n",
       "    </tr>\n",
       "    <tr>\n",
       "      <th>Social_2</th>\n",
       "      <td>10000.0</td>\n",
       "      <td>5352.157400</td>\n",
       "      <td>4006.799803</td>\n",
       "      <td>168.000000</td>\n",
       "      <td>1564.000000</td>\n",
       "      <td>5285.000000</td>\n",
       "      <td>7227.000000</td>\n",
       "      <td>1.908300e+04</td>\n",
       "    </tr>\n",
       "    <tr>\n",
       "      <th>Social_3</th>\n",
       "      <td>10000.0</td>\n",
       "      <td>8.039200</td>\n",
       "      <td>23.831875</td>\n",
       "      <td>0.000000</td>\n",
       "      <td>0.000000</td>\n",
       "      <td>2.000000</td>\n",
       "      <td>5.000000</td>\n",
       "      <td>1.410000e+02</td>\n",
       "    </tr>\n",
       "    <tr>\n",
       "      <th>Healthcare_1</th>\n",
       "      <td>5202.0</td>\n",
       "      <td>1142.904460</td>\n",
       "      <td>1021.517264</td>\n",
       "      <td>0.000000</td>\n",
       "      <td>350.000000</td>\n",
       "      <td>900.000000</td>\n",
       "      <td>1548.000000</td>\n",
       "      <td>4.849000e+03</td>\n",
       "    </tr>\n",
       "    <tr>\n",
       "      <th>Helthcare_2</th>\n",
       "      <td>10000.0</td>\n",
       "      <td>1.319500</td>\n",
       "      <td>1.493601</td>\n",
       "      <td>0.000000</td>\n",
       "      <td>0.000000</td>\n",
       "      <td>1.000000</td>\n",
       "      <td>2.000000</td>\n",
       "      <td>6.000000e+00</td>\n",
       "    </tr>\n",
       "    <tr>\n",
       "      <th>Shops_1</th>\n",
       "      <td>10000.0</td>\n",
       "      <td>4.231300</td>\n",
       "      <td>4.806341</td>\n",
       "      <td>0.000000</td>\n",
       "      <td>1.000000</td>\n",
       "      <td>3.000000</td>\n",
       "      <td>6.000000</td>\n",
       "      <td>2.300000e+01</td>\n",
       "    </tr>\n",
       "    <tr>\n",
       "      <th>Price</th>\n",
       "      <td>10000.0</td>\n",
       "      <td>214138.857399</td>\n",
       "      <td>92872.293865</td>\n",
       "      <td>59174.778028</td>\n",
       "      <td>153872.633942</td>\n",
       "      <td>192269.644879</td>\n",
       "      <td>249135.462171</td>\n",
       "      <td>6.332335e+05</td>\n",
       "    </tr>\n",
       "  </tbody>\n",
       "</table>\n",
       "</div>"
      ],
      "text/plain": [
       "                 count           mean            std           min  \\\n",
       "DistrictId     10000.0      50.400800      43.587592      0.000000   \n",
       "Rooms          10000.0       1.890500       0.839512      0.000000   \n",
       "Square         10000.0      56.315775      21.058732      1.136859   \n",
       "LifeSquare      7887.0      37.199645      86.241209      0.370619   \n",
       "KitchenSquare  10000.0       6.273300      28.560917      0.000000   \n",
       "Floor          10000.0       8.526700       5.241148      1.000000   \n",
       "HouseFloor     10000.0      12.609400       6.775974      0.000000   \n",
       "HouseYear      10000.0    3990.166300  200500.261427   1910.000000   \n",
       "Ecology_1      10000.0       0.118858       0.119025      0.000000   \n",
       "Social_1       10000.0      24.687000      17.532614      0.000000   \n",
       "Social_2       10000.0    5352.157400    4006.799803    168.000000   \n",
       "Social_3       10000.0       8.039200      23.831875      0.000000   \n",
       "Healthcare_1    5202.0    1142.904460    1021.517264      0.000000   \n",
       "Helthcare_2    10000.0       1.319500       1.493601      0.000000   \n",
       "Shops_1        10000.0       4.231300       4.806341      0.000000   \n",
       "Price          10000.0  214138.857399   92872.293865  59174.778028   \n",
       "\n",
       "                         25%            50%            75%           max  \n",
       "DistrictId         20.000000      36.000000      75.000000  2.090000e+02  \n",
       "Rooms               1.000000       2.000000       2.000000  1.900000e+01  \n",
       "Square             41.774881      52.513310      65.900625  6.410652e+02  \n",
       "LifeSquare         22.769832      32.781260      45.128803  7.480592e+03  \n",
       "KitchenSquare       1.000000       6.000000       9.000000  2.014000e+03  \n",
       "Floor               4.000000       7.000000      12.000000  4.200000e+01  \n",
       "HouseFloor          9.000000      13.000000      17.000000  1.170000e+02  \n",
       "HouseYear        1974.000000    1977.000000    2001.000000  2.005201e+07  \n",
       "Ecology_1           0.017647       0.075424       0.195781  5.218671e-01  \n",
       "Social_1            6.000000      25.000000      36.000000  7.400000e+01  \n",
       "Social_2         1564.000000    5285.000000    7227.000000  1.908300e+04  \n",
       "Social_3            0.000000       2.000000       5.000000  1.410000e+02  \n",
       "Healthcare_1      350.000000     900.000000    1548.000000  4.849000e+03  \n",
       "Helthcare_2         0.000000       1.000000       2.000000  6.000000e+00  \n",
       "Shops_1             1.000000       3.000000       6.000000  2.300000e+01  \n",
       "Price          153872.633942  192269.644879  249135.462171  6.332335e+05  "
      ]
     },
     "execution_count": 22,
     "metadata": {},
     "output_type": "execute_result"
    }
   ],
   "source": [
    "train_df.describe().T"
   ]
  },
  {
   "cell_type": "markdown",
   "id": "0d362baf",
   "metadata": {
    "papermill": {
     "duration": 0.05791,
     "end_time": "2021-11-07T13:04:59.938681",
     "exception": false,
     "start_time": "2021-11-07T13:04:59.880771",
     "status": "completed"
    },
    "tags": []
   },
   "source": [
    "#### Выбросы наблюдаются в: HouseYear, KitchenSquare.\n",
    "\n",
    "#### Признаки с аномально высоким значением, которые нужно будет ограничить: HouseFloor, LifeSquare, Rooms, Square."
   ]
  },
  {
   "cell_type": "markdown",
   "id": "963425b3",
   "metadata": {
    "papermill": {
     "duration": 0.05878,
     "end_time": "2021-11-07T13:05:00.057278",
     "exception": false,
     "start_time": "2021-11-07T13:04:59.998498",
     "status": "completed"
    },
    "tags": []
   },
   "source": [
    "#### Square"
   ]
  },
  {
   "cell_type": "code",
   "execution_count": 23,
   "id": "6d6107cc",
   "metadata": {
    "execution": {
     "iopub.execute_input": "2021-11-07T13:05:00.191789Z",
     "iopub.status.busy": "2021-11-07T13:05:00.188660Z",
     "iopub.status.idle": "2021-11-07T13:05:00.202814Z",
     "shell.execute_reply": "2021-11-07T13:05:00.201489Z",
     "shell.execute_reply.started": "2021-11-07T12:36:21.352783Z"
    },
    "papermill": {
     "duration": 0.080885,
     "end_time": "2021-11-07T13:05:00.203059",
     "exception": false,
     "start_time": "2021-11-07T13:05:00.122174",
     "status": "completed"
    },
    "tags": []
   },
   "outputs": [
    {
     "data": {
      "text/plain": [
       "7470      1.1\n",
       "4496      2.0\n",
       "9869      2.4\n",
       "8572      2.6\n",
       "161       3.0\n",
       "        ...  \n",
       "7644    212.9\n",
       "1906    275.6\n",
       "7010    409.4\n",
       "726     604.7\n",
       "9229    641.1\n",
       "Name: Square, Length: 10000, dtype: float64"
      ]
     },
     "execution_count": 23,
     "metadata": {},
     "output_type": "execute_result"
    }
   ],
   "source": [
    "train_df['Square'].sort_values().round(1)"
   ]
  },
  {
   "cell_type": "markdown",
   "id": "ce9205cf",
   "metadata": {
    "papermill": {
     "duration": 0.058175,
     "end_time": "2021-11-07T13:05:00.322931",
     "exception": false,
     "start_time": "2021-11-07T13:05:00.264756",
     "status": "completed"
    },
    "tags": []
   },
   "source": [
    "#### Rooms"
   ]
  },
  {
   "cell_type": "code",
   "execution_count": 24,
   "id": "edc5ca9f",
   "metadata": {
    "execution": {
     "iopub.execute_input": "2021-11-07T13:05:00.461780Z",
     "iopub.status.busy": "2021-11-07T13:05:00.460908Z",
     "iopub.status.idle": "2021-11-07T13:05:00.478272Z",
     "shell.execute_reply": "2021-11-07T13:05:00.478923Z",
     "shell.execute_reply.started": "2021-11-07T12:36:21.368504Z"
    },
    "papermill": {
     "duration": 0.095751,
     "end_time": "2021-11-07T13:05:00.479147",
     "exception": false,
     "start_time": "2021-11-07T13:05:00.383396",
     "status": "completed"
    },
    "tags": []
   },
   "outputs": [
    {
     "data": {
      "text/plain": [
       "2.0     3880\n",
       "1.0     3705\n",
       "3.0     2235\n",
       "4.0      150\n",
       "5.0       18\n",
       "0.0        8\n",
       "10.0       2\n",
       "6.0        1\n",
       "19.0       1\n",
       "Name: Rooms, dtype: int64"
      ]
     },
     "execution_count": 24,
     "metadata": {},
     "output_type": "execute_result"
    }
   ],
   "source": [
    "train_df['Rooms'].value_counts()"
   ]
  },
  {
   "cell_type": "markdown",
   "id": "613fb33c",
   "metadata": {
    "papermill": {
     "duration": 0.063068,
     "end_time": "2021-11-07T13:05:00.605282",
     "exception": false,
     "start_time": "2021-11-07T13:05:00.542214",
     "status": "completed"
    },
    "tags": []
   },
   "source": [
    "#### LifeSquare"
   ]
  },
  {
   "cell_type": "code",
   "execution_count": 25,
   "id": "6c394eda",
   "metadata": {
    "execution": {
     "iopub.execute_input": "2021-11-07T13:05:00.730793Z",
     "iopub.status.busy": "2021-11-07T13:05:00.729941Z",
     "iopub.status.idle": "2021-11-07T13:05:00.741581Z",
     "shell.execute_reply": "2021-11-07T13:05:00.742140Z",
     "shell.execute_reply.started": "2021-11-07T12:36:21.379718Z"
    },
    "papermill": {
     "duration": 0.07654,
     "end_time": "2021-11-07T13:05:00.742366",
     "exception": false,
     "start_time": "2021-11-07T13:05:00.665826",
     "status": "completed"
    },
    "tags": []
   },
   "outputs": [
    {
     "data": {
      "text/plain": [
       "3113    0.4\n",
       "1829    0.6\n",
       "119     0.8\n",
       "9869    0.9\n",
       "6882    1.0\n",
       "       ... \n",
       "9975    NaN\n",
       "9978    NaN\n",
       "9981    NaN\n",
       "9983    NaN\n",
       "9991    NaN\n",
       "Name: LifeSquare, Length: 10000, dtype: float64"
      ]
     },
     "execution_count": 25,
     "metadata": {},
     "output_type": "execute_result"
    }
   ],
   "source": [
    "train_df['LifeSquare'].sort_values().round(1)"
   ]
  },
  {
   "cell_type": "markdown",
   "id": "c0465a9b",
   "metadata": {
    "papermill": {
     "duration": 0.063693,
     "end_time": "2021-11-07T13:05:00.869124",
     "exception": false,
     "start_time": "2021-11-07T13:05:00.805431",
     "status": "completed"
    },
    "tags": []
   },
   "source": [
    "#### В 'LifeSquare' Помимо выбросов есть пропуски."
   ]
  },
  {
   "cell_type": "code",
   "execution_count": 26,
   "id": "c40e24f1",
   "metadata": {
    "execution": {
     "iopub.execute_input": "2021-11-07T13:05:00.996410Z",
     "iopub.status.busy": "2021-11-07T13:05:00.995615Z",
     "iopub.status.idle": "2021-11-07T13:05:01.010549Z",
     "shell.execute_reply": "2021-11-07T13:05:01.009452Z",
     "shell.execute_reply.started": "2021-11-07T12:36:21.398506Z"
    },
    "papermill": {
     "duration": 0.081142,
     "end_time": "2021-11-07T13:05:01.010822",
     "exception": false,
     "start_time": "2021-11-07T13:05:00.929680",
     "status": "completed"
    },
    "tags": []
   },
   "outputs": [],
   "source": [
    "train_df['LifeSquare_nan'] = train_df['LifeSquare'].isna() * 1\n",
    "\n",
    "condition = (train_df['LifeSquare'].isna()) \\\n",
    "             & (~train_df['Square'].isna()) \\\n",
    "             & (~train_df['KitchenSquare'].isna())\n",
    "        \n",
    "train_df.loc[condition, 'LifeSquare'] = train_df.loc[condition, 'Square'] \\\n",
    "                                            - train_df.loc[condition, 'KitchenSquare'] - 3"
   ]
  },
  {
   "cell_type": "markdown",
   "id": "bf72c613",
   "metadata": {
    "papermill": {
     "duration": 0.092269,
     "end_time": "2021-11-07T13:05:01.179607",
     "exception": false,
     "start_time": "2021-11-07T13:05:01.087338",
     "status": "completed"
    },
    "tags": []
   },
   "source": [
    "#### HouseFloor"
   ]
  },
  {
   "cell_type": "code",
   "execution_count": 27,
   "id": "c0b3ea0c",
   "metadata": {
    "execution": {
     "iopub.execute_input": "2021-11-07T13:05:01.326908Z",
     "iopub.status.busy": "2021-11-07T13:05:01.325132Z",
     "iopub.status.idle": "2021-11-07T13:05:01.343749Z",
     "shell.execute_reply": "2021-11-07T13:05:01.342690Z",
     "shell.execute_reply.started": "2021-11-07T12:36:21.411927Z"
    },
    "papermill": {
     "duration": 0.089603,
     "end_time": "2021-11-07T13:05:01.344026",
     "exception": false,
     "start_time": "2021-11-07T13:05:01.254423",
     "status": "completed"
    },
    "tags": []
   },
   "outputs": [
    {
     "data": {
      "text/plain": [
       "17.0     2331\n",
       "9.0      1389\n",
       "12.0     1074\n",
       "5.0      1031\n",
       "14.0      625\n",
       "16.0      576\n",
       "1.0       497\n",
       "25.0      374\n",
       "22.0      343\n",
       "0.0       269\n",
       "24.0      176\n",
       "8.0       141\n",
       "10.0      135\n",
       "4.0       134\n",
       "3.0       127\n",
       "15.0      123\n",
       "19.0      108\n",
       "20.0      105\n",
       "18.0       89\n",
       "7.0        59\n",
       "6.0        58\n",
       "2.0        48\n",
       "23.0       40\n",
       "21.0       33\n",
       "11.0       28\n",
       "13.0       27\n",
       "30.0       21\n",
       "40.0        7\n",
       "27.0        6\n",
       "37.0        4\n",
       "32.0        4\n",
       "28.0        3\n",
       "39.0        2\n",
       "48.0        2\n",
       "99.0        2\n",
       "29.0        1\n",
       "44.0        1\n",
       "47.0        1\n",
       "36.0        1\n",
       "31.0        1\n",
       "38.0        1\n",
       "117.0       1\n",
       "45.0        1\n",
       "26.0        1\n",
       "Name: HouseFloor, dtype: int64"
      ]
     },
     "execution_count": 27,
     "metadata": {},
     "output_type": "execute_result"
    }
   ],
   "source": [
    "train_df['HouseFloor'].value_counts()"
   ]
  },
  {
   "cell_type": "markdown",
   "id": "d83859fa",
   "metadata": {
    "papermill": {
     "duration": 0.065591,
     "end_time": "2021-11-07T13:05:01.482774",
     "exception": false,
     "start_time": "2021-11-07T13:05:01.417183",
     "status": "completed"
    },
    "tags": []
   },
   "source": [
    "#### KitchenSquare"
   ]
  },
  {
   "cell_type": "code",
   "execution_count": 28,
   "id": "308163c4",
   "metadata": {
    "execution": {
     "iopub.execute_input": "2021-11-07T13:05:01.624642Z",
     "iopub.status.busy": "2021-11-07T13:05:01.623786Z",
     "iopub.status.idle": "2021-11-07T13:05:01.634788Z",
     "shell.execute_reply": "2021-11-07T13:05:01.635512Z",
     "shell.execute_reply.started": "2021-11-07T12:36:21.427559Z"
    },
    "papermill": {
     "duration": 0.085298,
     "end_time": "2021-11-07T13:05:01.635725",
     "exception": false,
     "start_time": "2021-11-07T13:05:01.550427",
     "status": "completed"
    },
    "tags": []
   },
   "outputs": [
    {
     "data": {
      "text/plain": [
       "1.0       2460\n",
       "8.0       1306\n",
       "5.0       1169\n",
       "10.0      1075\n",
       "6.0       1038\n",
       "9.0        843\n",
       "0.0        697\n",
       "7.0        609\n",
       "12.0       249\n",
       "11.0       233\n",
       "13.0        67\n",
       "14.0        51\n",
       "4.0         39\n",
       "15.0        31\n",
       "3.0         22\n",
       "16.0        16\n",
       "20.0        14\n",
       "17.0        12\n",
       "19.0        11\n",
       "18.0         6\n",
       "2.0          4\n",
       "22.0         3\n",
       "112.0        2\n",
       "51.0         2\n",
       "58.0         2\n",
       "37.0         2\n",
       "32.0         2\n",
       "41.0         2\n",
       "43.0         2\n",
       "30.0         2\n",
       "25.0         2\n",
       "39.0         1\n",
       "23.0         1\n",
       "123.0        1\n",
       "40.0         1\n",
       "48.0         1\n",
       "21.0         1\n",
       "72.0         1\n",
       "27.0         1\n",
       "63.0         1\n",
       "1970.0       1\n",
       "29.0         1\n",
       "66.0         1\n",
       "2014.0       1\n",
       "31.0         1\n",
       "78.0         1\n",
       "35.0         1\n",
       "42.0         1\n",
       "73.0         1\n",
       "60.0         1\n",
       "84.0         1\n",
       "26.0         1\n",
       "54.0         1\n",
       "36.0         1\n",
       "53.0         1\n",
       "96.0         1\n",
       "62.0         1\n",
       "75.0         1\n",
       "Name: KitchenSquare, dtype: int64"
      ]
     },
     "execution_count": 28,
     "metadata": {},
     "output_type": "execute_result"
    }
   ],
   "source": [
    "train_df['KitchenSquare'].value_counts()"
   ]
  },
  {
   "cell_type": "code",
   "execution_count": 29,
   "id": "694754a3",
   "metadata": {
    "execution": {
     "iopub.execute_input": "2021-11-07T13:05:01.776660Z",
     "iopub.status.busy": "2021-11-07T13:05:01.775613Z",
     "iopub.status.idle": "2021-11-07T13:05:01.790280Z",
     "shell.execute_reply": "2021-11-07T13:05:01.791030Z",
     "shell.execute_reply.started": "2021-11-07T12:36:21.445497Z"
    },
    "papermill": {
     "duration": 0.085729,
     "end_time": "2021-11-07T13:05:01.791259",
     "exception": false,
     "start_time": "2021-11-07T13:05:01.705530",
     "status": "completed"
    },
    "tags": []
   },
   "outputs": [
    {
     "data": {
      "text/plain": [
       "Id                   0\n",
       "DistrictId           0\n",
       "Rooms                0\n",
       "Square               0\n",
       "LifeSquare           0\n",
       "KitchenSquare        0\n",
       "Floor                0\n",
       "HouseFloor           0\n",
       "HouseYear            0\n",
       "Ecology_1            0\n",
       "Ecology_2            0\n",
       "Ecology_3            0\n",
       "Social_1             0\n",
       "Social_2             0\n",
       "Social_3             0\n",
       "Healthcare_1      4798\n",
       "Helthcare_2          0\n",
       "Shops_1              0\n",
       "Shops_2              0\n",
       "Price                0\n",
       "LifeSquare_nan       0\n",
       "dtype: int64"
      ]
     },
     "execution_count": 29,
     "metadata": {},
     "output_type": "execute_result"
    }
   ],
   "source": [
    "train_df.isna().sum()"
   ]
  },
  {
   "cell_type": "markdown",
   "id": "4ed8843f",
   "metadata": {
    "papermill": {
     "duration": 0.065152,
     "end_time": "2021-11-07T13:05:01.923294",
     "exception": false,
     "start_time": "2021-11-07T13:05:01.858142",
     "status": "completed"
    },
    "tags": []
   },
   "source": [
    "#### Обработка оставшихся пропусков"
   ]
  },
  {
   "cell_type": "code",
   "execution_count": 30,
   "id": "5713c6eb",
   "metadata": {
    "execution": {
     "iopub.execute_input": "2021-11-07T13:05:02.055841Z",
     "iopub.status.busy": "2021-11-07T13:05:02.054540Z",
     "iopub.status.idle": "2021-11-07T13:05:02.084483Z",
     "shell.execute_reply": "2021-11-07T13:05:02.085150Z",
     "shell.execute_reply.started": "2021-11-07T12:36:21.465635Z"
    },
    "papermill": {
     "duration": 0.099243,
     "end_time": "2021-11-07T13:05:02.085379",
     "exception": false,
     "start_time": "2021-11-07T13:05:01.986136",
     "status": "completed"
    },
    "tags": []
   },
   "outputs": [],
   "source": [
    "class Data:\n",
    "    \n",
    "    def __init__(self):\n",
    "        \"\"\"Константы для обработки выбросов на основе анализа данных\"\"\"\n",
    "        self.Square_min = 15\n",
    "        self.Square_max = 300\n",
    "        \n",
    "        self.LifeSquare_min = 10\n",
    "        self.LifeSquare_max = 280\n",
    "        \n",
    "        self.Rooms_min = 1\n",
    "        self.Rooms_max = 5\n",
    "        \n",
    "        self.HouseFloor_min = 1\n",
    "        self.HouseFloor_max = 50\n",
    "        \n",
    "        self.KitchenSquare_min = 3\n",
    "        self.KitchenSquare_max = 30\n",
    "        \n",
    "        self.current_year = datetime.now().year\n",
    "        \n",
    "        self.medians = None\n",
    "        self.DistrictId_value_counts = None\n",
    "        self.SquareMeterPrice_by_DistrictId = None\n",
    "        self.Healthcare_1_by_DistrictId = None\n",
    "        \n",
    "        \n",
    "    def fit(self, train_df):\n",
    "        \n",
    "        # медианные значения\n",
    "        self.medians = train_df[['LifeSquare', 'HouseFloor']].median()\n",
    "        \n",
    "        # подсчет популярных районов\n",
    "        self.DistrictId_value_counts = dict(train_df['DistrictId'].value_counts())\n",
    "        \n",
    "        # подсчет средней цены за м2 по району\n",
    "        train_df_temp = train_df.loc[((train_df['Square'] > self.Square_min) & (train_df['Square'] < self.Square_max))]\n",
    "        train_df_temp[\"SquareMeterPrice\"] = train_df_temp[\"Price\"] / train_df_temp[\"Square\"]\n",
    "        self.SquareMeterPrice_by_DistrictId = train_df_temp.groupby('DistrictId', as_index=False)\\\n",
    "            .agg({'SquareMeterPrice': 'mean'})\\\n",
    "            .rename(columns={'SquareMeterPrice': 'AverageSquareMeterPrice'})\n",
    "        \n",
    "        # подсчет среднего значения признака Healthcare_1 по району\n",
    "        self.Healthcare_1_by_DistrictId = train_df.groupby('DistrictId', as_index=False)\\\n",
    "            .agg({'Healthcare_1': 'mean'})\\\n",
    "            .rename(columns={'Healthcare_1': 'AverageHealthcare_1'})\n",
    "        \n",
    "        del train_df_temp\n",
    "        \n",
    "    def transform(self, train_df):\n",
    "        \n",
    "        # Обработка пропусков\n",
    "        train_df['HouseFloor'] = train_df['HouseFloor'].fillna(self.medians)\n",
    "        \n",
    "        # Обработка выбросов\n",
    "        \n",
    "        # площадь\n",
    "        train_df.loc[(train_df['Square'] > self.Square_max), 'Square'] = self.Square_max\n",
    "        train_df.loc[(train_df['Square'] < self.Square_min), 'Square'] = self.Square_min\n",
    "        \n",
    "        # жилая площадь\n",
    "        train_df.loc[(train_df['LifeSquare'] < self.LifeSquare_min), 'LifeSquare'] = self.LifeSquare_min\n",
    "        train_df.loc[(train_df['LifeSquare'] > self.LifeSquare_max), 'LifeSquare'] = self.LifeSquare_max\n",
    "        \n",
    "        # площадь кухни\n",
    "        train_df.loc[(train_df['KitchenSquare'] < self.KitchenSquare_min), 'KitchenSquare'] = self.KitchenSquare_min\n",
    "        train_df.loc[(train_df['KitchenSquare'] > self.KitchenSquare_max), 'KitchenSquare'] = self.KitchenSquare_max\n",
    "        \n",
    "        # год постройки дома\n",
    "        train_df.loc[(train_df['HouseYear'] > self.current_year), 'HouseYear'] = self.current_year\n",
    "        \n",
    "        # количество комнат\n",
    "        train_df.loc[(train_df['Rooms'] > self.Rooms_max), 'Rooms'] = self.Rooms_max\n",
    "        train_df.loc[(train_df['Rooms'] < self.Rooms_min), 'Rooms'] = self.Rooms_min\n",
    "        \n",
    "        # количество этажей\n",
    "        train_df.loc[(train_df['HouseFloor'] < self.HouseFloor_min), 'HouseFloor'] = self.HouseFloor_min\n",
    "        train_df.loc[(train_df['HouseFloor'] > self.HouseFloor_max), 'HouseFloor'] = self.HouseFloor_max\n",
    "        \n",
    "        # если этаж больше этажности дома, то присваиваем случайный этаж от self.HouseFloor_min до максимального этажа в доме\n",
    "        floor_outliers = train_df.loc[train_df['Floor'] > train_df['HouseFloor']].index\n",
    "        train_df.loc[floor_outliers, 'Floor'] = train_df.loc[floor_outliers, 'HouseFloor'].apply(lambda x: self.HouseFloor_min if (self.HouseFloor_min == x) else np.random.randint(self.HouseFloor_min, x))\n",
    "        \n",
    "        # Обработка категорий\n",
    "        train_df = pd.concat([train_df, pd.get_dummies(train_df['Ecology_2'], prefix='Ecology_2', dtype='int8')], axis=1)\n",
    "        train_df = pd.concat([train_df, pd.get_dummies(train_df['Ecology_3'], prefix='Ecology_3', dtype='int8')], axis=1)\n",
    "        train_df = pd.concat([train_df, pd.get_dummies(train_df['Shops_2'], prefix='Shops_2', dtype='int8')], axis=1)\n",
    "        \n",
    "        return train_df\n",
    "    \n",
    "    def features(self, train_df):\n",
    "        \n",
    "        # добавление признака популярности района\n",
    "        train_df['DistrictId_counts'] = train_df['DistrictId'].map(self.DistrictId_value_counts)\n",
    "        train_df['DistrictId_counts'].fillna(train_df['DistrictId_counts'].median(), inplace=True)\n",
    "        \n",
    "        # добавление признака средней стоимости м2 по району\n",
    "        train_df = train_df.merge(self.SquareMeterPrice_by_DistrictId, on=[\"DistrictId\"], how='left')\n",
    "        train_df['AverageSquareMeterPrice'].fillna(train_df['AverageSquareMeterPrice'].median(), inplace=True)\n",
    "        \n",
    "        # добавление признака среднего значения Healthcare_1 по району\n",
    "        train_df = train_df.merge(self.Healthcare_1_by_DistrictId, on=[\"DistrictId\"], how='left')\n",
    "        train_df['AverageHealthcare_1'].fillna(train_df['AverageHealthcare_1'].median(), inplace=True)\n",
    "        \n",
    "        return train_df"
   ]
  },
  {
   "cell_type": "markdown",
   "id": "3c2ef11d",
   "metadata": {
    "papermill": {
     "duration": 0.066719,
     "end_time": "2021-11-07T13:05:02.217617",
     "exception": false,
     "start_time": "2021-11-07T13:05:02.150898",
     "status": "completed"
    },
    "tags": []
   },
   "source": [
    "#### Инициализация класса Data"
   ]
  },
  {
   "cell_type": "code",
   "execution_count": 31,
   "id": "2bb9251d",
   "metadata": {
    "execution": {
     "iopub.execute_input": "2021-11-07T13:05:02.347924Z",
     "iopub.status.busy": "2021-11-07T13:05:02.346795Z",
     "iopub.status.idle": "2021-11-07T13:05:02.469653Z",
     "shell.execute_reply": "2021-11-07T13:05:02.470261Z",
     "shell.execute_reply.started": "2021-11-07T12:36:21.494473Z"
    },
    "papermill": {
     "duration": 0.191091,
     "end_time": "2021-11-07T13:05:02.470505",
     "exception": false,
     "start_time": "2021-11-07T13:05:02.279414",
     "status": "completed"
    },
    "tags": []
   },
   "outputs": [],
   "source": [
    "data_inst = Data()\n",
    "\n",
    "# тренировочные данные\n",
    "data_inst.fit(train_df)\n",
    "train_df = data_inst.transform(train_df)\n",
    "train_df = data_inst.features(train_df)\n",
    "\n",
    "# тестовые данные\n",
    "test_df = data_inst.transform(test_df)\n",
    "test_df = data_inst.features(test_df)"
   ]
  },
  {
   "cell_type": "markdown",
   "id": "ec9d95ae",
   "metadata": {
    "papermill": {
     "duration": 0.065338,
     "end_time": "2021-11-07T13:05:02.599577",
     "exception": false,
     "start_time": "2021-11-07T13:05:02.534239",
     "status": "completed"
    },
    "tags": []
   },
   "source": [
    "#### Отбор признаков"
   ]
  },
  {
   "cell_type": "code",
   "execution_count": 32,
   "id": "f17b27ea",
   "metadata": {
    "execution": {
     "iopub.execute_input": "2021-11-07T13:05:02.741582Z",
     "iopub.status.busy": "2021-11-07T13:05:02.740658Z",
     "iopub.status.idle": "2021-11-07T13:05:02.744123Z",
     "shell.execute_reply": "2021-11-07T13:05:02.744650Z",
     "shell.execute_reply.started": "2021-11-07T12:36:21.601617Z"
    },
    "papermill": {
     "duration": 0.080153,
     "end_time": "2021-11-07T13:05:02.744850",
     "exception": false,
     "start_time": "2021-11-07T13:05:02.664697",
     "status": "completed"
    },
    "tags": []
   },
   "outputs": [
    {
     "data": {
      "text/plain": [
       "['Id',\n",
       " 'DistrictId',\n",
       " 'Rooms',\n",
       " 'Square',\n",
       " 'LifeSquare',\n",
       " 'KitchenSquare',\n",
       " 'Floor',\n",
       " 'HouseFloor',\n",
       " 'HouseYear',\n",
       " 'Ecology_1',\n",
       " 'Ecology_2',\n",
       " 'Ecology_3',\n",
       " 'Social_1',\n",
       " 'Social_2',\n",
       " 'Social_3',\n",
       " 'Healthcare_1',\n",
       " 'Helthcare_2',\n",
       " 'Shops_1',\n",
       " 'Shops_2',\n",
       " 'Price',\n",
       " 'LifeSquare_nan',\n",
       " 'Ecology_2_A',\n",
       " 'Ecology_2_B',\n",
       " 'Ecology_3_A',\n",
       " 'Ecology_3_B',\n",
       " 'Shops_2_A',\n",
       " 'Shops_2_B',\n",
       " 'DistrictId_counts',\n",
       " 'AverageSquareMeterPrice',\n",
       " 'AverageHealthcare_1']"
      ]
     },
     "execution_count": 32,
     "metadata": {},
     "output_type": "execute_result"
    }
   ],
   "source": [
    "train_df.columns.tolist()"
   ]
  },
  {
   "cell_type": "code",
   "execution_count": 33,
   "id": "453e7b43",
   "metadata": {
    "execution": {
     "iopub.execute_input": "2021-11-07T13:05:02.880376Z",
     "iopub.status.busy": "2021-11-07T13:05:02.879620Z",
     "iopub.status.idle": "2021-11-07T13:05:02.881866Z",
     "shell.execute_reply": "2021-11-07T13:05:02.882459Z",
     "shell.execute_reply.started": "2021-11-07T12:36:21.610682Z"
    },
    "papermill": {
     "duration": 0.073479,
     "end_time": "2021-11-07T13:05:02.882671",
     "exception": false,
     "start_time": "2021-11-07T13:05:02.809192",
     "status": "completed"
    },
    "tags": []
   },
   "outputs": [],
   "source": [
    "feature_names = ['AverageSquareMeterPrice', 'DistrictId_counts', 'Rooms', 'Square', 'LifeSquare', 'KitchenSquare', 'Floor',\n",
    "                    'HouseFloor', 'HouseYear', 'Helthcare_2', 'Ecology_1', 'Social_1', 'Social_2', 'Social_3',\n",
    "                    'Shops_1', 'Ecology_2_A', 'Ecology_2_B', 'Ecology_3_A', 'Ecology_3_B', 'Shops_2_A', 'Shops_2_B',\n",
    "                    'AverageHealthcare_1']\n",
    "target_name = 'Price'"
   ]
  },
  {
   "cell_type": "code",
   "execution_count": 34,
   "id": "35e0cafc",
   "metadata": {
    "execution": {
     "iopub.execute_input": "2021-11-07T13:05:03.018681Z",
     "iopub.status.busy": "2021-11-07T13:05:03.017256Z",
     "iopub.status.idle": "2021-11-07T13:05:03.028478Z",
     "shell.execute_reply": "2021-11-07T13:05:03.029084Z",
     "shell.execute_reply.started": "2021-11-07T12:36:21.621963Z"
    },
    "papermill": {
     "duration": 0.083298,
     "end_time": "2021-11-07T13:05:03.029297",
     "exception": false,
     "start_time": "2021-11-07T13:05:02.945999",
     "status": "completed"
    },
    "tags": []
   },
   "outputs": [],
   "source": [
    "train_df = train_df[feature_names + [target_name]]\n",
    "test_df = test_df[feature_names + ['Id']]\n",
    "X = train_df[feature_names]\n",
    "y = train_df[target_name]"
   ]
  },
  {
   "cell_type": "markdown",
   "id": "8df9a301",
   "metadata": {
    "papermill": {
     "duration": 0.06415,
     "end_time": "2021-11-07T13:05:03.161484",
     "exception": false,
     "start_time": "2021-11-07T13:05:03.097334",
     "status": "completed"
    },
    "tags": []
   },
   "source": [
    "### Разбиение на train и test"
   ]
  },
  {
   "cell_type": "markdown",
   "id": "0daeb29e",
   "metadata": {
    "papermill": {
     "duration": 0.063004,
     "end_time": "2021-11-07T13:05:03.289724",
     "exception": false,
     "start_time": "2021-11-07T13:05:03.226720",
     "status": "completed"
    },
    "tags": []
   },
   "source": [
    "### Обучение модели на CatBoostRegressor"
   ]
  },
  {
   "cell_type": "code",
   "execution_count": 35,
   "id": "8fc8c584",
   "metadata": {
    "execution": {
     "iopub.execute_input": "2021-11-07T13:05:03.428593Z",
     "iopub.status.busy": "2021-11-07T13:05:03.427610Z",
     "iopub.status.idle": "2021-11-07T13:05:41.514511Z",
     "shell.execute_reply": "2021-11-07T13:05:41.515241Z",
     "shell.execute_reply.started": "2021-11-07T12:36:21.643483Z"
    },
    "papermill": {
     "duration": 38.162075,
     "end_time": "2021-11-07T13:05:41.515483",
     "exception": false,
     "start_time": "2021-11-07T13:05:03.353408",
     "status": "completed"
    },
    "tags": []
   },
   "outputs": [],
   "source": [
    "final_model = CatBoostRegressor(\n",
    "    silent=True,\n",
    "    learning_rate=0.1,\n",
    "    iterations=1150,\n",
    "    eval_metric='R2',\n",
    "    depth=8\n",
    ")\n",
    "\n",
    "final_model.fit(X, y)\n",
    "\n",
    "cv_score = cross_val_score(\n",
    "    final_model,\n",
    "    X,\n",
    "    y,\n",
    "    scoring='r2',\n",
    "    cv=KFold(\n",
    "            n_splits=5,\n",
    "            shuffle=True,\n",
    "            random_state=42\n",
    "    )\n",
    ")"
   ]
  },
  {
   "cell_type": "markdown",
   "id": "58eab1da",
   "metadata": {
    "papermill": {
     "duration": 0.061846,
     "end_time": "2021-11-07T13:05:41.639765",
     "exception": false,
     "start_time": "2021-11-07T13:05:41.577919",
     "status": "completed"
    },
    "tags": []
   },
   "source": [
    "#### Оценка модели"
   ]
  },
  {
   "cell_type": "code",
   "execution_count": 36,
   "id": "d2b7493b",
   "metadata": {
    "execution": {
     "iopub.execute_input": "2021-11-07T13:05:41.773711Z",
     "iopub.status.busy": "2021-11-07T13:05:41.772958Z",
     "iopub.status.idle": "2021-11-07T13:05:41.778036Z",
     "shell.execute_reply": "2021-11-07T13:05:41.778540Z",
     "shell.execute_reply.started": "2021-11-07T12:37:21.541609Z"
    },
    "papermill": {
     "duration": 0.075013,
     "end_time": "2021-11-07T13:05:41.778749",
     "exception": false,
     "start_time": "2021-11-07T13:05:41.703736",
     "status": "completed"
    },
    "tags": []
   },
   "outputs": [
    {
     "name": "stdout",
     "output_type": "stream",
     "text": [
      "R2: 0.755\n"
     ]
    }
   ],
   "source": [
    "print(f'R2: {round(cv_score.mean(), 3)}')"
   ]
  },
  {
   "cell_type": "markdown",
   "id": "13856e7e",
   "metadata": {
    "papermill": {
     "duration": 0.064174,
     "end_time": "2021-11-07T13:05:41.909735",
     "exception": false,
     "start_time": "2021-11-07T13:05:41.845561",
     "status": "completed"
    },
    "tags": []
   },
   "source": [
    "#### Сортировка признаков по важности"
   ]
  },
  {
   "cell_type": "code",
   "execution_count": 37,
   "id": "b76ea5c2",
   "metadata": {
    "execution": {
     "iopub.execute_input": "2021-11-07T13:05:42.045812Z",
     "iopub.status.busy": "2021-11-07T13:05:42.045042Z",
     "iopub.status.idle": "2021-11-07T13:05:42.088844Z",
     "shell.execute_reply": "2021-11-07T13:05:42.088201Z",
     "shell.execute_reply.started": "2021-11-07T12:38:46.764279Z"
    },
    "papermill": {
     "duration": 0.115244,
     "end_time": "2021-11-07T13:05:42.089012",
     "exception": false,
     "start_time": "2021-11-07T13:05:41.973768",
     "status": "completed"
    },
    "tags": []
   },
   "outputs": [
    {
     "data": {
      "text/html": [
       "<div>\n",
       "<style scoped>\n",
       "    .dataframe tbody tr th:only-of-type {\n",
       "        vertical-align: middle;\n",
       "    }\n",
       "\n",
       "    .dataframe tbody tr th {\n",
       "        vertical-align: top;\n",
       "    }\n",
       "\n",
       "    .dataframe thead th {\n",
       "        text-align: right;\n",
       "    }\n",
       "</style>\n",
       "<table border=\"1\" class=\"dataframe\">\n",
       "  <thead>\n",
       "    <tr style=\"text-align: right;\">\n",
       "      <th></th>\n",
       "      <th>feature_name</th>\n",
       "      <th>importance</th>\n",
       "    </tr>\n",
       "  </thead>\n",
       "  <tbody>\n",
       "    <tr>\n",
       "      <th>3</th>\n",
       "      <td>Square</td>\n",
       "      <td>27.812398</td>\n",
       "    </tr>\n",
       "    <tr>\n",
       "      <th>0</th>\n",
       "      <td>AverageSquareMeterPrice</td>\n",
       "      <td>18.523992</td>\n",
       "    </tr>\n",
       "    <tr>\n",
       "      <th>8</th>\n",
       "      <td>HouseYear</td>\n",
       "      <td>8.213474</td>\n",
       "    </tr>\n",
       "    <tr>\n",
       "      <th>5</th>\n",
       "      <td>KitchenSquare</td>\n",
       "      <td>5.487547</td>\n",
       "    </tr>\n",
       "    <tr>\n",
       "      <th>4</th>\n",
       "      <td>LifeSquare</td>\n",
       "      <td>5.356457</td>\n",
       "    </tr>\n",
       "    <tr>\n",
       "      <th>7</th>\n",
       "      <td>HouseFloor</td>\n",
       "      <td>4.143636</td>\n",
       "    </tr>\n",
       "    <tr>\n",
       "      <th>1</th>\n",
       "      <td>DistrictId_counts</td>\n",
       "      <td>4.099713</td>\n",
       "    </tr>\n",
       "    <tr>\n",
       "      <th>6</th>\n",
       "      <td>Floor</td>\n",
       "      <td>4.051739</td>\n",
       "    </tr>\n",
       "    <tr>\n",
       "      <th>10</th>\n",
       "      <td>Ecology_1</td>\n",
       "      <td>3.898626</td>\n",
       "    </tr>\n",
       "    <tr>\n",
       "      <th>12</th>\n",
       "      <td>Social_2</td>\n",
       "      <td>3.650851</td>\n",
       "    </tr>\n",
       "    <tr>\n",
       "      <th>2</th>\n",
       "      <td>Rooms</td>\n",
       "      <td>3.463687</td>\n",
       "    </tr>\n",
       "    <tr>\n",
       "      <th>21</th>\n",
       "      <td>AverageHealthcare_1</td>\n",
       "      <td>3.463496</td>\n",
       "    </tr>\n",
       "    <tr>\n",
       "      <th>14</th>\n",
       "      <td>Shops_1</td>\n",
       "      <td>2.328620</td>\n",
       "    </tr>\n",
       "    <tr>\n",
       "      <th>13</th>\n",
       "      <td>Social_3</td>\n",
       "      <td>2.274975</td>\n",
       "    </tr>\n",
       "    <tr>\n",
       "      <th>11</th>\n",
       "      <td>Social_1</td>\n",
       "      <td>1.789352</td>\n",
       "    </tr>\n",
       "    <tr>\n",
       "      <th>9</th>\n",
       "      <td>Helthcare_2</td>\n",
       "      <td>1.111985</td>\n",
       "    </tr>\n",
       "    <tr>\n",
       "      <th>19</th>\n",
       "      <td>Shops_2_A</td>\n",
       "      <td>0.203045</td>\n",
       "    </tr>\n",
       "    <tr>\n",
       "      <th>18</th>\n",
       "      <td>Ecology_3_B</td>\n",
       "      <td>0.042747</td>\n",
       "    </tr>\n",
       "    <tr>\n",
       "      <th>20</th>\n",
       "      <td>Shops_2_B</td>\n",
       "      <td>0.041507</td>\n",
       "    </tr>\n",
       "    <tr>\n",
       "      <th>17</th>\n",
       "      <td>Ecology_3_A</td>\n",
       "      <td>0.033767</td>\n",
       "    </tr>\n",
       "  </tbody>\n",
       "</table>\n",
       "</div>"
      ],
      "text/plain": [
       "               feature_name  importance\n",
       "3                    Square   27.812398\n",
       "0   AverageSquareMeterPrice   18.523992\n",
       "8                 HouseYear    8.213474\n",
       "5             KitchenSquare    5.487547\n",
       "4                LifeSquare    5.356457\n",
       "7                HouseFloor    4.143636\n",
       "1         DistrictId_counts    4.099713\n",
       "6                     Floor    4.051739\n",
       "10                Ecology_1    3.898626\n",
       "12                 Social_2    3.650851\n",
       "2                     Rooms    3.463687\n",
       "21      AverageHealthcare_1    3.463496\n",
       "14                  Shops_1    2.328620\n",
       "13                 Social_3    2.274975\n",
       "11                 Social_1    1.789352\n",
       "9               Helthcare_2    1.111985\n",
       "19                Shops_2_A    0.203045\n",
       "18              Ecology_3_B    0.042747\n",
       "20                Shops_2_B    0.041507\n",
       "17              Ecology_3_A    0.033767"
      ]
     },
     "execution_count": 37,
     "metadata": {},
     "output_type": "execute_result"
    }
   ],
   "source": [
    "feature_importances = pd.DataFrame(\n",
    "    zip(X.columns, final_model.get_feature_importance()),\n",
    "    columns=['feature_name', 'importance']\n",
    ")\n",
    "\n",
    "feature_importances.sort_values(by='importance', ascending=False, inplace=True)\n",
    "feature_importances.head(20)"
   ]
  },
  {
   "cell_type": "markdown",
   "id": "b01397f1",
   "metadata": {
    "papermill": {
     "duration": 0.063696,
     "end_time": "2021-11-07T13:05:42.216444",
     "exception": false,
     "start_time": "2021-11-07T13:05:42.152748",
     "status": "completed"
    },
    "tags": []
   },
   "source": [
    "#### Прогнозирование на тестовом датасете"
   ]
  },
  {
   "cell_type": "code",
   "execution_count": 38,
   "id": "8259d9c6",
   "metadata": {
    "execution": {
     "iopub.execute_input": "2021-11-07T13:05:42.350486Z",
     "iopub.status.busy": "2021-11-07T13:05:42.349528Z",
     "iopub.status.idle": "2021-11-07T13:05:42.353852Z",
     "shell.execute_reply": "2021-11-07T13:05:42.353276Z",
     "shell.execute_reply.started": "2021-11-07T12:41:51.498482Z"
    },
    "papermill": {
     "duration": 0.073459,
     "end_time": "2021-11-07T13:05:42.354011",
     "exception": false,
     "start_time": "2021-11-07T13:05:42.280552",
     "status": "completed"
    },
    "tags": []
   },
   "outputs": [
    {
     "data": {
      "text/plain": [
       "(5000, 23)"
      ]
     },
     "execution_count": 38,
     "metadata": {},
     "output_type": "execute_result"
    }
   ],
   "source": [
    "test_df.shape"
   ]
  },
  {
   "cell_type": "code",
   "execution_count": 39,
   "id": "a6b5612f",
   "metadata": {
    "execution": {
     "iopub.execute_input": "2021-11-07T13:05:42.483061Z",
     "iopub.status.busy": "2021-11-07T13:05:42.482335Z",
     "iopub.status.idle": "2021-11-07T13:05:42.515604Z",
     "shell.execute_reply": "2021-11-07T13:05:42.516152Z",
     "shell.execute_reply.started": "2021-11-07T12:42:01.297415Z"
    },
    "papermill": {
     "duration": 0.10023,
     "end_time": "2021-11-07T13:05:42.516372",
     "exception": false,
     "start_time": "2021-11-07T13:05:42.416142",
     "status": "completed"
    },
    "tags": []
   },
   "outputs": [
    {
     "data": {
      "text/html": [
       "<div>\n",
       "<style scoped>\n",
       "    .dataframe tbody tr th:only-of-type {\n",
       "        vertical-align: middle;\n",
       "    }\n",
       "\n",
       "    .dataframe tbody tr th {\n",
       "        vertical-align: top;\n",
       "    }\n",
       "\n",
       "    .dataframe thead th {\n",
       "        text-align: right;\n",
       "    }\n",
       "</style>\n",
       "<table border=\"1\" class=\"dataframe\">\n",
       "  <thead>\n",
       "    <tr style=\"text-align: right;\">\n",
       "      <th></th>\n",
       "      <th>AverageSquareMeterPrice</th>\n",
       "      <th>DistrictId_counts</th>\n",
       "      <th>Rooms</th>\n",
       "      <th>Square</th>\n",
       "      <th>LifeSquare</th>\n",
       "      <th>KitchenSquare</th>\n",
       "      <th>Floor</th>\n",
       "      <th>HouseFloor</th>\n",
       "      <th>HouseYear</th>\n",
       "      <th>Helthcare_2</th>\n",
       "      <th>...</th>\n",
       "      <th>Social_3</th>\n",
       "      <th>Shops_1</th>\n",
       "      <th>Ecology_2_A</th>\n",
       "      <th>Ecology_2_B</th>\n",
       "      <th>Ecology_3_A</th>\n",
       "      <th>Ecology_3_B</th>\n",
       "      <th>Shops_2_A</th>\n",
       "      <th>Shops_2_B</th>\n",
       "      <th>AverageHealthcare_1</th>\n",
       "      <th>Id</th>\n",
       "    </tr>\n",
       "  </thead>\n",
       "  <tbody>\n",
       "    <tr>\n",
       "      <th>0</th>\n",
       "      <td>4572.483767</td>\n",
       "      <td>104.0</td>\n",
       "      <td>1.0</td>\n",
       "      <td>36.847630</td>\n",
       "      <td>19.094182</td>\n",
       "      <td>5.0</td>\n",
       "      <td>5</td>\n",
       "      <td>9.0</td>\n",
       "      <td>1970</td>\n",
       "      <td>1</td>\n",
       "      <td>...</td>\n",
       "      <td>0</td>\n",
       "      <td>1</td>\n",
       "      <td>0</td>\n",
       "      <td>1</td>\n",
       "      <td>0</td>\n",
       "      <td>1</td>\n",
       "      <td>0</td>\n",
       "      <td>1</td>\n",
       "      <td>905.979798</td>\n",
       "      <td>4567</td>\n",
       "    </tr>\n",
       "    <tr>\n",
       "      <th>1</th>\n",
       "      <td>2818.749357</td>\n",
       "      <td>247.0</td>\n",
       "      <td>1.0</td>\n",
       "      <td>42.493907</td>\n",
       "      <td>42.568133</td>\n",
       "      <td>10.0</td>\n",
       "      <td>7</td>\n",
       "      <td>17.0</td>\n",
       "      <td>2017</td>\n",
       "      <td>0</td>\n",
       "      <td>...</td>\n",
       "      <td>1</td>\n",
       "      <td>0</td>\n",
       "      <td>0</td>\n",
       "      <td>1</td>\n",
       "      <td>0</td>\n",
       "      <td>1</td>\n",
       "      <td>1</td>\n",
       "      <td>0</td>\n",
       "      <td>2300.000000</td>\n",
       "      <td>5925</td>\n",
       "    </tr>\n",
       "    <tr>\n",
       "      <th>2</th>\n",
       "      <td>2766.023246</td>\n",
       "      <td>851.0</td>\n",
       "      <td>2.0</td>\n",
       "      <td>59.463678</td>\n",
       "      <td>NaN</td>\n",
       "      <td>9.0</td>\n",
       "      <td>19</td>\n",
       "      <td>19.0</td>\n",
       "      <td>1977</td>\n",
       "      <td>0</td>\n",
       "      <td>...</td>\n",
       "      <td>0</td>\n",
       "      <td>1</td>\n",
       "      <td>0</td>\n",
       "      <td>1</td>\n",
       "      <td>0</td>\n",
       "      <td>1</td>\n",
       "      <td>0</td>\n",
       "      <td>1</td>\n",
       "      <td>832.258065</td>\n",
       "      <td>960</td>\n",
       "    </tr>\n",
       "    <tr>\n",
       "      <th>3</th>\n",
       "      <td>2284.108677</td>\n",
       "      <td>565.0</td>\n",
       "      <td>3.0</td>\n",
       "      <td>49.646030</td>\n",
       "      <td>33.893825</td>\n",
       "      <td>6.0</td>\n",
       "      <td>2</td>\n",
       "      <td>2.0</td>\n",
       "      <td>1965</td>\n",
       "      <td>0</td>\n",
       "      <td>...</td>\n",
       "      <td>0</td>\n",
       "      <td>0</td>\n",
       "      <td>0</td>\n",
       "      <td>1</td>\n",
       "      <td>0</td>\n",
       "      <td>1</td>\n",
       "      <td>0</td>\n",
       "      <td>1</td>\n",
       "      <td>0.000000</td>\n",
       "      <td>3848</td>\n",
       "    </tr>\n",
       "    <tr>\n",
       "      <th>4</th>\n",
       "      <td>3355.343060</td>\n",
       "      <td>114.0</td>\n",
       "      <td>1.0</td>\n",
       "      <td>53.837056</td>\n",
       "      <td>NaN</td>\n",
       "      <td>3.0</td>\n",
       "      <td>8</td>\n",
       "      <td>17.0</td>\n",
       "      <td>1977</td>\n",
       "      <td>0</td>\n",
       "      <td>...</td>\n",
       "      <td>4</td>\n",
       "      <td>6</td>\n",
       "      <td>0</td>\n",
       "      <td>1</td>\n",
       "      <td>0</td>\n",
       "      <td>1</td>\n",
       "      <td>0</td>\n",
       "      <td>1</td>\n",
       "      <td>832.258065</td>\n",
       "      <td>746</td>\n",
       "    </tr>\n",
       "    <tr>\n",
       "      <th>...</th>\n",
       "      <td>...</td>\n",
       "      <td>...</td>\n",
       "      <td>...</td>\n",
       "      <td>...</td>\n",
       "      <td>...</td>\n",
       "      <td>...</td>\n",
       "      <td>...</td>\n",
       "      <td>...</td>\n",
       "      <td>...</td>\n",
       "      <td>...</td>\n",
       "      <td>...</td>\n",
       "      <td>...</td>\n",
       "      <td>...</td>\n",
       "      <td>...</td>\n",
       "      <td>...</td>\n",
       "      <td>...</td>\n",
       "      <td>...</td>\n",
       "      <td>...</td>\n",
       "      <td>...</td>\n",
       "      <td>...</td>\n",
       "      <td>...</td>\n",
       "    </tr>\n",
       "    <tr>\n",
       "      <th>4995</th>\n",
       "      <td>4145.367548</td>\n",
       "      <td>89.0</td>\n",
       "      <td>2.0</td>\n",
       "      <td>43.177521</td>\n",
       "      <td>30.339945</td>\n",
       "      <td>5.0</td>\n",
       "      <td>4</td>\n",
       "      <td>5.0</td>\n",
       "      <td>1962</td>\n",
       "      <td>1</td>\n",
       "      <td>...</td>\n",
       "      <td>4</td>\n",
       "      <td>2</td>\n",
       "      <td>0</td>\n",
       "      <td>1</td>\n",
       "      <td>0</td>\n",
       "      <td>1</td>\n",
       "      <td>0</td>\n",
       "      <td>1</td>\n",
       "      <td>1783.400000</td>\n",
       "      <td>10379</td>\n",
       "    </tr>\n",
       "    <tr>\n",
       "      <th>4996</th>\n",
       "      <td>4515.795241</td>\n",
       "      <td>36.0</td>\n",
       "      <td>3.0</td>\n",
       "      <td>93.698122</td>\n",
       "      <td>94.521465</td>\n",
       "      <td>10.0</td>\n",
       "      <td>21</td>\n",
       "      <td>27.0</td>\n",
       "      <td>2018</td>\n",
       "      <td>0</td>\n",
       "      <td>...</td>\n",
       "      <td>2</td>\n",
       "      <td>7</td>\n",
       "      <td>0</td>\n",
       "      <td>1</td>\n",
       "      <td>0</td>\n",
       "      <td>1</td>\n",
       "      <td>0</td>\n",
       "      <td>1</td>\n",
       "      <td>520.000000</td>\n",
       "      <td>16138</td>\n",
       "    </tr>\n",
       "    <tr>\n",
       "      <th>4997</th>\n",
       "      <td>4177.749766</td>\n",
       "      <td>97.0</td>\n",
       "      <td>1.0</td>\n",
       "      <td>33.656723</td>\n",
       "      <td>19.003259</td>\n",
       "      <td>5.0</td>\n",
       "      <td>2</td>\n",
       "      <td>5.0</td>\n",
       "      <td>1966</td>\n",
       "      <td>2</td>\n",
       "      <td>...</td>\n",
       "      <td>1</td>\n",
       "      <td>5</td>\n",
       "      <td>0</td>\n",
       "      <td>1</td>\n",
       "      <td>0</td>\n",
       "      <td>1</td>\n",
       "      <td>0</td>\n",
       "      <td>1</td>\n",
       "      <td>1427.113402</td>\n",
       "      <td>3912</td>\n",
       "    </tr>\n",
       "    <tr>\n",
       "      <th>4998</th>\n",
       "      <td>4377.498005</td>\n",
       "      <td>56.0</td>\n",
       "      <td>1.0</td>\n",
       "      <td>38.635155</td>\n",
       "      <td>20.976257</td>\n",
       "      <td>9.0</td>\n",
       "      <td>8</td>\n",
       "      <td>14.0</td>\n",
       "      <td>1970</td>\n",
       "      <td>0</td>\n",
       "      <td>...</td>\n",
       "      <td>5</td>\n",
       "      <td>11</td>\n",
       "      <td>0</td>\n",
       "      <td>1</td>\n",
       "      <td>0</td>\n",
       "      <td>1</td>\n",
       "      <td>0</td>\n",
       "      <td>1</td>\n",
       "      <td>832.258065</td>\n",
       "      <td>5722</td>\n",
       "    </tr>\n",
       "    <tr>\n",
       "      <th>4999</th>\n",
       "      <td>4084.277065</td>\n",
       "      <td>165.0</td>\n",
       "      <td>2.0</td>\n",
       "      <td>67.122742</td>\n",
       "      <td>33.944344</td>\n",
       "      <td>13.0</td>\n",
       "      <td>9</td>\n",
       "      <td>17.0</td>\n",
       "      <td>2009</td>\n",
       "      <td>3</td>\n",
       "      <td>...</td>\n",
       "      <td>3</td>\n",
       "      <td>5</td>\n",
       "      <td>0</td>\n",
       "      <td>1</td>\n",
       "      <td>0</td>\n",
       "      <td>1</td>\n",
       "      <td>0</td>\n",
       "      <td>1</td>\n",
       "      <td>247.557692</td>\n",
       "      <td>11004</td>\n",
       "    </tr>\n",
       "  </tbody>\n",
       "</table>\n",
       "<p>5000 rows × 23 columns</p>\n",
       "</div>"
      ],
      "text/plain": [
       "      AverageSquareMeterPrice  DistrictId_counts  Rooms     Square  \\\n",
       "0                 4572.483767              104.0    1.0  36.847630   \n",
       "1                 2818.749357              247.0    1.0  42.493907   \n",
       "2                 2766.023246              851.0    2.0  59.463678   \n",
       "3                 2284.108677              565.0    3.0  49.646030   \n",
       "4                 3355.343060              114.0    1.0  53.837056   \n",
       "...                       ...                ...    ...        ...   \n",
       "4995              4145.367548               89.0    2.0  43.177521   \n",
       "4996              4515.795241               36.0    3.0  93.698122   \n",
       "4997              4177.749766               97.0    1.0  33.656723   \n",
       "4998              4377.498005               56.0    1.0  38.635155   \n",
       "4999              4084.277065              165.0    2.0  67.122742   \n",
       "\n",
       "      LifeSquare  KitchenSquare  Floor  HouseFloor  HouseYear  Helthcare_2  \\\n",
       "0      19.094182            5.0      5         9.0       1970            1   \n",
       "1      42.568133           10.0      7        17.0       2017            0   \n",
       "2            NaN            9.0     19        19.0       1977            0   \n",
       "3      33.893825            6.0      2         2.0       1965            0   \n",
       "4            NaN            3.0      8        17.0       1977            0   \n",
       "...          ...            ...    ...         ...        ...          ...   \n",
       "4995   30.339945            5.0      4         5.0       1962            1   \n",
       "4996   94.521465           10.0     21        27.0       2018            0   \n",
       "4997   19.003259            5.0      2         5.0       1966            2   \n",
       "4998   20.976257            9.0      8        14.0       1970            0   \n",
       "4999   33.944344           13.0      9        17.0       2009            3   \n",
       "\n",
       "      ...  Social_3  Shops_1  Ecology_2_A  Ecology_2_B  Ecology_3_A  \\\n",
       "0     ...         0        1            0            1            0   \n",
       "1     ...         1        0            0            1            0   \n",
       "2     ...         0        1            0            1            0   \n",
       "3     ...         0        0            0            1            0   \n",
       "4     ...         4        6            0            1            0   \n",
       "...   ...       ...      ...          ...          ...          ...   \n",
       "4995  ...         4        2            0            1            0   \n",
       "4996  ...         2        7            0            1            0   \n",
       "4997  ...         1        5            0            1            0   \n",
       "4998  ...         5       11            0            1            0   \n",
       "4999  ...         3        5            0            1            0   \n",
       "\n",
       "      Ecology_3_B  Shops_2_A  Shops_2_B  AverageHealthcare_1     Id  \n",
       "0               1          0          1           905.979798   4567  \n",
       "1               1          1          0          2300.000000   5925  \n",
       "2               1          0          1           832.258065    960  \n",
       "3               1          0          1             0.000000   3848  \n",
       "4               1          0          1           832.258065    746  \n",
       "...           ...        ...        ...                  ...    ...  \n",
       "4995            1          0          1          1783.400000  10379  \n",
       "4996            1          0          1           520.000000  16138  \n",
       "4997            1          0          1          1427.113402   3912  \n",
       "4998            1          0          1           832.258065   5722  \n",
       "4999            1          0          1           247.557692  11004  \n",
       "\n",
       "[5000 rows x 23 columns]"
      ]
     },
     "execution_count": 39,
     "metadata": {},
     "output_type": "execute_result"
    }
   ],
   "source": [
    "test_df"
   ]
  },
  {
   "cell_type": "code",
   "execution_count": 41,
   "id": "734d6c6e",
   "metadata": {
    "execution": {
     "iopub.execute_input": "2021-11-07T13:05:42.653109Z",
     "iopub.status.busy": "2021-11-07T13:05:42.652307Z",
     "iopub.status.idle": "2021-11-07T13:05:42.671434Z",
     "shell.execute_reply": "2021-11-07T13:05:42.670693Z",
     "shell.execute_reply.started": "2021-11-07T12:42:33.700195Z"
    },
    "papermill": {
     "duration": 0.091341,
     "end_time": "2021-11-07T13:05:42.671612",
     "exception": false,
     "start_time": "2021-11-07T13:05:42.580271",
     "status": "completed"
    },
    "tags": []
   },
   "outputs": [
    {
     "data": {
      "text/html": [
       "<div>\n",
       "<style scoped>\n",
       "    .dataframe tbody tr th:only-of-type {\n",
       "        vertical-align: middle;\n",
       "    }\n",
       "\n",
       "    .dataframe tbody tr th {\n",
       "        vertical-align: top;\n",
       "    }\n",
       "\n",
       "    .dataframe thead th {\n",
       "        text-align: right;\n",
       "    }\n",
       "</style>\n",
       "<table border=\"1\" class=\"dataframe\">\n",
       "  <thead>\n",
       "    <tr style=\"text-align: right;\">\n",
       "      <th></th>\n",
       "      <th>Id</th>\n",
       "      <th>Price</th>\n",
       "    </tr>\n",
       "  </thead>\n",
       "  <tbody>\n",
       "    <tr>\n",
       "      <th>0</th>\n",
       "      <td>4567</td>\n",
       "      <td>200000.0</td>\n",
       "    </tr>\n",
       "    <tr>\n",
       "      <th>1</th>\n",
       "      <td>5925</td>\n",
       "      <td>200000.0</td>\n",
       "    </tr>\n",
       "    <tr>\n",
       "      <th>2</th>\n",
       "      <td>960</td>\n",
       "      <td>200000.0</td>\n",
       "    </tr>\n",
       "    <tr>\n",
       "      <th>3</th>\n",
       "      <td>3848</td>\n",
       "      <td>200000.0</td>\n",
       "    </tr>\n",
       "    <tr>\n",
       "      <th>4</th>\n",
       "      <td>746</td>\n",
       "      <td>200000.0</td>\n",
       "    </tr>\n",
       "  </tbody>\n",
       "</table>\n",
       "</div>"
      ],
      "text/plain": [
       "     Id     Price\n",
       "0  4567  200000.0\n",
       "1  5925  200000.0\n",
       "2   960  200000.0\n",
       "3  3848  200000.0\n",
       "4   746  200000.0"
      ]
     },
     "execution_count": 41,
     "metadata": {},
     "output_type": "execute_result"
    }
   ],
   "source": [
    "submit = pd.read_csv('reports/sample_submission.csv')\n",
    "submit.head()"
   ]
  },
  {
   "cell_type": "code",
   "execution_count": 42,
   "id": "1ab24f1b",
   "metadata": {
    "execution": {
     "iopub.execute_input": "2021-11-07T13:05:42.817920Z",
     "iopub.status.busy": "2021-11-07T13:05:42.816778Z",
     "iopub.status.idle": "2021-11-07T13:05:42.821531Z",
     "shell.execute_reply": "2021-11-07T13:05:42.820930Z",
     "shell.execute_reply.started": "2021-11-07T12:49:59.543060Z"
    },
    "papermill": {
     "duration": 0.082253,
     "end_time": "2021-11-07T13:05:42.821710",
     "exception": false,
     "start_time": "2021-11-07T13:05:42.739457",
     "status": "completed"
    },
    "tags": []
   },
   "outputs": [],
   "source": [
    "preds_final = pd.DataFrame()\n",
    "preds_final['Id'] = test_df['Id'].copy()\n",
    "\n",
    "test_df.set_index('Id', inplace=True)\n",
    "test_df = test_df[feature_names]"
   ]
  },
  {
   "cell_type": "code",
   "execution_count": 43,
   "id": "c00a1ae0",
   "metadata": {
    "execution": {
     "iopub.execute_input": "2021-11-07T13:05:42.964560Z",
     "iopub.status.busy": "2021-11-07T13:05:42.958918Z",
     "iopub.status.idle": "2021-11-07T13:05:43.006496Z",
     "shell.execute_reply": "2021-11-07T13:05:43.005456Z",
     "shell.execute_reply.started": "2021-11-07T13:03:28.133399Z"
    },
    "papermill": {
     "duration": 0.117446,
     "end_time": "2021-11-07T13:05:43.006684",
     "exception": false,
     "start_time": "2021-11-07T13:05:42.889238",
     "status": "completed"
    },
    "tags": []
   },
   "outputs": [
    {
     "data": {
      "text/html": [
       "<div>\n",
       "<style scoped>\n",
       "    .dataframe tbody tr th:only-of-type {\n",
       "        vertical-align: middle;\n",
       "    }\n",
       "\n",
       "    .dataframe tbody tr th {\n",
       "        vertical-align: top;\n",
       "    }\n",
       "\n",
       "    .dataframe thead th {\n",
       "        text-align: right;\n",
       "    }\n",
       "</style>\n",
       "<table border=\"1\" class=\"dataframe\">\n",
       "  <thead>\n",
       "    <tr style=\"text-align: right;\">\n",
       "      <th></th>\n",
       "      <th>Id</th>\n",
       "      <th>Price</th>\n",
       "    </tr>\n",
       "  </thead>\n",
       "  <tbody>\n",
       "    <tr>\n",
       "      <th>0</th>\n",
       "      <td>4567</td>\n",
       "      <td>166777.904449</td>\n",
       "    </tr>\n",
       "    <tr>\n",
       "      <th>1</th>\n",
       "      <td>5925</td>\n",
       "      <td>110605.427051</td>\n",
       "    </tr>\n",
       "    <tr>\n",
       "      <th>2</th>\n",
       "      <td>960</td>\n",
       "      <td>141096.123309</td>\n",
       "    </tr>\n",
       "    <tr>\n",
       "      <th>3</th>\n",
       "      <td>3848</td>\n",
       "      <td>105167.892631</td>\n",
       "    </tr>\n",
       "    <tr>\n",
       "      <th>4</th>\n",
       "      <td>746</td>\n",
       "      <td>172058.301448</td>\n",
       "    </tr>\n",
       "  </tbody>\n",
       "</table>\n",
       "</div>"
      ],
      "text/plain": [
       "     Id          Price\n",
       "0  4567  166777.904449\n",
       "1  5925  110605.427051\n",
       "2   960  141096.123309\n",
       "3  3848  105167.892631\n",
       "4   746  172058.301448"
      ]
     },
     "execution_count": 43,
     "metadata": {},
     "output_type": "execute_result"
    }
   ],
   "source": [
    "cb_pred_final = final_model.predict(test_df)\n",
    "\n",
    "submission_df['Price'] = cb_pred_final\n",
    "submission_df.to_csv('cb_pred_final.csv', index=False, encoding='utf-8', sep=',')\n",
    "\n",
    "submission_df.head()"
   ]
  }
 ],
 "metadata": {
  "kernelspec": {
   "display_name": "Python 3",
   "language": "python",
   "name": "python3"
  },
  "language_info": {
   "codemirror_mode": {
    "name": "ipython",
    "version": 3
   },
   "file_extension": ".py",
   "mimetype": "text/x-python",
   "name": "python",
   "nbconvert_exporter": "python",
   "pygments_lexer": "ipython3",
   "version": "3.8.8"
  },
  "papermill": {
   "default_parameters": {},
   "duration": 64.544293,
   "end_time": "2021-11-07T13:05:44.286310",
   "environment_variables": {},
   "exception": null,
   "input_path": "__notebook__.ipynb",
   "output_path": "__notebook__.ipynb",
   "parameters": {},
   "start_time": "2021-11-07T13:04:39.742017",
   "version": "2.3.3"
  }
 },
 "nbformat": 4,
 "nbformat_minor": 5
}
