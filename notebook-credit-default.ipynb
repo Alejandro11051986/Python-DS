{
 "cells": [
  {
   "cell_type": "code",
   "execution_count": 1,
   "id": "a76f91e1",
   "metadata": {
    "_cell_guid": "b1076dfc-b9ad-4769-8c92-a6c4dae69d19",
    "_uuid": "8f2839f25d086af736a60e9eeb907d3b93b6e0e5",
    "execution": {
     "iopub.execute_input": "2021-12-12T12:03:54.916339Z",
     "iopub.status.busy": "2021-12-12T12:03:54.914605Z",
     "iopub.status.idle": "2021-12-12T12:03:54.930838Z",
     "shell.execute_reply": "2021-12-12T12:03:54.929818Z",
     "shell.execute_reply.started": "2021-12-12T12:03:25.211375Z"
    },
    "papermill": {
     "duration": 0.098909,
     "end_time": "2021-12-12T12:03:54.931086",
     "exception": false,
     "start_time": "2021-12-12T12:03:54.832177",
     "status": "completed"
    },
    "tags": []
   },
   "outputs": [
    {
     "name": "stdout",
     "output_type": "stream",
     "text": [
      "/kaggle/input/gb-credit-default/sample_submission.csv\n",
      "/kaggle/input/gb-credit-default/train.csv\n",
      "/kaggle/input/gb-credit-default/test.csv\n"
     ]
    }
   ],
   "source": [
    "# This Python 3 environment comes with many helpful analytics libraries installed\n",
    "# It is defined by the kaggle/python Docker image: https://github.com/kaggle/docker-python\n",
    "# For example, here's several helpful packages to load\n",
    "\n",
    "import numpy as np # linear algebra\n",
    "import pandas as pd # data processing, CSV file I/O (e.g. pd.read_csv)\n",
    "\n",
    "# Input data files are available in the read-only \"../input/\" directory\n",
    "# For example, running this (by clicking run or pressing Shift+Enter) will list all files under the input directory\n",
    "\n",
    "import os\n",
    "for dirname, _, filenames in os.walk('/kaggle/input'):\n",
    "    for filename in filenames:\n",
    "        print(os.path.join(dirname, filename))\n",
    "\n",
    "# You can write up to 20GB to the current directory (/kaggle/working/) that gets preserved as output when you create a version using \"Save & Run All\" \n",
    "# You can also write temporary files to /kaggle/temp/, but they won't be saved outside of the current session"
   ]
  },
  {
   "cell_type": "markdown",
   "id": "8e8ab4ad",
   "metadata": {
    "papermill": {
     "duration": 0.060458,
     "end_time": "2021-12-12T12:03:55.054451",
     "exception": false,
     "start_time": "2021-12-12T12:03:54.993993",
     "status": "completed"
    },
    "tags": []
   },
   "source": [
    "## Подключение библиотек и скриптов"
   ]
  },
  {
   "cell_type": "code",
   "execution_count": 2,
   "id": "f33737c6",
   "metadata": {
    "execution": {
     "iopub.execute_input": "2021-12-12T12:03:55.179903Z",
     "iopub.status.busy": "2021-12-12T12:03:55.179155Z",
     "iopub.status.idle": "2021-12-12T12:03:56.674679Z",
     "shell.execute_reply": "2021-12-12T12:03:56.673923Z",
     "shell.execute_reply.started": "2021-12-12T12:03:25.226038Z"
    },
    "papermill": {
     "duration": 1.562308,
     "end_time": "2021-12-12T12:03:56.674835",
     "exception": false,
     "start_time": "2021-12-12T12:03:55.112527",
     "status": "completed"
    },
    "tags": []
   },
   "outputs": [],
   "source": [
    "import numpy as np\n",
    "import pandas as pd\n",
    "\n",
    "import matplotlib.pyplot as plt\n",
    "import seaborn as sns\n",
    "%matplotlib inline\n",
    "\n",
    "from sklearn.tree import DecisionTreeClassifier\n",
    "from xgboost import XGBClassifier\n",
    "import catboost as catb\n",
    "from sklearn.model_selection import train_test_split, GridSearchCV\n",
    "from sklearn.metrics import (roc_auc_score, roc_curve, auc, confusion_matrix, \\\n",
    "                             accuracy_score, classification_report, plot_confusion_matrix, \\\n",
    "                             plot_precision_recall_curve, precision_recall_curve, recall_score,\n",
    "                             plot_roc_curve, f1_score)\n",
    "\n",
    "import warnings\n",
    "warnings.filterwarnings('ignore')"
   ]
  },
  {
   "cell_type": "code",
   "execution_count": 3,
   "id": "13f31285",
   "metadata": {
    "execution": {
     "iopub.execute_input": "2021-12-12T12:03:56.799210Z",
     "iopub.status.busy": "2021-12-12T12:03:56.798549Z",
     "iopub.status.idle": "2021-12-12T12:03:56.802949Z",
     "shell.execute_reply": "2021-12-12T12:03:56.803425Z",
     "shell.execute_reply.started": "2021-12-12T12:03:25.239489Z"
    },
    "papermill": {
     "duration": 0.0676,
     "end_time": "2021-12-12T12:03:56.803590",
     "exception": false,
     "start_time": "2021-12-12T12:03:56.735990",
     "status": "completed"
    },
    "tags": []
   },
   "outputs": [],
   "source": [
    "def evaluate_preds(model, X_train, X_valid, y_train, y_valid):\n",
    "    y_train_pred = model.predict(X_train)\n",
    "    y_valid_pred = model.predict(X_valid)\n",
    "    print(\"TRAIN\\n\", round(f1_score(y_train, y_train_pred), 3))\n",
    "    print(\"TEST\\n\", round(f1_score(y_valid, y_valid_pred), 3))\n",
    "    get_classification_report(y_train, y_train_pred, y_valid, y_valid_pred)"
   ]
  },
  {
   "cell_type": "code",
   "execution_count": 4,
   "id": "b1ec0f93",
   "metadata": {
    "execution": {
     "iopub.execute_input": "2021-12-12T12:03:56.920925Z",
     "iopub.status.busy": "2021-12-12T12:03:56.920298Z",
     "iopub.status.idle": "2021-12-12T12:03:56.924913Z",
     "shell.execute_reply": "2021-12-12T12:03:56.924033Z",
     "shell.execute_reply.started": "2021-12-12T12:03:25.253876Z"
    },
    "papermill": {
     "duration": 0.065228,
     "end_time": "2021-12-12T12:03:56.925063",
     "exception": false,
     "start_time": "2021-12-12T12:03:56.859835",
     "status": "completed"
    },
    "tags": []
   },
   "outputs": [],
   "source": [
    "def get_classification_report(y_train_true, y_train_pred, y_valid_true, y_valid_pred):\n",
    "    print('TRAIN\\n\\n' + classification_report(y_train_true, y_train_pred))\n",
    "    print('VALID\\n\\n' + classification_report(y_valid_true, y_valid_pred))\n",
    "    print('CONFUSION MATRIX\\n')\n",
    "    print(pd.crosstab(y_valid_true, y_valid_pred))"
   ]
  },
  {
   "cell_type": "markdown",
   "id": "652b63c0",
   "metadata": {
    "papermill": {
     "duration": 0.057577,
     "end_time": "2021-12-12T12:03:57.042031",
     "exception": false,
     "start_time": "2021-12-12T12:03:56.984454",
     "status": "completed"
    },
    "tags": []
   },
   "source": [
    "## Пути к директориям и файлам"
   ]
  },
  {
   "cell_type": "code",
   "execution_count": 5,
   "id": "55bbae76",
   "metadata": {
    "execution": {
     "iopub.execute_input": "2021-12-12T12:03:57.158053Z",
     "iopub.status.busy": "2021-12-12T12:03:57.157365Z",
     "iopub.status.idle": "2021-12-12T12:03:57.161713Z",
     "shell.execute_reply": "2021-12-12T12:03:57.161071Z",
     "shell.execute_reply.started": "2021-12-12T12:03:25.270369Z"
    },
    "papermill": {
     "duration": 0.063161,
     "end_time": "2021-12-12T12:03:57.161849",
     "exception": false,
     "start_time": "2021-12-12T12:03:57.098688",
     "status": "completed"
    },
    "tags": []
   },
   "outputs": [],
   "source": [
    "TRAIN_DATASET_PATH = '../input/gb-credit-default/train.csv'\n",
    "TEST_DATASET_PATH = '../input/gb-credit-default/test.csv'\n",
    "SAMPLE_SUBMIT_PATH = '../input/gb-credit-default/sample_submission.csv'"
   ]
  },
  {
   "cell_type": "markdown",
   "id": "57246775",
   "metadata": {
    "papermill": {
     "duration": 0.055577,
     "end_time": "2021-12-12T12:03:57.273786",
     "exception": false,
     "start_time": "2021-12-12T12:03:57.218209",
     "status": "completed"
    },
    "tags": []
   },
   "source": [
    "## Обзор данных"
   ]
  },
  {
   "cell_type": "markdown",
   "id": "8a9a2a9e",
   "metadata": {
    "papermill": {
     "duration": 0.05708,
     "end_time": "2021-12-12T12:03:57.386864",
     "exception": false,
     "start_time": "2021-12-12T12:03:57.329784",
     "status": "completed"
    },
    "tags": []
   },
   "source": [
    "#### Описание датасета\n",
    "* Home Ownership - домовладение\n",
    "* Annual Income - годовой доход\n",
    "* Years in current job - количество лет на текущем месте работы\n",
    "* Tax Liens - налоговые обременения\n",
    "* Number of Open Accounts - количество открытых счетов\n",
    "* Years of Credit History - количество лет кредитной истории\n",
    "* Maximum Open Credit - наибольший открытый кредит (максимальная сумма, которая когда-либо была доступна клиенту)\n",
    "* Number of Credit Problems - количество проблем с кредитом\n",
    "* Months since last delinquent - количество месяцев с последней просрочки платежа\n",
    "* Bankruptcies - банкротства\n",
    "* Purpose - цель кредита\n",
    "* Term - срок кредита\n",
    "* Current Loan Amount - текущая сумма кредита (сумма, которую еще предстоит выплатить клиенту)\n",
    "* Current Credit Balance - текущий кредитный баланс (сумма, которую может тратить клиент с кредитного счета)\n",
    "* Monthly Debt - ежемесячный долг\n",
    "* Credit Score - баллы кредитного рейтинга\n",
    "* Credit Default - факт невыполнения кредитных обязательств (0 - погашен вовремя, 1 - просрочка)"
   ]
  },
  {
   "cell_type": "code",
   "execution_count": 6,
   "id": "1b10e822",
   "metadata": {
    "execution": {
     "iopub.execute_input": "2021-12-12T12:03:57.506318Z",
     "iopub.status.busy": "2021-12-12T12:03:57.505634Z",
     "iopub.status.idle": "2021-12-12T12:03:57.571647Z",
     "shell.execute_reply": "2021-12-12T12:03:57.572075Z",
     "shell.execute_reply.started": "2021-12-12T12:03:25.283083Z"
    },
    "papermill": {
     "duration": 0.129119,
     "end_time": "2021-12-12T12:03:57.572261",
     "exception": false,
     "start_time": "2021-12-12T12:03:57.443142",
     "status": "completed"
    },
    "tags": []
   },
   "outputs": [
    {
     "data": {
      "text/html": [
       "<div>\n",
       "<style scoped>\n",
       "    .dataframe tbody tr th:only-of-type {\n",
       "        vertical-align: middle;\n",
       "    }\n",
       "\n",
       "    .dataframe tbody tr th {\n",
       "        vertical-align: top;\n",
       "    }\n",
       "\n",
       "    .dataframe thead th {\n",
       "        text-align: right;\n",
       "    }\n",
       "</style>\n",
       "<table border=\"1\" class=\"dataframe\">\n",
       "  <thead>\n",
       "    <tr style=\"text-align: right;\">\n",
       "      <th></th>\n",
       "      <th>Home Ownership</th>\n",
       "      <th>Annual Income</th>\n",
       "      <th>Years in current job</th>\n",
       "      <th>Tax Liens</th>\n",
       "      <th>Number of Open Accounts</th>\n",
       "      <th>Years of Credit History</th>\n",
       "      <th>Maximum Open Credit</th>\n",
       "      <th>Number of Credit Problems</th>\n",
       "      <th>Months since last delinquent</th>\n",
       "      <th>Bankruptcies</th>\n",
       "      <th>Purpose</th>\n",
       "      <th>Term</th>\n",
       "      <th>Current Loan Amount</th>\n",
       "      <th>Current Credit Balance</th>\n",
       "      <th>Monthly Debt</th>\n",
       "      <th>Credit Score</th>\n",
       "      <th>Credit Default</th>\n",
       "    </tr>\n",
       "  </thead>\n",
       "  <tbody>\n",
       "    <tr>\n",
       "      <th>0</th>\n",
       "      <td>Own Home</td>\n",
       "      <td>482087.0</td>\n",
       "      <td>NaN</td>\n",
       "      <td>0.0</td>\n",
       "      <td>11.0</td>\n",
       "      <td>26.3</td>\n",
       "      <td>685960.0</td>\n",
       "      <td>1.0</td>\n",
       "      <td>NaN</td>\n",
       "      <td>1.0</td>\n",
       "      <td>debt consolidation</td>\n",
       "      <td>Short Term</td>\n",
       "      <td>99999999.0</td>\n",
       "      <td>47386.0</td>\n",
       "      <td>7914.0</td>\n",
       "      <td>749.0</td>\n",
       "      <td>0</td>\n",
       "    </tr>\n",
       "    <tr>\n",
       "      <th>1</th>\n",
       "      <td>Own Home</td>\n",
       "      <td>1025487.0</td>\n",
       "      <td>10+ years</td>\n",
       "      <td>0.0</td>\n",
       "      <td>15.0</td>\n",
       "      <td>15.3</td>\n",
       "      <td>1181730.0</td>\n",
       "      <td>0.0</td>\n",
       "      <td>NaN</td>\n",
       "      <td>0.0</td>\n",
       "      <td>debt consolidation</td>\n",
       "      <td>Long Term</td>\n",
       "      <td>264968.0</td>\n",
       "      <td>394972.0</td>\n",
       "      <td>18373.0</td>\n",
       "      <td>737.0</td>\n",
       "      <td>1</td>\n",
       "    </tr>\n",
       "    <tr>\n",
       "      <th>2</th>\n",
       "      <td>Home Mortgage</td>\n",
       "      <td>751412.0</td>\n",
       "      <td>8 years</td>\n",
       "      <td>0.0</td>\n",
       "      <td>11.0</td>\n",
       "      <td>35.0</td>\n",
       "      <td>1182434.0</td>\n",
       "      <td>0.0</td>\n",
       "      <td>NaN</td>\n",
       "      <td>0.0</td>\n",
       "      <td>debt consolidation</td>\n",
       "      <td>Short Term</td>\n",
       "      <td>99999999.0</td>\n",
       "      <td>308389.0</td>\n",
       "      <td>13651.0</td>\n",
       "      <td>742.0</td>\n",
       "      <td>0</td>\n",
       "    </tr>\n",
       "    <tr>\n",
       "      <th>3</th>\n",
       "      <td>Own Home</td>\n",
       "      <td>805068.0</td>\n",
       "      <td>6 years</td>\n",
       "      <td>0.0</td>\n",
       "      <td>8.0</td>\n",
       "      <td>22.5</td>\n",
       "      <td>147400.0</td>\n",
       "      <td>1.0</td>\n",
       "      <td>NaN</td>\n",
       "      <td>1.0</td>\n",
       "      <td>debt consolidation</td>\n",
       "      <td>Short Term</td>\n",
       "      <td>121396.0</td>\n",
       "      <td>95855.0</td>\n",
       "      <td>11338.0</td>\n",
       "      <td>694.0</td>\n",
       "      <td>0</td>\n",
       "    </tr>\n",
       "    <tr>\n",
       "      <th>4</th>\n",
       "      <td>Rent</td>\n",
       "      <td>776264.0</td>\n",
       "      <td>8 years</td>\n",
       "      <td>0.0</td>\n",
       "      <td>13.0</td>\n",
       "      <td>13.6</td>\n",
       "      <td>385836.0</td>\n",
       "      <td>1.0</td>\n",
       "      <td>NaN</td>\n",
       "      <td>0.0</td>\n",
       "      <td>debt consolidation</td>\n",
       "      <td>Short Term</td>\n",
       "      <td>125840.0</td>\n",
       "      <td>93309.0</td>\n",
       "      <td>7180.0</td>\n",
       "      <td>719.0</td>\n",
       "      <td>0</td>\n",
       "    </tr>\n",
       "  </tbody>\n",
       "</table>\n",
       "</div>"
      ],
      "text/plain": [
       "  Home Ownership  Annual Income Years in current job  Tax Liens  \\\n",
       "0       Own Home       482087.0                  NaN        0.0   \n",
       "1       Own Home      1025487.0            10+ years        0.0   \n",
       "2  Home Mortgage       751412.0              8 years        0.0   \n",
       "3       Own Home       805068.0              6 years        0.0   \n",
       "4           Rent       776264.0              8 years        0.0   \n",
       "\n",
       "   Number of Open Accounts  Years of Credit History  Maximum Open Credit  \\\n",
       "0                     11.0                     26.3             685960.0   \n",
       "1                     15.0                     15.3            1181730.0   \n",
       "2                     11.0                     35.0            1182434.0   \n",
       "3                      8.0                     22.5             147400.0   \n",
       "4                     13.0                     13.6             385836.0   \n",
       "\n",
       "   Number of Credit Problems  Months since last delinquent  Bankruptcies  \\\n",
       "0                        1.0                           NaN           1.0   \n",
       "1                        0.0                           NaN           0.0   \n",
       "2                        0.0                           NaN           0.0   \n",
       "3                        1.0                           NaN           1.0   \n",
       "4                        1.0                           NaN           0.0   \n",
       "\n",
       "              Purpose        Term  Current Loan Amount  \\\n",
       "0  debt consolidation  Short Term           99999999.0   \n",
       "1  debt consolidation   Long Term             264968.0   \n",
       "2  debt consolidation  Short Term           99999999.0   \n",
       "3  debt consolidation  Short Term             121396.0   \n",
       "4  debt consolidation  Short Term             125840.0   \n",
       "\n",
       "   Current Credit Balance  Monthly Debt  Credit Score  Credit Default  \n",
       "0                 47386.0        7914.0         749.0               0  \n",
       "1                394972.0       18373.0         737.0               1  \n",
       "2                308389.0       13651.0         742.0               0  \n",
       "3                 95855.0       11338.0         694.0               0  \n",
       "4                 93309.0        7180.0         719.0               0  "
      ]
     },
     "execution_count": 6,
     "metadata": {},
     "output_type": "execute_result"
    }
   ],
   "source": [
    "df_train = pd.read_csv(TRAIN_DATASET_PATH)\n",
    "df_train.head()"
   ]
  },
  {
   "cell_type": "code",
   "execution_count": 7,
   "id": "ddc8675e",
   "metadata": {
    "execution": {
     "iopub.execute_input": "2021-12-12T12:03:57.693242Z",
     "iopub.status.busy": "2021-12-12T12:03:57.692307Z",
     "iopub.status.idle": "2021-12-12T12:03:57.733039Z",
     "shell.execute_reply": "2021-12-12T12:03:57.733513Z",
     "shell.execute_reply.started": "2021-12-12T12:03:25.343999Z"
    },
    "papermill": {
     "duration": 0.103197,
     "end_time": "2021-12-12T12:03:57.733690",
     "exception": false,
     "start_time": "2021-12-12T12:03:57.630493",
     "status": "completed"
    },
    "tags": []
   },
   "outputs": [
    {
     "data": {
      "text/html": [
       "<div>\n",
       "<style scoped>\n",
       "    .dataframe tbody tr th:only-of-type {\n",
       "        vertical-align: middle;\n",
       "    }\n",
       "\n",
       "    .dataframe tbody tr th {\n",
       "        vertical-align: top;\n",
       "    }\n",
       "\n",
       "    .dataframe thead th {\n",
       "        text-align: right;\n",
       "    }\n",
       "</style>\n",
       "<table border=\"1\" class=\"dataframe\">\n",
       "  <thead>\n",
       "    <tr style=\"text-align: right;\">\n",
       "      <th></th>\n",
       "      <th>Home Ownership</th>\n",
       "      <th>Annual Income</th>\n",
       "      <th>Years in current job</th>\n",
       "      <th>Tax Liens</th>\n",
       "      <th>Number of Open Accounts</th>\n",
       "      <th>Years of Credit History</th>\n",
       "      <th>Maximum Open Credit</th>\n",
       "      <th>Number of Credit Problems</th>\n",
       "      <th>Months since last delinquent</th>\n",
       "      <th>Bankruptcies</th>\n",
       "      <th>Purpose</th>\n",
       "      <th>Term</th>\n",
       "      <th>Current Loan Amount</th>\n",
       "      <th>Current Credit Balance</th>\n",
       "      <th>Monthly Debt</th>\n",
       "      <th>Credit Score</th>\n",
       "    </tr>\n",
       "  </thead>\n",
       "  <tbody>\n",
       "    <tr>\n",
       "      <th>0</th>\n",
       "      <td>Rent</td>\n",
       "      <td>NaN</td>\n",
       "      <td>4 years</td>\n",
       "      <td>0.0</td>\n",
       "      <td>9.0</td>\n",
       "      <td>12.5</td>\n",
       "      <td>220968.0</td>\n",
       "      <td>0.0</td>\n",
       "      <td>70.0</td>\n",
       "      <td>0.0</td>\n",
       "      <td>debt consolidation</td>\n",
       "      <td>Short Term</td>\n",
       "      <td>162470.0</td>\n",
       "      <td>105906.0</td>\n",
       "      <td>6813.0</td>\n",
       "      <td>NaN</td>\n",
       "    </tr>\n",
       "    <tr>\n",
       "      <th>1</th>\n",
       "      <td>Rent</td>\n",
       "      <td>231838.0</td>\n",
       "      <td>1 year</td>\n",
       "      <td>0.0</td>\n",
       "      <td>6.0</td>\n",
       "      <td>32.7</td>\n",
       "      <td>55946.0</td>\n",
       "      <td>0.0</td>\n",
       "      <td>8.0</td>\n",
       "      <td>0.0</td>\n",
       "      <td>educational expenses</td>\n",
       "      <td>Short Term</td>\n",
       "      <td>78298.0</td>\n",
       "      <td>46037.0</td>\n",
       "      <td>2318.0</td>\n",
       "      <td>699.0</td>\n",
       "    </tr>\n",
       "    <tr>\n",
       "      <th>2</th>\n",
       "      <td>Home Mortgage</td>\n",
       "      <td>1152540.0</td>\n",
       "      <td>3 years</td>\n",
       "      <td>0.0</td>\n",
       "      <td>10.0</td>\n",
       "      <td>13.7</td>\n",
       "      <td>204600.0</td>\n",
       "      <td>0.0</td>\n",
       "      <td>NaN</td>\n",
       "      <td>0.0</td>\n",
       "      <td>debt consolidation</td>\n",
       "      <td>Short Term</td>\n",
       "      <td>200178.0</td>\n",
       "      <td>146490.0</td>\n",
       "      <td>18729.0</td>\n",
       "      <td>7260.0</td>\n",
       "    </tr>\n",
       "    <tr>\n",
       "      <th>3</th>\n",
       "      <td>Home Mortgage</td>\n",
       "      <td>1220313.0</td>\n",
       "      <td>10+ years</td>\n",
       "      <td>0.0</td>\n",
       "      <td>16.0</td>\n",
       "      <td>17.0</td>\n",
       "      <td>456302.0</td>\n",
       "      <td>0.0</td>\n",
       "      <td>70.0</td>\n",
       "      <td>0.0</td>\n",
       "      <td>debt consolidation</td>\n",
       "      <td>Short Term</td>\n",
       "      <td>217382.0</td>\n",
       "      <td>213199.0</td>\n",
       "      <td>27559.0</td>\n",
       "      <td>739.0</td>\n",
       "    </tr>\n",
       "    <tr>\n",
       "      <th>4</th>\n",
       "      <td>Home Mortgage</td>\n",
       "      <td>2340952.0</td>\n",
       "      <td>6 years</td>\n",
       "      <td>0.0</td>\n",
       "      <td>11.0</td>\n",
       "      <td>23.6</td>\n",
       "      <td>1207272.0</td>\n",
       "      <td>0.0</td>\n",
       "      <td>NaN</td>\n",
       "      <td>0.0</td>\n",
       "      <td>debt consolidation</td>\n",
       "      <td>Long Term</td>\n",
       "      <td>777634.0</td>\n",
       "      <td>425391.0</td>\n",
       "      <td>42605.0</td>\n",
       "      <td>706.0</td>\n",
       "    </tr>\n",
       "  </tbody>\n",
       "</table>\n",
       "</div>"
      ],
      "text/plain": [
       "  Home Ownership  Annual Income Years in current job  Tax Liens  \\\n",
       "0           Rent            NaN              4 years        0.0   \n",
       "1           Rent       231838.0               1 year        0.0   \n",
       "2  Home Mortgage      1152540.0              3 years        0.0   \n",
       "3  Home Mortgage      1220313.0            10+ years        0.0   \n",
       "4  Home Mortgage      2340952.0              6 years        0.0   \n",
       "\n",
       "   Number of Open Accounts  Years of Credit History  Maximum Open Credit  \\\n",
       "0                      9.0                     12.5             220968.0   \n",
       "1                      6.0                     32.7              55946.0   \n",
       "2                     10.0                     13.7             204600.0   \n",
       "3                     16.0                     17.0             456302.0   \n",
       "4                     11.0                     23.6            1207272.0   \n",
       "\n",
       "   Number of Credit Problems  Months since last delinquent  Bankruptcies  \\\n",
       "0                        0.0                          70.0           0.0   \n",
       "1                        0.0                           8.0           0.0   \n",
       "2                        0.0                           NaN           0.0   \n",
       "3                        0.0                          70.0           0.0   \n",
       "4                        0.0                           NaN           0.0   \n",
       "\n",
       "                Purpose        Term  Current Loan Amount  \\\n",
       "0    debt consolidation  Short Term             162470.0   \n",
       "1  educational expenses  Short Term              78298.0   \n",
       "2    debt consolidation  Short Term             200178.0   \n",
       "3    debt consolidation  Short Term             217382.0   \n",
       "4    debt consolidation   Long Term             777634.0   \n",
       "\n",
       "   Current Credit Balance  Monthly Debt  Credit Score  \n",
       "0                105906.0        6813.0           NaN  \n",
       "1                 46037.0        2318.0         699.0  \n",
       "2                146490.0       18729.0        7260.0  \n",
       "3                213199.0       27559.0         739.0  \n",
       "4                425391.0       42605.0         706.0  "
      ]
     },
     "execution_count": 7,
     "metadata": {},
     "output_type": "execute_result"
    }
   ],
   "source": [
    "df_test = pd.read_csv(TEST_DATASET_PATH)\n",
    "df_test.head()"
   ]
  },
  {
   "cell_type": "code",
   "execution_count": 8,
   "id": "410028bd",
   "metadata": {
    "execution": {
     "iopub.execute_input": "2021-12-12T12:03:57.856187Z",
     "iopub.status.busy": "2021-12-12T12:03:57.855239Z",
     "iopub.status.idle": "2021-12-12T12:03:57.860623Z",
     "shell.execute_reply": "2021-12-12T12:03:57.861162Z",
     "shell.execute_reply.started": "2021-12-12T12:03:25.383750Z"
    },
    "papermill": {
     "duration": 0.068026,
     "end_time": "2021-12-12T12:03:57.861325",
     "exception": false,
     "start_time": "2021-12-12T12:03:57.793299",
     "status": "completed"
    },
    "tags": []
   },
   "outputs": [
    {
     "data": {
      "text/plain": [
       "(2500, 16)"
      ]
     },
     "execution_count": 8,
     "metadata": {},
     "output_type": "execute_result"
    }
   ],
   "source": [
    "df_test.shape"
   ]
  },
  {
   "cell_type": "markdown",
   "id": "c712f15e",
   "metadata": {
    "papermill": {
     "duration": 0.059874,
     "end_time": "2021-12-12T12:03:57.979967",
     "exception": false,
     "start_time": "2021-12-12T12:03:57.920093",
     "status": "completed"
    },
    "tags": []
   },
   "source": [
    "#### Обзор обучающего датасета и целевой переменной"
   ]
  },
  {
   "cell_type": "code",
   "execution_count": 9,
   "id": "48777e5f",
   "metadata": {
    "execution": {
     "iopub.execute_input": "2021-12-12T12:03:58.101844Z",
     "iopub.status.busy": "2021-12-12T12:03:58.100904Z",
     "iopub.status.idle": "2021-12-12T12:03:58.124831Z",
     "shell.execute_reply": "2021-12-12T12:03:58.125424Z",
     "shell.execute_reply.started": "2021-12-12T12:03:25.392884Z"
    },
    "papermill": {
     "duration": 0.088023,
     "end_time": "2021-12-12T12:03:58.125596",
     "exception": false,
     "start_time": "2021-12-12T12:03:58.037573",
     "status": "completed"
    },
    "tags": []
   },
   "outputs": [
    {
     "name": "stdout",
     "output_type": "stream",
     "text": [
      "<class 'pandas.core.frame.DataFrame'>\n",
      "RangeIndex: 7500 entries, 0 to 7499\n",
      "Data columns (total 17 columns):\n",
      " #   Column                        Non-Null Count  Dtype  \n",
      "---  ------                        --------------  -----  \n",
      " 0   Home Ownership                7500 non-null   object \n",
      " 1   Annual Income                 5943 non-null   float64\n",
      " 2   Years in current job          7129 non-null   object \n",
      " 3   Tax Liens                     7500 non-null   float64\n",
      " 4   Number of Open Accounts       7500 non-null   float64\n",
      " 5   Years of Credit History       7500 non-null   float64\n",
      " 6   Maximum Open Credit           7500 non-null   float64\n",
      " 7   Number of Credit Problems     7500 non-null   float64\n",
      " 8   Months since last delinquent  3419 non-null   float64\n",
      " 9   Bankruptcies                  7486 non-null   float64\n",
      " 10  Purpose                       7500 non-null   object \n",
      " 11  Term                          7500 non-null   object \n",
      " 12  Current Loan Amount           7500 non-null   float64\n",
      " 13  Current Credit Balance        7500 non-null   float64\n",
      " 14  Monthly Debt                  7500 non-null   float64\n",
      " 15  Credit Score                  5943 non-null   float64\n",
      " 16  Credit Default                7500 non-null   int64  \n",
      "dtypes: float64(12), int64(1), object(4)\n",
      "memory usage: 996.2+ KB\n"
     ]
    }
   ],
   "source": [
    "df_train.info()"
   ]
  },
  {
   "cell_type": "code",
   "execution_count": 10,
   "id": "0f76bac9",
   "metadata": {
    "execution": {
     "iopub.execute_input": "2021-12-12T12:03:58.249391Z",
     "iopub.status.busy": "2021-12-12T12:03:58.248467Z",
     "iopub.status.idle": "2021-12-12T12:03:58.256286Z",
     "shell.execute_reply": "2021-12-12T12:03:58.255652Z",
     "shell.execute_reply.started": "2021-12-12T12:03:25.419692Z"
    },
    "papermill": {
     "duration": 0.07159,
     "end_time": "2021-12-12T12:03:58.256437",
     "exception": false,
     "start_time": "2021-12-12T12:03:58.184847",
     "status": "completed"
    },
    "tags": []
   },
   "outputs": [
    {
     "data": {
      "text/plain": [
       "0    5387\n",
       "1    2113\n",
       "Name: Credit Default, dtype: int64"
      ]
     },
     "execution_count": 10,
     "metadata": {},
     "output_type": "execute_result"
    }
   ],
   "source": [
    "df_train['Credit Default'].value_counts()"
   ]
  },
  {
   "cell_type": "markdown",
   "id": "cacbed33",
   "metadata": {
    "papermill": {
     "duration": 0.060188,
     "end_time": "2021-12-12T12:03:58.377242",
     "exception": false,
     "start_time": "2021-12-12T12:03:58.317054",
     "status": "completed"
    },
    "tags": []
   },
   "source": [
    "#### Обзор количественных признаков"
   ]
  },
  {
   "cell_type": "code",
   "execution_count": 11,
   "id": "619c86b7",
   "metadata": {
    "execution": {
     "iopub.execute_input": "2021-12-12T12:03:58.503055Z",
     "iopub.status.busy": "2021-12-12T12:03:58.502456Z",
     "iopub.status.idle": "2021-12-12T12:03:58.547104Z",
     "shell.execute_reply": "2021-12-12T12:03:58.546474Z",
     "shell.execute_reply.started": "2021-12-12T12:03:25.430603Z"
    },
    "papermill": {
     "duration": 0.110929,
     "end_time": "2021-12-12T12:03:58.547280",
     "exception": false,
     "start_time": "2021-12-12T12:03:58.436351",
     "status": "completed"
    },
    "tags": []
   },
   "outputs": [
    {
     "data": {
      "text/html": [
       "<div>\n",
       "<style scoped>\n",
       "    .dataframe tbody tr th:only-of-type {\n",
       "        vertical-align: middle;\n",
       "    }\n",
       "\n",
       "    .dataframe tbody tr th {\n",
       "        vertical-align: top;\n",
       "    }\n",
       "\n",
       "    .dataframe thead th {\n",
       "        text-align: right;\n",
       "    }\n",
       "</style>\n",
       "<table border=\"1\" class=\"dataframe\">\n",
       "  <thead>\n",
       "    <tr style=\"text-align: right;\">\n",
       "      <th></th>\n",
       "      <th>Annual Income</th>\n",
       "      <th>Tax Liens</th>\n",
       "      <th>Number of Open Accounts</th>\n",
       "      <th>Years of Credit History</th>\n",
       "      <th>Maximum Open Credit</th>\n",
       "      <th>Number of Credit Problems</th>\n",
       "      <th>Months since last delinquent</th>\n",
       "      <th>Bankruptcies</th>\n",
       "      <th>Current Loan Amount</th>\n",
       "      <th>Current Credit Balance</th>\n",
       "      <th>Monthly Debt</th>\n",
       "      <th>Credit Score</th>\n",
       "      <th>Credit Default</th>\n",
       "    </tr>\n",
       "  </thead>\n",
       "  <tbody>\n",
       "    <tr>\n",
       "      <th>count</th>\n",
       "      <td>5.943000e+03</td>\n",
       "      <td>7500.000000</td>\n",
       "      <td>7500.000000</td>\n",
       "      <td>7500.000000</td>\n",
       "      <td>7.500000e+03</td>\n",
       "      <td>7500.000000</td>\n",
       "      <td>3419.000000</td>\n",
       "      <td>7486.000000</td>\n",
       "      <td>7.500000e+03</td>\n",
       "      <td>7.500000e+03</td>\n",
       "      <td>7500.000000</td>\n",
       "      <td>5943.000000</td>\n",
       "      <td>7500.000000</td>\n",
       "    </tr>\n",
       "    <tr>\n",
       "      <th>mean</th>\n",
       "      <td>1.366392e+06</td>\n",
       "      <td>0.030133</td>\n",
       "      <td>11.130933</td>\n",
       "      <td>18.317467</td>\n",
       "      <td>9.451537e+05</td>\n",
       "      <td>0.170000</td>\n",
       "      <td>34.692600</td>\n",
       "      <td>0.117152</td>\n",
       "      <td>1.187318e+07</td>\n",
       "      <td>2.898332e+05</td>\n",
       "      <td>18314.454133</td>\n",
       "      <td>1151.087498</td>\n",
       "      <td>0.281733</td>\n",
       "    </tr>\n",
       "    <tr>\n",
       "      <th>std</th>\n",
       "      <td>8.453392e+05</td>\n",
       "      <td>0.271604</td>\n",
       "      <td>4.908924</td>\n",
       "      <td>7.041946</td>\n",
       "      <td>1.602622e+07</td>\n",
       "      <td>0.498598</td>\n",
       "      <td>21.688806</td>\n",
       "      <td>0.347192</td>\n",
       "      <td>3.192612e+07</td>\n",
       "      <td>3.178714e+05</td>\n",
       "      <td>11926.764673</td>\n",
       "      <td>1604.451418</td>\n",
       "      <td>0.449874</td>\n",
       "    </tr>\n",
       "    <tr>\n",
       "      <th>min</th>\n",
       "      <td>1.645970e+05</td>\n",
       "      <td>0.000000</td>\n",
       "      <td>2.000000</td>\n",
       "      <td>4.000000</td>\n",
       "      <td>0.000000e+00</td>\n",
       "      <td>0.000000</td>\n",
       "      <td>0.000000</td>\n",
       "      <td>0.000000</td>\n",
       "      <td>1.124200e+04</td>\n",
       "      <td>0.000000e+00</td>\n",
       "      <td>0.000000</td>\n",
       "      <td>585.000000</td>\n",
       "      <td>0.000000</td>\n",
       "    </tr>\n",
       "    <tr>\n",
       "      <th>25%</th>\n",
       "      <td>8.443410e+05</td>\n",
       "      <td>0.000000</td>\n",
       "      <td>8.000000</td>\n",
       "      <td>13.500000</td>\n",
       "      <td>2.792295e+05</td>\n",
       "      <td>0.000000</td>\n",
       "      <td>16.000000</td>\n",
       "      <td>0.000000</td>\n",
       "      <td>1.801690e+05</td>\n",
       "      <td>1.142565e+05</td>\n",
       "      <td>10067.500000</td>\n",
       "      <td>711.000000</td>\n",
       "      <td>0.000000</td>\n",
       "    </tr>\n",
       "    <tr>\n",
       "      <th>50%</th>\n",
       "      <td>1.168386e+06</td>\n",
       "      <td>0.000000</td>\n",
       "      <td>10.000000</td>\n",
       "      <td>17.000000</td>\n",
       "      <td>4.781590e+05</td>\n",
       "      <td>0.000000</td>\n",
       "      <td>32.000000</td>\n",
       "      <td>0.000000</td>\n",
       "      <td>3.095730e+05</td>\n",
       "      <td>2.093230e+05</td>\n",
       "      <td>16076.500000</td>\n",
       "      <td>731.000000</td>\n",
       "      <td>0.000000</td>\n",
       "    </tr>\n",
       "    <tr>\n",
       "      <th>75%</th>\n",
       "      <td>1.640137e+06</td>\n",
       "      <td>0.000000</td>\n",
       "      <td>14.000000</td>\n",
       "      <td>21.800000</td>\n",
       "      <td>7.935015e+05</td>\n",
       "      <td>0.000000</td>\n",
       "      <td>50.000000</td>\n",
       "      <td>0.000000</td>\n",
       "      <td>5.198820e+05</td>\n",
       "      <td>3.604062e+05</td>\n",
       "      <td>23818.000000</td>\n",
       "      <td>743.000000</td>\n",
       "      <td>1.000000</td>\n",
       "    </tr>\n",
       "    <tr>\n",
       "      <th>max</th>\n",
       "      <td>1.014934e+07</td>\n",
       "      <td>7.000000</td>\n",
       "      <td>43.000000</td>\n",
       "      <td>57.700000</td>\n",
       "      <td>1.304726e+09</td>\n",
       "      <td>7.000000</td>\n",
       "      <td>118.000000</td>\n",
       "      <td>4.000000</td>\n",
       "      <td>1.000000e+08</td>\n",
       "      <td>6.506797e+06</td>\n",
       "      <td>136679.000000</td>\n",
       "      <td>7510.000000</td>\n",
       "      <td>1.000000</td>\n",
       "    </tr>\n",
       "  </tbody>\n",
       "</table>\n",
       "</div>"
      ],
      "text/plain": [
       "       Annual Income    Tax Liens  Number of Open Accounts  \\\n",
       "count   5.943000e+03  7500.000000              7500.000000   \n",
       "mean    1.366392e+06     0.030133                11.130933   \n",
       "std     8.453392e+05     0.271604                 4.908924   \n",
       "min     1.645970e+05     0.000000                 2.000000   \n",
       "25%     8.443410e+05     0.000000                 8.000000   \n",
       "50%     1.168386e+06     0.000000                10.000000   \n",
       "75%     1.640137e+06     0.000000                14.000000   \n",
       "max     1.014934e+07     7.000000                43.000000   \n",
       "\n",
       "       Years of Credit History  Maximum Open Credit  \\\n",
       "count              7500.000000         7.500000e+03   \n",
       "mean                 18.317467         9.451537e+05   \n",
       "std                   7.041946         1.602622e+07   \n",
       "min                   4.000000         0.000000e+00   \n",
       "25%                  13.500000         2.792295e+05   \n",
       "50%                  17.000000         4.781590e+05   \n",
       "75%                  21.800000         7.935015e+05   \n",
       "max                  57.700000         1.304726e+09   \n",
       "\n",
       "       Number of Credit Problems  Months since last delinquent  Bankruptcies  \\\n",
       "count                7500.000000                   3419.000000   7486.000000   \n",
       "mean                    0.170000                     34.692600      0.117152   \n",
       "std                     0.498598                     21.688806      0.347192   \n",
       "min                     0.000000                      0.000000      0.000000   \n",
       "25%                     0.000000                     16.000000      0.000000   \n",
       "50%                     0.000000                     32.000000      0.000000   \n",
       "75%                     0.000000                     50.000000      0.000000   \n",
       "max                     7.000000                    118.000000      4.000000   \n",
       "\n",
       "       Current Loan Amount  Current Credit Balance   Monthly Debt  \\\n",
       "count         7.500000e+03            7.500000e+03    7500.000000   \n",
       "mean          1.187318e+07            2.898332e+05   18314.454133   \n",
       "std           3.192612e+07            3.178714e+05   11926.764673   \n",
       "min           1.124200e+04            0.000000e+00       0.000000   \n",
       "25%           1.801690e+05            1.142565e+05   10067.500000   \n",
       "50%           3.095730e+05            2.093230e+05   16076.500000   \n",
       "75%           5.198820e+05            3.604062e+05   23818.000000   \n",
       "max           1.000000e+08            6.506797e+06  136679.000000   \n",
       "\n",
       "       Credit Score  Credit Default  \n",
       "count   5943.000000     7500.000000  \n",
       "mean    1151.087498        0.281733  \n",
       "std     1604.451418        0.449874  \n",
       "min      585.000000        0.000000  \n",
       "25%      711.000000        0.000000  \n",
       "50%      731.000000        0.000000  \n",
       "75%      743.000000        1.000000  \n",
       "max     7510.000000        1.000000  "
      ]
     },
     "execution_count": 11,
     "metadata": {},
     "output_type": "execute_result"
    }
   ],
   "source": [
    "df_train.describe()"
   ]
  },
  {
   "cell_type": "code",
   "execution_count": 12,
   "id": "e338bc15",
   "metadata": {
    "execution": {
     "iopub.execute_input": "2021-12-12T12:03:58.671398Z",
     "iopub.status.busy": "2021-12-12T12:03:58.670675Z",
     "iopub.status.idle": "2021-12-12T12:04:00.816632Z",
     "shell.execute_reply": "2021-12-12T12:04:00.817136Z",
     "shell.execute_reply.started": "2021-12-12T12:03:25.486339Z"
    },
    "papermill": {
     "duration": 2.20962,
     "end_time": "2021-12-12T12:04:00.817312",
     "exception": false,
     "start_time": "2021-12-12T12:03:58.607692",
     "status": "completed"
    },
    "tags": []
   },
   "outputs": [
    {
     "data": {
      "image/png": "[encoded data removed]",
      "text/plain": [
       "<Figure size 1152x1152 with 16 Axes>"
      ]
     },
     "metadata": {
      "needs_background": "light"
     },
     "output_type": "display_data"
    }
   ],
   "source": [
    "df_train.hist(bins = 20, figsize = (16, 16))\n",
    "plt.show()"
   ]
  },
  {
   "cell_type": "markdown",
   "id": "3ae090a0",
   "metadata": {
    "papermill": {
     "duration": 0.06062,
     "end_time": "2021-12-12T12:04:00.940290",
     "exception": false,
     "start_time": "2021-12-12T12:04:00.879670",
     "status": "completed"
    },
    "tags": []
   },
   "source": [
    "#### Обзор номинативных признаков"
   ]
  },
  {
   "cell_type": "code",
   "execution_count": 13,
   "id": "08f89e32",
   "metadata": {
    "execution": {
     "iopub.execute_input": "2021-12-12T12:04:01.070395Z",
     "iopub.status.busy": "2021-12-12T12:04:01.069779Z",
     "iopub.status.idle": "2021-12-12T12:04:01.081690Z",
     "shell.execute_reply": "2021-12-12T12:04:01.082293Z",
     "shell.execute_reply.started": "2021-12-12T12:03:27.934187Z"
    },
    "papermill": {
     "duration": 0.077327,
     "end_time": "2021-12-12T12:04:01.082471",
     "exception": false,
     "start_time": "2021-12-12T12:04:01.005144",
     "status": "completed"
    },
    "tags": []
   },
   "outputs": [
    {
     "name": "stdout",
     "output_type": "stream",
     "text": [
      "Home Ownership\n",
      "\n",
      "Home Mortgage    3637\n",
      "Rent             3204\n",
      "Own Home          647\n",
      "Have Mortgage      12\n",
      "Name: Home Ownership, dtype: int64\n",
      "****************************************************************************************************\n",
      "\n",
      "Years in current job\n",
      "\n",
      "10+ years    2332\n",
      "2 years       705\n",
      "3 years       620\n",
      "< 1 year      563\n",
      "5 years       516\n",
      "1 year        504\n",
      "4 years       469\n",
      "6 years       426\n",
      "7 years       396\n",
      "8 years       339\n",
      "9 years       259\n",
      "Name: Years in current job, dtype: int64\n",
      "****************************************************************************************************\n",
      "\n",
      "Purpose\n",
      "\n",
      "debt consolidation      5944\n",
      "other                    665\n",
      "home improvements        412\n",
      "business loan            129\n",
      "buy a car                 96\n",
      "medical bills             71\n",
      "major purchase            40\n",
      "take a trip               37\n",
      "buy house                 34\n",
      "small business            26\n",
      "wedding                   15\n",
      "moving                    11\n",
      "educational expenses      10\n",
      "vacation                   8\n",
      "renewable energy           2\n",
      "Name: Purpose, dtype: int64\n",
      "****************************************************************************************************\n",
      "\n",
      "Term\n",
      "\n",
      "Short Term    5556\n",
      "Long Term     1944\n",
      "Name: Term, dtype: int64\n",
      "****************************************************************************************************\n",
      "\n"
     ]
    }
   ],
   "source": [
    "for cat_colname in df_train.select_dtypes(include='object').columns:\n",
    "    print(str(cat_colname) + '\\n\\n' + str(df_train[cat_colname].value_counts()) + '\\n' + '*' * 100 + '\\n')"
   ]
  },
  {
   "cell_type": "markdown",
   "id": "432f15be",
   "metadata": {
    "papermill": {
     "duration": 0.062692,
     "end_time": "2021-12-12T12:04:01.209558",
     "exception": false,
     "start_time": "2021-12-12T12:04:01.146866",
     "status": "completed"
    },
    "tags": []
   },
   "source": [
    "### Матрица корреляции"
   ]
  },
  {
   "cell_type": "code",
   "execution_count": 14,
   "id": "04a6b7d2",
   "metadata": {
    "execution": {
     "iopub.execute_input": "2021-12-12T12:04:01.337395Z",
     "iopub.status.busy": "2021-12-12T12:04:01.336775Z",
     "iopub.status.idle": "2021-12-12T12:04:02.201494Z",
     "shell.execute_reply": "2021-12-12T12:04:02.201953Z",
     "shell.execute_reply.started": "2021-12-12T12:03:27.954360Z"
    },
    "papermill": {
     "duration": 0.93181,
     "end_time": "2021-12-12T12:04:02.202136",
     "exception": false,
     "start_time": "2021-12-12T12:04:01.270326",
     "status": "completed"
    },
    "tags": []
   },
   "outputs": [
    {
     "data": {
      "image/png": "[encoded data removed]",
      "text/plain": [
       "<Figure size 720x432 with 2 Axes>"
      ]
     },
     "metadata": {
      "needs_background": "light"
     },
     "output_type": "display_data"
    }
   ],
   "source": [
    "plt.figure(figsize=(10, 6))\n",
    "\n",
    "corr_matrix = df_train.corr()\n",
    "corr_matrix = np.round(corr_matrix, 2)\n",
    "corr_matrix[np.abs(corr_matrix) < 0.3] = 0\n",
    "\n",
    "sns.heatmap(corr_matrix, annot=True, linewidths=.5, cmap='coolwarm')\n",
    "\n",
    "plt.title('Correlation matrix')\n",
    "plt.show()"
   ]
  },
  {
   "cell_type": "markdown",
   "id": "7e32fba3",
   "metadata": {
    "papermill": {
     "duration": 0.062883,
     "end_time": "2021-12-12T12:04:02.328027",
     "exception": false,
     "start_time": "2021-12-12T12:04:02.265144",
     "status": "completed"
    },
    "tags": []
   },
   "source": [
    "### Обработка выбросов."
   ]
  },
  {
   "cell_type": "markdown",
   "id": "40800875",
   "metadata": {
    "papermill": {
     "duration": 0.062551,
     "end_time": "2021-12-12T12:04:02.453776",
     "exception": false,
     "start_time": "2021-12-12T12:04:02.391225",
     "status": "completed"
    },
    "tags": []
   },
   "source": [
    "* Credit Score (баллы кредитного рейтинга)\n",
    "* Current Loan Amount (текущая сумма кредита)\n",
    "* Maximum Open Credit (наибольший открытый кредит)\n",
    "* Months since last delinquent (количество месяцев с последней просрочки платежа)"
   ]
  },
  {
   "cell_type": "markdown",
   "id": "30d8c5da",
   "metadata": {
    "papermill": {
     "duration": 0.062938,
     "end_time": "2021-12-12T12:04:02.579658",
     "exception": false,
     "start_time": "2021-12-12T12:04:02.516720",
     "status": "completed"
    },
    "tags": []
   },
   "source": [
    "#### Credit Score (баллы кредитного рейтинга)"
   ]
  },
  {
   "cell_type": "code",
   "execution_count": 15,
   "id": "cca3a7f8",
   "metadata": {
    "execution": {
     "iopub.execute_input": "2021-12-12T12:04:02.709613Z",
     "iopub.status.busy": "2021-12-12T12:04:02.709041Z",
     "iopub.status.idle": "2021-12-12T12:04:02.715435Z",
     "shell.execute_reply": "2021-12-12T12:04:02.715973Z",
     "shell.execute_reply.started": "2021-12-12T12:03:28.917533Z"
    },
    "papermill": {
     "duration": 0.072416,
     "end_time": "2021-12-12T12:04:02.716155",
     "exception": false,
     "start_time": "2021-12-12T12:04:02.643739",
     "status": "completed"
    },
    "tags": []
   },
   "outputs": [
    {
     "data": {
      "text/plain": [
       "5543"
      ]
     },
     "execution_count": 15,
     "metadata": {},
     "output_type": "execute_result"
    }
   ],
   "source": [
    "df_train[df_train['Credit Score'] <= 850]['Credit Score'].count()"
   ]
  },
  {
   "cell_type": "code",
   "execution_count": 16,
   "id": "c8735074",
   "metadata": {
    "execution": {
     "iopub.execute_input": "2021-12-12T12:04:02.847275Z",
     "iopub.status.busy": "2021-12-12T12:04:02.846665Z",
     "iopub.status.idle": "2021-12-12T12:04:02.852059Z",
     "shell.execute_reply": "2021-12-12T12:04:02.852609Z",
     "shell.execute_reply.started": "2021-12-12T12:03:28.927956Z"
    },
    "papermill": {
     "duration": 0.072529,
     "end_time": "2021-12-12T12:04:02.852769",
     "exception": false,
     "start_time": "2021-12-12T12:04:02.780240",
     "status": "completed"
    },
    "tags": []
   },
   "outputs": [
    {
     "data": {
      "text/plain": [
       "400"
      ]
     },
     "execution_count": 16,
     "metadata": {},
     "output_type": "execute_result"
    }
   ],
   "source": [
    "df_train[df_train['Credit Score'] > 1000]['Credit Score'].count()"
   ]
  },
  {
   "cell_type": "markdown",
   "id": "97b4e371",
   "metadata": {
    "papermill": {
     "duration": 0.063217,
     "end_time": "2021-12-12T12:04:02.979201",
     "exception": false,
     "start_time": "2021-12-12T12:04:02.915984",
     "status": "completed"
    },
    "tags": []
   },
   "source": [
    "Есть 400 значений в диапазоне более 1000, которые на порядок больше остальных 5543 в диапазоне [300, 850]. с учетом определения кредитного рейтинга FICO credit score, значения между 300–850 описывают кредитоспособность заемщика. https://www.investopedia.com/terms/c/credit_score.asp разделим значения более 850 на 10."
   ]
  },
  {
   "cell_type": "code",
   "execution_count": 17,
   "id": "caef9a80",
   "metadata": {
    "execution": {
     "iopub.execute_input": "2021-12-12T12:04:03.111187Z",
     "iopub.status.busy": "2021-12-12T12:04:03.110517Z",
     "iopub.status.idle": "2021-12-12T12:04:03.117725Z",
     "shell.execute_reply": "2021-12-12T12:04:03.118225Z",
     "shell.execute_reply.started": "2021-12-12T12:03:28.939518Z"
    },
    "papermill": {
     "duration": 0.074797,
     "end_time": "2021-12-12T12:04:03.118395",
     "exception": false,
     "start_time": "2021-12-12T12:04:03.043598",
     "status": "completed"
    },
    "tags": []
   },
   "outputs": [],
   "source": [
    "df_train['Credit Score Outlier'] = 0\n",
    "df_train.loc[df_train['Credit Score'] > 1000, 'Credit Score Outlier'] = 1\n",
    "df_train.loc[df_train['Credit Score'] > 1000, 'Credit Score'] = df_train.loc[df_train['Credit Score'] > 1000, 'Credit Score'] / 10"
   ]
  },
  {
   "cell_type": "code",
   "execution_count": 18,
   "id": "f93735df",
   "metadata": {
    "execution": {
     "iopub.execute_input": "2021-12-12T12:04:03.251432Z",
     "iopub.status.busy": "2021-12-12T12:04:03.250796Z",
     "iopub.status.idle": "2021-12-12T12:04:03.467167Z",
     "shell.execute_reply": "2021-12-12T12:04:03.466561Z",
     "shell.execute_reply.started": "2021-12-12T12:03:28.952329Z"
    },
    "papermill": {
     "duration": 0.283616,
     "end_time": "2021-12-12T12:04:03.467300",
     "exception": false,
     "start_time": "2021-12-12T12:04:03.183684",
     "status": "completed"
    },
    "tags": []
   },
   "outputs": [
    {
     "data": {
      "image/png": "[encoded data removed]",
      "text/plain": [
       "<Figure size 360x360 with 1 Axes>"
      ]
     },
     "metadata": {
      "needs_background": "light"
     },
     "output_type": "display_data"
    }
   ],
   "source": [
    "df_train['Credit Score'].hist(bins = 20, figsize = (5, 5))\n",
    "plt.show()"
   ]
  },
  {
   "cell_type": "code",
   "execution_count": 19,
   "id": "3268bca1",
   "metadata": {
    "execution": {
     "iopub.execute_input": "2021-12-12T12:04:03.605827Z",
     "iopub.status.busy": "2021-12-12T12:04:03.605170Z",
     "iopub.status.idle": "2021-12-12T12:04:03.819594Z",
     "shell.execute_reply": "2021-12-12T12:04:03.818700Z",
     "shell.execute_reply.started": "2021-12-12T12:03:29.184309Z"
    },
    "papermill": {
     "duration": 0.286849,
     "end_time": "2021-12-12T12:04:03.819783",
     "exception": false,
     "start_time": "2021-12-12T12:04:03.532934",
     "status": "completed"
    },
    "tags": []
   },
   "outputs": [
    {
     "data": {
      "image/png": "[encoded data removed]",
      "text/plain": [
       "<Figure size 360x360 with 1 Axes>"
      ]
     },
     "metadata": {
      "needs_background": "light"
     },
     "output_type": "display_data"
    }
   ],
   "source": [
    "df_train.loc[df_train['Credit Score Outlier'] == 1, 'Credit Score'].hist(bins = 20, figsize = (5, 5))\n",
    "plt.show()"
   ]
  },
  {
   "cell_type": "markdown",
   "id": "6bedce3b",
   "metadata": {
    "papermill": {
     "duration": 0.064187,
     "end_time": "2021-12-12T12:04:03.950956",
     "exception": false,
     "start_time": "2021-12-12T12:04:03.886769",
     "status": "completed"
    },
    "tags": []
   },
   "source": [
    "#### Current Loan Amount (текущая сумма кредита)"
   ]
  },
  {
   "cell_type": "code",
   "execution_count": 20,
   "id": "613e2717",
   "metadata": {
    "execution": {
     "iopub.execute_input": "2021-12-12T12:04:04.088703Z",
     "iopub.status.busy": "2021-12-12T12:04:04.088010Z",
     "iopub.status.idle": "2021-12-12T12:04:04.098215Z",
     "shell.execute_reply": "2021-12-12T12:04:04.098635Z",
     "shell.execute_reply.started": "2021-12-12T12:03:29.414733Z"
    },
    "papermill": {
     "duration": 0.0805,
     "end_time": "2021-12-12T12:04:04.099014",
     "exception": false,
     "start_time": "2021-12-12T12:04:04.018514",
     "status": "completed"
    },
    "tags": []
   },
   "outputs": [
    {
     "data": {
      "text/plain": [
       "99999999.0    870\n",
       "218064.0        6\n",
       "89298.0         6\n",
       "222926.0        5\n",
       "265826.0        5\n",
       "             ... \n",
       "351626.0        1\n",
       "212498.0        1\n",
       "187682.0        1\n",
       "108922.0        1\n",
       "26928.0         1\n",
       "Name: Current Loan Amount, Length: 5386, dtype: int64"
      ]
     },
     "execution_count": 20,
     "metadata": {},
     "output_type": "execute_result"
    }
   ],
   "source": [
    "df_train['Current Loan Amount'].value_counts()"
   ]
  },
  {
   "cell_type": "markdown",
   "id": "ca866af1",
   "metadata": {
    "papermill": {
     "duration": 0.064804,
     "end_time": "2021-12-12T12:04:04.230044",
     "exception": false,
     "start_time": "2021-12-12T12:04:04.165240",
     "status": "completed"
    },
    "tags": []
   },
   "source": [
    "870 значений, на максимуме. Заменим на медиану."
   ]
  },
  {
   "cell_type": "code",
   "execution_count": 21,
   "id": "ad0b68ab",
   "metadata": {
    "execution": {
     "iopub.execute_input": "2021-12-12T12:04:04.365923Z",
     "iopub.status.busy": "2021-12-12T12:04:04.365221Z",
     "iopub.status.idle": "2021-12-12T12:04:04.371732Z",
     "shell.execute_reply": "2021-12-12T12:04:04.372155Z",
     "shell.execute_reply.started": "2021-12-12T12:03:29.428082Z"
    },
    "papermill": {
     "duration": 0.07751,
     "end_time": "2021-12-12T12:04:04.372354",
     "exception": false,
     "start_time": "2021-12-12T12:04:04.294844",
     "status": "completed"
    },
    "tags": []
   },
   "outputs": [],
   "source": [
    "df_train['Current Loan Amount Outlier'] = 0\n",
    "df_train.loc[df_train['Current Loan Amount'] == 99999999.0, 'Current Loan Amount Outlier'] = 1\n",
    "df_train.loc[df_train['Current Loan Amount'] == 99999999.0, 'Current Loan Amount'] = df_train['Current Loan Amount'].median()"
   ]
  },
  {
   "cell_type": "code",
   "execution_count": 22,
   "id": "c15d45b2",
   "metadata": {
    "execution": {
     "iopub.execute_input": "2021-12-12T12:04:04.507252Z",
     "iopub.status.busy": "2021-12-12T12:04:04.506614Z",
     "iopub.status.idle": "2021-12-12T12:04:04.512758Z",
     "shell.execute_reply": "2021-12-12T12:04:04.513242Z",
     "shell.execute_reply.started": "2021-12-12T12:03:29.438842Z"
    },
    "papermill": {
     "duration": 0.074633,
     "end_time": "2021-12-12T12:04:04.513415",
     "exception": false,
     "start_time": "2021-12-12T12:04:04.438782",
     "status": "completed"
    },
    "tags": []
   },
   "outputs": [
    {
     "data": {
      "text/plain": [
       "0"
      ]
     },
     "execution_count": 22,
     "metadata": {},
     "output_type": "execute_result"
    }
   ],
   "source": [
    "df_train[df_train['Current Loan Amount'] == 99999999.0]['Current Loan Amount'].count()"
   ]
  },
  {
   "cell_type": "markdown",
   "id": "0dea4337",
   "metadata": {
    "papermill": {
     "duration": 0.066288,
     "end_time": "2021-12-12T12:04:04.645820",
     "exception": false,
     "start_time": "2021-12-12T12:04:04.579532",
     "status": "completed"
    },
    "tags": []
   },
   "source": [
    "#### Maximum Open Credit (наибольший открытый кредит) - максимальная сумма, которая когда-либо была доступна клиенту (есть 1 значение 1.3 млрд)"
   ]
  },
  {
   "cell_type": "code",
   "execution_count": 23,
   "id": "3c4e5c77",
   "metadata": {
    "execution": {
     "iopub.execute_input": "2021-12-12T12:04:04.780908Z",
     "iopub.status.busy": "2021-12-12T12:04:04.779970Z",
     "iopub.status.idle": "2021-12-12T12:04:04.991181Z",
     "shell.execute_reply": "2021-12-12T12:04:04.990693Z",
     "shell.execute_reply.started": "2021-12-12T12:03:29.453001Z"
    },
    "papermill": {
     "duration": 0.280935,
     "end_time": "2021-12-12T12:04:04.991327",
     "exception": false,
     "start_time": "2021-12-12T12:04:04.710392",
     "status": "completed"
    },
    "tags": []
   },
   "outputs": [
    {
     "data": {
      "image/png": "[encoded data removed]",
      "text/plain": [
       "<Figure size 288x288 with 1 Axes>"
      ]
     },
     "metadata": {
      "needs_background": "light"
     },
     "output_type": "display_data"
    }
   ],
   "source": [
    "df_train['Maximum Open Credit'].hist(bins = 20, figsize = (4, 4))\n",
    "plt.show()"
   ]
  },
  {
   "cell_type": "markdown",
   "id": "43b5fad1",
   "metadata": {
    "papermill": {
     "duration": 0.064968,
     "end_time": "2021-12-12T12:04:05.121750",
     "exception": false,
     "start_time": "2021-12-12T12:04:05.056782",
     "status": "completed"
    },
    "tags": []
   },
   "source": [
    "в исходных данных максимальное значение поля Current Loan Amount = 99 999 999.00. примем его за максимально возможный кредит"
   ]
  },
  {
   "cell_type": "code",
   "execution_count": 24,
   "id": "46702313",
   "metadata": {
    "execution": {
     "iopub.execute_input": "2021-12-12T12:04:05.256637Z",
     "iopub.status.busy": "2021-12-12T12:04:05.256025Z",
     "iopub.status.idle": "2021-12-12T12:04:05.259357Z",
     "shell.execute_reply": "2021-12-12T12:04:05.259827Z",
     "shell.execute_reply.started": "2021-12-12T12:03:29.643234Z"
    },
    "papermill": {
     "duration": 0.071591,
     "end_time": "2021-12-12T12:04:05.259995",
     "exception": false,
     "start_time": "2021-12-12T12:04:05.188404",
     "status": "completed"
    },
    "tags": []
   },
   "outputs": [],
   "source": [
    "max_credit = 99999999.0"
   ]
  },
  {
   "cell_type": "code",
   "execution_count": 25,
   "id": "ece450ce",
   "metadata": {
    "execution": {
     "iopub.execute_input": "2021-12-12T12:04:05.396697Z",
     "iopub.status.busy": "2021-12-12T12:04:05.395952Z",
     "iopub.status.idle": "2021-12-12T12:04:05.403658Z",
     "shell.execute_reply": "2021-12-12T12:04:05.404221Z",
     "shell.execute_reply.started": "2021-12-12T12:03:29.648981Z"
    },
    "papermill": {
     "duration": 0.077968,
     "end_time": "2021-12-12T12:04:05.404393",
     "exception": false,
     "start_time": "2021-12-12T12:04:05.326425",
     "status": "completed"
    },
    "tags": []
   },
   "outputs": [
    {
     "data": {
      "text/plain": [
       "3.800523e+08    1\n",
       "1.304726e+09    1\n",
       "2.655129e+08    1\n",
       "Name: Maximum Open Credit, dtype: int64"
      ]
     },
     "execution_count": 25,
     "metadata": {},
     "output_type": "execute_result"
    }
   ],
   "source": [
    "df_train[df_train['Maximum Open Credit'] > max_credit]['Maximum Open Credit'].value_counts()"
   ]
  },
  {
   "cell_type": "code",
   "execution_count": 26,
   "id": "fbb945c2",
   "metadata": {
    "execution": {
     "iopub.execute_input": "2021-12-12T12:04:05.538718Z",
     "iopub.status.busy": "2021-12-12T12:04:05.538148Z",
     "iopub.status.idle": "2021-12-12T12:04:05.543733Z",
     "shell.execute_reply": "2021-12-12T12:04:05.544223Z",
     "shell.execute_reply.started": "2021-12-12T12:03:29.664972Z"
    },
    "papermill": {
     "duration": 0.074079,
     "end_time": "2021-12-12T12:04:05.544382",
     "exception": false,
     "start_time": "2021-12-12T12:04:05.470303",
     "status": "completed"
    },
    "tags": []
   },
   "outputs": [],
   "source": [
    "df_train['Maximum Open Credit Outlier'] = 0\n",
    "df_train.loc[df_train['Maximum Open Credit'] > max_credit, 'Maximum Open Credit Outlier'] = 1\n",
    "df_train.loc[df_train['Maximum Open Credit'] > max_credit, 'Maximum Open Credit'] = max_credit"
   ]
  },
  {
   "cell_type": "code",
   "execution_count": 27,
   "id": "1554667c",
   "metadata": {
    "execution": {
     "iopub.execute_input": "2021-12-12T12:04:05.678317Z",
     "iopub.status.busy": "2021-12-12T12:04:05.677758Z",
     "iopub.status.idle": "2021-12-12T12:04:05.697934Z",
     "shell.execute_reply": "2021-12-12T12:04:05.698413Z",
     "shell.execute_reply.started": "2021-12-12T12:03:29.676951Z"
    },
    "papermill": {
     "duration": 0.088767,
     "end_time": "2021-12-12T12:04:05.698576",
     "exception": false,
     "start_time": "2021-12-12T12:04:05.609809",
     "status": "completed"
    },
    "tags": []
   },
   "outputs": [
    {
     "data": {
      "text/html": [
       "<div>\n",
       "<style scoped>\n",
       "    .dataframe tbody tr th:only-of-type {\n",
       "        vertical-align: middle;\n",
       "    }\n",
       "\n",
       "    .dataframe tbody tr th {\n",
       "        vertical-align: top;\n",
       "    }\n",
       "\n",
       "    .dataframe thead th {\n",
       "        text-align: right;\n",
       "    }\n",
       "</style>\n",
       "<table border=\"1\" class=\"dataframe\">\n",
       "  <thead>\n",
       "    <tr style=\"text-align: right;\">\n",
       "      <th></th>\n",
       "      <th>Home Ownership</th>\n",
       "      <th>Annual Income</th>\n",
       "      <th>Years in current job</th>\n",
       "      <th>Tax Liens</th>\n",
       "      <th>Number of Open Accounts</th>\n",
       "      <th>Years of Credit History</th>\n",
       "      <th>Maximum Open Credit</th>\n",
       "      <th>Number of Credit Problems</th>\n",
       "      <th>Months since last delinquent</th>\n",
       "      <th>Bankruptcies</th>\n",
       "      <th>Purpose</th>\n",
       "      <th>Term</th>\n",
       "      <th>Current Loan Amount</th>\n",
       "      <th>Current Credit Balance</th>\n",
       "      <th>Monthly Debt</th>\n",
       "      <th>Credit Score</th>\n",
       "      <th>Credit Default</th>\n",
       "      <th>Credit Score Outlier</th>\n",
       "      <th>Current Loan Amount Outlier</th>\n",
       "      <th>Maximum Open Credit Outlier</th>\n",
       "    </tr>\n",
       "  </thead>\n",
       "  <tbody>\n",
       "    <tr>\n",
       "      <th>44</th>\n",
       "      <td>Have Mortgage</td>\n",
       "      <td>1334256.0</td>\n",
       "      <td>10+ years</td>\n",
       "      <td>0.0</td>\n",
       "      <td>17.0</td>\n",
       "      <td>15.4</td>\n",
       "      <td>99999999.0</td>\n",
       "      <td>1.0</td>\n",
       "      <td>35.0</td>\n",
       "      <td>0.0</td>\n",
       "      <td>take a trip</td>\n",
       "      <td>Short Term</td>\n",
       "      <td>33110.0</td>\n",
       "      <td>656450.0</td>\n",
       "      <td>34357.0</td>\n",
       "      <td>729.0</td>\n",
       "      <td>0</td>\n",
       "      <td>0</td>\n",
       "      <td>0</td>\n",
       "      <td>1</td>\n",
       "    </tr>\n",
       "    <tr>\n",
       "      <th>617</th>\n",
       "      <td>Home Mortgage</td>\n",
       "      <td>NaN</td>\n",
       "      <td>3 years</td>\n",
       "      <td>0.0</td>\n",
       "      <td>13.0</td>\n",
       "      <td>27.5</td>\n",
       "      <td>99999999.0</td>\n",
       "      <td>0.0</td>\n",
       "      <td>NaN</td>\n",
       "      <td>0.0</td>\n",
       "      <td>debt consolidation</td>\n",
       "      <td>Short Term</td>\n",
       "      <td>529892.0</td>\n",
       "      <td>1126814.0</td>\n",
       "      <td>5492.0</td>\n",
       "      <td>NaN</td>\n",
       "      <td>0</td>\n",
       "      <td>0</td>\n",
       "      <td>0</td>\n",
       "      <td>1</td>\n",
       "    </tr>\n",
       "    <tr>\n",
       "      <th>2617</th>\n",
       "      <td>Home Mortgage</td>\n",
       "      <td>3217802.0</td>\n",
       "      <td>10+ years</td>\n",
       "      <td>0.0</td>\n",
       "      <td>12.0</td>\n",
       "      <td>35.5</td>\n",
       "      <td>99999999.0</td>\n",
       "      <td>0.0</td>\n",
       "      <td>NaN</td>\n",
       "      <td>0.0</td>\n",
       "      <td>other</td>\n",
       "      <td>Short Term</td>\n",
       "      <td>50116.0</td>\n",
       "      <td>1834450.0</td>\n",
       "      <td>20272.0</td>\n",
       "      <td>750.0</td>\n",
       "      <td>0</td>\n",
       "      <td>0</td>\n",
       "      <td>0</td>\n",
       "      <td>1</td>\n",
       "    </tr>\n",
       "  </tbody>\n",
       "</table>\n",
       "</div>"
      ],
      "text/plain": [
       "     Home Ownership  Annual Income Years in current job  Tax Liens  \\\n",
       "44    Have Mortgage      1334256.0            10+ years        0.0   \n",
       "617   Home Mortgage            NaN              3 years        0.0   \n",
       "2617  Home Mortgage      3217802.0            10+ years        0.0   \n",
       "\n",
       "      Number of Open Accounts  Years of Credit History  Maximum Open Credit  \\\n",
       "44                       17.0                     15.4           99999999.0   \n",
       "617                      13.0                     27.5           99999999.0   \n",
       "2617                     12.0                     35.5           99999999.0   \n",
       "\n",
       "      Number of Credit Problems  Months since last delinquent  Bankruptcies  \\\n",
       "44                          1.0                          35.0           0.0   \n",
       "617                         0.0                           NaN           0.0   \n",
       "2617                        0.0                           NaN           0.0   \n",
       "\n",
       "                 Purpose        Term  Current Loan Amount  \\\n",
       "44           take a trip  Short Term              33110.0   \n",
       "617   debt consolidation  Short Term             529892.0   \n",
       "2617               other  Short Term              50116.0   \n",
       "\n",
       "      Current Credit Balance  Monthly Debt  Credit Score  Credit Default  \\\n",
       "44                  656450.0       34357.0         729.0               0   \n",
       "617                1126814.0        5492.0           NaN               0   \n",
       "2617               1834450.0       20272.0         750.0               0   \n",
       "\n",
       "      Credit Score Outlier  Current Loan Amount Outlier  \\\n",
       "44                       0                            0   \n",
       "617                      0                            0   \n",
       "2617                     0                            0   \n",
       "\n",
       "      Maximum Open Credit Outlier  \n",
       "44                              1  \n",
       "617                             1  \n",
       "2617                            1  "
      ]
     },
     "execution_count": 27,
     "metadata": {},
     "output_type": "execute_result"
    }
   ],
   "source": [
    "df_train[df_train['Maximum Open Credit Outlier'] == 1]"
   ]
  },
  {
   "cell_type": "markdown",
   "id": "9f17ba46",
   "metadata": {
    "papermill": {
     "duration": 0.084171,
     "end_time": "2021-12-12T12:04:05.849042",
     "exception": false,
     "start_time": "2021-12-12T12:04:05.764871",
     "status": "completed"
    },
    "tags": []
   },
   "source": [
    "#### Months since last delinquent (количество месяцев с последней просрочки платежа)"
   ]
  },
  {
   "cell_type": "code",
   "execution_count": 28,
   "id": "754fd9a7",
   "metadata": {
    "execution": {
     "iopub.execute_input": "2021-12-12T12:04:06.000338Z",
     "iopub.status.busy": "2021-12-12T12:04:05.999742Z",
     "iopub.status.idle": "2021-12-12T12:04:06.008194Z",
     "shell.execute_reply": "2021-12-12T12:04:06.008735Z",
     "shell.execute_reply.started": "2021-12-12T12:03:29.709787Z"
    },
    "papermill": {
     "duration": 0.080697,
     "end_time": "2021-12-12T12:04:06.008898",
     "exception": false,
     "start_time": "2021-12-12T12:04:05.928201",
     "status": "completed"
    },
    "tags": []
   },
   "outputs": [
    {
     "data": {
      "text/plain": [
       "count    3419.000000\n",
       "mean       34.692600\n",
       "std        21.688806\n",
       "min         0.000000\n",
       "25%        16.000000\n",
       "50%        32.000000\n",
       "75%        50.000000\n",
       "max       118.000000\n",
       "Name: Months since last delinquent, dtype: float64"
      ]
     },
     "execution_count": 28,
     "metadata": {},
     "output_type": "execute_result"
    }
   ],
   "source": [
    "df_train['Months since last delinquent'].describe()"
   ]
  },
  {
   "cell_type": "code",
   "execution_count": 29,
   "id": "7f9d5d2e",
   "metadata": {
    "execution": {
     "iopub.execute_input": "2021-12-12T12:04:06.151393Z",
     "iopub.status.busy": "2021-12-12T12:04:06.150719Z",
     "iopub.status.idle": "2021-12-12T12:04:06.155844Z",
     "shell.execute_reply": "2021-12-12T12:04:06.156420Z",
     "shell.execute_reply.started": "2021-12-12T12:03:29.727869Z"
    },
    "papermill": {
     "duration": 0.077084,
     "end_time": "2021-12-12T12:04:06.156585",
     "exception": false,
     "start_time": "2021-12-12T12:04:06.079501",
     "status": "completed"
    },
    "tags": []
   },
   "outputs": [
    {
     "data": {
      "text/plain": [
       "0.5441333333333334"
      ]
     },
     "execution_count": 29,
     "metadata": {},
     "output_type": "execute_result"
    }
   ],
   "source": [
    "NaN_percentage = df_train['Months since last delinquent'].isna().sum() / df_train.shape[0]\n",
    "NaN_percentage"
   ]
  },
  {
   "cell_type": "markdown",
   "id": "e8939724",
   "metadata": {
    "papermill": {
     "duration": 0.067134,
     "end_time": "2021-12-12T12:04:06.291922",
     "exception": false,
     "start_time": "2021-12-12T12:04:06.224788",
     "status": "completed"
    },
    "tags": []
   },
   "source": [
    "т.к. отсутствует 50+% данных, то ничего не делаем и дропнем в разделе обработка пропусков."
   ]
  },
  {
   "cell_type": "markdown",
   "id": "25cf836e",
   "metadata": {
    "papermill": {
     "duration": 0.067946,
     "end_time": "2021-12-12T12:04:06.427086",
     "exception": false,
     "start_time": "2021-12-12T12:04:06.359140",
     "status": "completed"
    },
    "tags": []
   },
   "source": [
    "### Обработка пропусков"
   ]
  },
  {
   "cell_type": "code",
   "execution_count": 30,
   "id": "19ab3004",
   "metadata": {
    "execution": {
     "iopub.execute_input": "2021-12-12T12:04:06.566521Z",
     "iopub.status.busy": "2021-12-12T12:04:06.565828Z",
     "iopub.status.idle": "2021-12-12T12:04:06.574614Z",
     "shell.execute_reply": "2021-12-12T12:04:06.575125Z",
     "shell.execute_reply.started": "2021-12-12T12:03:29.738006Z"
    },
    "papermill": {
     "duration": 0.079821,
     "end_time": "2021-12-12T12:04:06.575291",
     "exception": false,
     "start_time": "2021-12-12T12:04:06.495470",
     "status": "completed"
    },
    "tags": []
   },
   "outputs": [
    {
     "data": {
      "text/plain": [
       "Home Ownership                     0\n",
       "Annual Income                   1557\n",
       "Years in current job             371\n",
       "Tax Liens                          0\n",
       "Number of Open Accounts            0\n",
       "Years of Credit History            0\n",
       "Maximum Open Credit                0\n",
       "Number of Credit Problems          0\n",
       "Months since last delinquent    4081\n",
       "Bankruptcies                      14\n",
       "Purpose                            0\n",
       "Term                               0\n",
       "Current Loan Amount                0\n",
       "Current Credit Balance             0\n",
       "Monthly Debt                       0\n",
       "Credit Score                    1557\n",
       "Credit Default                     0\n",
       "Credit Score Outlier               0\n",
       "Current Loan Amount Outlier        0\n",
       "Maximum Open Credit Outlier        0\n",
       "dtype: int64"
      ]
     },
     "execution_count": 30,
     "metadata": {},
     "output_type": "execute_result"
    }
   ],
   "source": [
    "df_train.isna().sum()"
   ]
  },
  {
   "cell_type": "markdown",
   "id": "4315e771",
   "metadata": {
    "papermill": {
     "duration": 0.067256,
     "end_time": "2021-12-12T12:04:06.710338",
     "exception": false,
     "start_time": "2021-12-12T12:04:06.643082",
     "status": "completed"
    },
    "tags": []
   },
   "source": [
    "* Annual Income (годовой доход)\n",
    "* Years in current job (количество лет на текущем месте работы)\n",
    "* Months since last delinquent (количество месяцев с последней просрочки платежа)\n",
    "* Bankruptcies (банкротства)\n",
    "* Credit Score (баллы кредитного рейтинга)"
   ]
  },
  {
   "cell_type": "markdown",
   "id": "e3c0c4e8",
   "metadata": {
    "papermill": {
     "duration": 0.068038,
     "end_time": "2021-12-12T12:04:06.849917",
     "exception": false,
     "start_time": "2021-12-12T12:04:06.781879",
     "status": "completed"
    },
    "tags": []
   },
   "source": [
    "#### Annual Income (годовой доход)\n",
    "заполняем медианой"
   ]
  },
  {
   "cell_type": "code",
   "execution_count": 31,
   "id": "6f8152ea",
   "metadata": {
    "execution": {
     "iopub.execute_input": "2021-12-12T12:04:06.989326Z",
     "iopub.status.busy": "2021-12-12T12:04:06.988650Z",
     "iopub.status.idle": "2021-12-12T12:04:06.993675Z",
     "shell.execute_reply": "2021-12-12T12:04:06.994233Z",
     "shell.execute_reply.started": "2021-12-12T12:03:29.757429Z"
    },
    "papermill": {
     "duration": 0.076323,
     "end_time": "2021-12-12T12:04:06.994396",
     "exception": false,
     "start_time": "2021-12-12T12:04:06.918073",
     "status": "completed"
    },
    "tags": []
   },
   "outputs": [
    {
     "data": {
      "text/plain": [
       "1168386.0"
      ]
     },
     "execution_count": 31,
     "metadata": {},
     "output_type": "execute_result"
    }
   ],
   "source": [
    "df_train['Annual Income'].median()"
   ]
  },
  {
   "cell_type": "code",
   "execution_count": 32,
   "id": "bec3d8c9",
   "metadata": {
    "execution": {
     "iopub.execute_input": "2021-12-12T12:04:07.137874Z",
     "iopub.status.busy": "2021-12-12T12:04:07.137283Z",
     "iopub.status.idle": "2021-12-12T12:04:07.148162Z",
     "shell.execute_reply": "2021-12-12T12:04:07.148642Z",
     "shell.execute_reply.started": "2021-12-12T12:03:29.764979Z"
    },
    "papermill": {
     "duration": 0.083562,
     "end_time": "2021-12-12T12:04:07.148806",
     "exception": false,
     "start_time": "2021-12-12T12:04:07.065244",
     "status": "completed"
    },
    "tags": []
   },
   "outputs": [
    {
     "data": {
      "text/plain": [
       "Home Ownership                  1557\n",
       "Annual Income                      0\n",
       "Years in current job            1482\n",
       "Tax Liens                       1557\n",
       "Number of Open Accounts         1557\n",
       "Years of Credit History         1557\n",
       "Maximum Open Credit             1557\n",
       "Number of Credit Problems       1557\n",
       "Months since last delinquent     683\n",
       "Bankruptcies                    1555\n",
       "Purpose                         1557\n",
       "Term                            1557\n",
       "Current Loan Amount             1557\n",
       "Current Credit Balance          1557\n",
       "Monthly Debt                    1557\n",
       "Credit Score                       0\n",
       "Credit Default                  1557\n",
       "Credit Score Outlier            1557\n",
       "Current Loan Amount Outlier     1557\n",
       "Maximum Open Credit Outlier     1557\n",
       "Annual Income NaN               1557\n",
       "dtype: int64"
      ]
     },
     "execution_count": 32,
     "metadata": {},
     "output_type": "execute_result"
    }
   ],
   "source": [
    "df_train['Annual Income NaN'] = 0\n",
    "df_train.loc[df_train['Annual Income'].isna(), 'Annual Income NaN'] = 1\n",
    "df_train[df_train['Annual Income NaN']==1].count()"
   ]
  },
  {
   "cell_type": "code",
   "execution_count": 33,
   "id": "3866d3a1",
   "metadata": {
    "execution": {
     "iopub.execute_input": "2021-12-12T12:04:07.289355Z",
     "iopub.status.busy": "2021-12-12T12:04:07.288677Z",
     "iopub.status.idle": "2021-12-12T12:04:07.294229Z",
     "shell.execute_reply": "2021-12-12T12:04:07.293590Z",
     "shell.execute_reply.started": "2021-12-12T12:03:29.785542Z"
    },
    "papermill": {
     "duration": 0.076087,
     "end_time": "2021-12-12T12:04:07.294373",
     "exception": false,
     "start_time": "2021-12-12T12:04:07.218286",
     "status": "completed"
    },
    "tags": []
   },
   "outputs": [],
   "source": [
    "df_train['Annual Income'].fillna(df_train['Annual Income'].median(), inplace = True)"
   ]
  },
  {
   "cell_type": "code",
   "execution_count": 34,
   "id": "2a865913",
   "metadata": {
    "execution": {
     "iopub.execute_input": "2021-12-12T12:04:07.443202Z",
     "iopub.status.busy": "2021-12-12T12:04:07.442158Z",
     "iopub.status.idle": "2021-12-12T12:04:07.445586Z",
     "shell.execute_reply": "2021-12-12T12:04:07.446030Z",
     "shell.execute_reply.started": "2021-12-12T12:03:29.793506Z"
    },
    "papermill": {
     "duration": 0.082617,
     "end_time": "2021-12-12T12:04:07.446211",
     "exception": false,
     "start_time": "2021-12-12T12:04:07.363594",
     "status": "completed"
    },
    "tags": []
   },
   "outputs": [
    {
     "data": {
      "text/plain": [
       "0"
      ]
     },
     "execution_count": 34,
     "metadata": {},
     "output_type": "execute_result"
    }
   ],
   "source": [
    "df_train['Annual Income'].isna().sum()"
   ]
  },
  {
   "cell_type": "code",
   "execution_count": 35,
   "id": "99778b30",
   "metadata": {
    "execution": {
     "iopub.execute_input": "2021-12-12T12:04:07.593674Z",
     "iopub.status.busy": "2021-12-12T12:04:07.592598Z",
     "iopub.status.idle": "2021-12-12T12:04:07.798902Z",
     "shell.execute_reply": "2021-12-12T12:04:07.798381Z",
     "shell.execute_reply.started": "2021-12-12T12:03:29.807178Z"
    },
    "papermill": {
     "duration": 0.280115,
     "end_time": "2021-12-12T12:04:07.799039",
     "exception": false,
     "start_time": "2021-12-12T12:04:07.518924",
     "status": "completed"
    },
    "tags": []
   },
   "outputs": [
    {
     "data": {
      "image/png": "[encoded data removed]",
      "text/plain": [
       "<Figure size 288x288 with 1 Axes>"
      ]
     },
     "metadata": {
      "needs_background": "light"
     },
     "output_type": "display_data"
    }
   ],
   "source": [
    "df_train['Annual Income'].hist(bins = 20, figsize = (4, 4))\n",
    "plt.show()"
   ]
  },
  {
   "cell_type": "markdown",
   "id": "9b6f2e9c",
   "metadata": {
    "papermill": {
     "duration": 0.069028,
     "end_time": "2021-12-12T12:04:07.937174",
     "exception": false,
     "start_time": "2021-12-12T12:04:07.868146",
     "status": "completed"
    },
    "tags": []
   },
   "source": [
    "#### Years in current job (количество лет на текущем месте работы)\n",
    "Заполним модой."
   ]
  },
  {
   "cell_type": "code",
   "execution_count": 36,
   "id": "9b81a42e",
   "metadata": {
    "execution": {
     "iopub.execute_input": "2021-12-12T12:04:08.081311Z",
     "iopub.status.busy": "2021-12-12T12:04:08.080697Z",
     "iopub.status.idle": "2021-12-12T12:04:08.086289Z",
     "shell.execute_reply": "2021-12-12T12:04:08.086831Z",
     "shell.execute_reply.started": "2021-12-12T12:03:30.034480Z"
    },
    "papermill": {
     "duration": 0.078604,
     "end_time": "2021-12-12T12:04:08.087001",
     "exception": false,
     "start_time": "2021-12-12T12:04:08.008397",
     "status": "completed"
    },
    "tags": []
   },
   "outputs": [
    {
     "data": {
      "text/plain": [
       "'10+ years'"
      ]
     },
     "execution_count": 36,
     "metadata": {},
     "output_type": "execute_result"
    }
   ],
   "source": [
    "mode = df_train['Years in current job'].mode().values[0]\n",
    "mode"
   ]
  },
  {
   "cell_type": "code",
   "execution_count": 37,
   "id": "e0122ff4",
   "metadata": {
    "execution": {
     "iopub.execute_input": "2021-12-12T12:04:08.234364Z",
     "iopub.status.busy": "2021-12-12T12:04:08.233769Z",
     "iopub.status.idle": "2021-12-12T12:04:08.240340Z",
     "shell.execute_reply": "2021-12-12T12:04:08.240828Z",
     "shell.execute_reply.started": "2021-12-12T12:03:30.043187Z"
    },
    "papermill": {
     "duration": 0.081504,
     "end_time": "2021-12-12T12:04:08.240997",
     "exception": false,
     "start_time": "2021-12-12T12:04:08.159493",
     "status": "completed"
    },
    "tags": []
   },
   "outputs": [],
   "source": [
    "df_train['Years in current job NaN'] = 0\n",
    "df_train.loc[df_train['Years in current job'].isna(), 'Years in current job NaN'] = 1\n",
    "df_train['Years in current job'].fillna(mode, inplace = True)"
   ]
  },
  {
   "cell_type": "code",
   "execution_count": 38,
   "id": "04346b7f",
   "metadata": {
    "execution": {
     "iopub.execute_input": "2021-12-12T12:04:08.384299Z",
     "iopub.status.busy": "2021-12-12T12:04:08.383708Z",
     "iopub.status.idle": "2021-12-12T12:04:08.389180Z",
     "shell.execute_reply": "2021-12-12T12:04:08.389683Z",
     "shell.execute_reply.started": "2021-12-12T12:03:30.059884Z"
    },
    "papermill": {
     "duration": 0.078309,
     "end_time": "2021-12-12T12:04:08.389851",
     "exception": false,
     "start_time": "2021-12-12T12:04:08.311542",
     "status": "completed"
    },
    "tags": []
   },
   "outputs": [
    {
     "data": {
      "text/plain": [
       "0"
      ]
     },
     "execution_count": 38,
     "metadata": {},
     "output_type": "execute_result"
    }
   ],
   "source": [
    "df_train['Years in current job'].isna().sum()"
   ]
  },
  {
   "cell_type": "markdown",
   "id": "597e6af9",
   "metadata": {
    "papermill": {
     "duration": 0.069969,
     "end_time": "2021-12-12T12:04:08.531000",
     "exception": false,
     "start_time": "2021-12-12T12:04:08.461031",
     "status": "completed"
    },
    "tags": []
   },
   "source": [
    "#### Months since last delinquent (количество месяцев с последней просрочки платежа)"
   ]
  },
  {
   "cell_type": "code",
   "execution_count": 39,
   "id": "4cb56333",
   "metadata": {
    "execution": {
     "iopub.execute_input": "2021-12-12T12:04:08.673934Z",
     "iopub.status.busy": "2021-12-12T12:04:08.673338Z",
     "iopub.status.idle": "2021-12-12T12:04:08.678822Z",
     "shell.execute_reply": "2021-12-12T12:04:08.679386Z",
     "shell.execute_reply.started": "2021-12-12T12:03:30.074826Z"
    },
    "papermill": {
     "duration": 0.078717,
     "end_time": "2021-12-12T12:04:08.679570",
     "exception": false,
     "start_time": "2021-12-12T12:04:08.600853",
     "status": "completed"
    },
    "tags": []
   },
   "outputs": [],
   "source": [
    "df_train.drop('Months since last delinquent', axis=1, inplace=True)"
   ]
  },
  {
   "cell_type": "markdown",
   "id": "3a196e43",
   "metadata": {
    "papermill": {
     "duration": 0.068897,
     "end_time": "2021-12-12T12:04:08.819843",
     "exception": false,
     "start_time": "2021-12-12T12:04:08.750946",
     "status": "completed"
    },
    "tags": []
   },
   "source": [
    "#### Bankruptcies (банкротства)"
   ]
  },
  {
   "cell_type": "code",
   "execution_count": 40,
   "id": "6819bcd4",
   "metadata": {
    "execution": {
     "iopub.execute_input": "2021-12-12T12:04:08.961772Z",
     "iopub.status.busy": "2021-12-12T12:04:08.960829Z",
     "iopub.status.idle": "2021-12-12T12:04:08.966449Z",
     "shell.execute_reply": "2021-12-12T12:04:08.966978Z",
     "shell.execute_reply.started": "2021-12-12T12:03:30.090291Z"
    },
    "papermill": {
     "duration": 0.078155,
     "end_time": "2021-12-12T12:04:08.967158",
     "exception": false,
     "start_time": "2021-12-12T12:04:08.889003",
     "status": "completed"
    },
    "tags": []
   },
   "outputs": [
    {
     "data": {
      "text/plain": [
       "0.0"
      ]
     },
     "execution_count": 40,
     "metadata": {},
     "output_type": "execute_result"
    }
   ],
   "source": [
    "df_train['Bankruptcies'].median()"
   ]
  },
  {
   "cell_type": "code",
   "execution_count": 41,
   "id": "bbc3e688",
   "metadata": {
    "execution": {
     "iopub.execute_input": "2021-12-12T12:04:09.114083Z",
     "iopub.status.busy": "2021-12-12T12:04:09.113145Z",
     "iopub.status.idle": "2021-12-12T12:04:09.119085Z",
     "shell.execute_reply": "2021-12-12T12:04:09.119581Z",
     "shell.execute_reply.started": "2021-12-12T12:03:30.106238Z"
    },
    "papermill": {
     "duration": 0.082815,
     "end_time": "2021-12-12T12:04:09.119751",
     "exception": false,
     "start_time": "2021-12-12T12:04:09.036936",
     "status": "completed"
    },
    "tags": []
   },
   "outputs": [
    {
     "data": {
      "text/plain": [
       "0"
      ]
     },
     "execution_count": 41,
     "metadata": {},
     "output_type": "execute_result"
    }
   ],
   "source": [
    "df_train['Bankruptcies NaN'] = 0\n",
    "df_train.loc[df_train['Bankruptcies'].isna(), 'Bankruptcies NaN'] = 1\n",
    "df_train['Bankruptcies'].fillna(df_train['Bankruptcies'].median(), inplace = True)\n",
    "df_train['Bankruptcies'].isna().sum()"
   ]
  },
  {
   "cell_type": "markdown",
   "id": "0198bc33",
   "metadata": {
    "papermill": {
     "duration": 0.069434,
     "end_time": "2021-12-12T12:04:09.258787",
     "exception": false,
     "start_time": "2021-12-12T12:04:09.189353",
     "status": "completed"
    },
    "tags": []
   },
   "source": [
    "#### Credit Score (баллы кредитного рейтинга)"
   ]
  },
  {
   "cell_type": "code",
   "execution_count": 42,
   "id": "a9773898",
   "metadata": {
    "execution": {
     "iopub.execute_input": "2021-12-12T12:04:09.401950Z",
     "iopub.status.busy": "2021-12-12T12:04:09.400987Z",
     "iopub.status.idle": "2021-12-12T12:04:09.406614Z",
     "shell.execute_reply": "2021-12-12T12:04:09.407155Z",
     "shell.execute_reply.started": "2021-12-12T12:03:30.122663Z"
    },
    "papermill": {
     "duration": 0.078796,
     "end_time": "2021-12-12T12:04:09.407321",
     "exception": false,
     "start_time": "2021-12-12T12:04:09.328525",
     "status": "completed"
    },
    "tags": []
   },
   "outputs": [
    {
     "data": {
      "text/plain": [
       "729.0"
      ]
     },
     "execution_count": 42,
     "metadata": {},
     "output_type": "execute_result"
    }
   ],
   "source": [
    "df_train['Credit Score'].median()"
   ]
  },
  {
   "cell_type": "code",
   "execution_count": 43,
   "id": "153b4495",
   "metadata": {
    "execution": {
     "iopub.execute_input": "2021-12-12T12:04:09.552776Z",
     "iopub.status.busy": "2021-12-12T12:04:09.551819Z",
     "iopub.status.idle": "2021-12-12T12:04:09.560428Z",
     "shell.execute_reply": "2021-12-12T12:04:09.560932Z",
     "shell.execute_reply.started": "2021-12-12T12:03:30.132443Z"
    },
    "papermill": {
     "duration": 0.082527,
     "end_time": "2021-12-12T12:04:09.561094",
     "exception": false,
     "start_time": "2021-12-12T12:04:09.478567",
     "status": "completed"
    },
    "tags": []
   },
   "outputs": [
    {
     "data": {
      "text/plain": [
       "0"
      ]
     },
     "execution_count": 43,
     "metadata": {},
     "output_type": "execute_result"
    }
   ],
   "source": [
    "df_train['Credit Score NaN'] = 0\n",
    "df_train.loc[df_train['Credit Score'].isna(), 'Credit Score NaN'] = 1\n",
    "df_train['Credit Score'].fillna(df_train['Credit Score'].median(), inplace = True)\n",
    "df_train['Credit Score'].isna().sum()"
   ]
  },
  {
   "cell_type": "code",
   "execution_count": 44,
   "id": "1a02e74a",
   "metadata": {
    "execution": {
     "iopub.execute_input": "2021-12-12T12:04:09.705399Z",
     "iopub.status.busy": "2021-12-12T12:04:09.704304Z",
     "iopub.status.idle": "2021-12-12T12:04:09.895823Z",
     "shell.execute_reply": "2021-12-12T12:04:09.896395Z",
     "shell.execute_reply.started": "2021-12-12T12:03:30.147879Z"
    },
    "papermill": {
     "duration": 0.265321,
     "end_time": "2021-12-12T12:04:09.896562",
     "exception": false,
     "start_time": "2021-12-12T12:04:09.631241",
     "status": "completed"
    },
    "tags": []
   },
   "outputs": [
    {
     "data": {
      "image/png": "[encoded data removed]",
      "text/plain": [
       "<Figure size 288x288 with 1 Axes>"
      ]
     },
     "metadata": {
      "needs_background": "light"
     },
     "output_type": "display_data"
    }
   ],
   "source": [
    "df_train['Credit Score'].hist(bins=20, figsize = (4, 4))\n",
    "plt.show()"
   ]
  },
  {
   "cell_type": "code",
   "execution_count": 45,
   "id": "05c86c04",
   "metadata": {
    "execution": {
     "iopub.execute_input": "2021-12-12T12:04:10.044480Z",
     "iopub.status.busy": "2021-12-12T12:04:10.043514Z",
     "iopub.status.idle": "2021-12-12T12:04:10.053487Z",
     "shell.execute_reply": "2021-12-12T12:04:10.054043Z",
     "shell.execute_reply.started": "2021-12-12T12:03:30.365887Z"
    },
    "papermill": {
     "duration": 0.085224,
     "end_time": "2021-12-12T12:04:10.054257",
     "exception": false,
     "start_time": "2021-12-12T12:04:09.969033",
     "status": "completed"
    },
    "tags": []
   },
   "outputs": [
    {
     "data": {
      "text/plain": [
       "Home Ownership                 0\n",
       "Annual Income                  0\n",
       "Years in current job           0\n",
       "Tax Liens                      0\n",
       "Number of Open Accounts        0\n",
       "Years of Credit History        0\n",
       "Maximum Open Credit            0\n",
       "Number of Credit Problems      0\n",
       "Bankruptcies                   0\n",
       "Purpose                        0\n",
       "Term                           0\n",
       "Current Loan Amount            0\n",
       "Current Credit Balance         0\n",
       "Monthly Debt                   0\n",
       "Credit Score                   0\n",
       "Credit Default                 0\n",
       "Credit Score Outlier           0\n",
       "Current Loan Amount Outlier    0\n",
       "Maximum Open Credit Outlier    0\n",
       "Annual Income NaN              0\n",
       "Years in current job NaN       0\n",
       "Bankruptcies NaN               0\n",
       "Credit Score NaN               0\n",
       "dtype: int64"
      ]
     },
     "execution_count": 45,
     "metadata": {},
     "output_type": "execute_result"
    }
   ],
   "source": [
    "df_train.isna().sum()"
   ]
  },
  {
   "cell_type": "markdown",
   "id": "e8b0fd3d",
   "metadata": {
    "papermill": {
     "duration": 0.071085,
     "end_time": "2021-12-12T12:04:10.196888",
     "exception": false,
     "start_time": "2021-12-12T12:04:10.125803",
     "status": "completed"
    },
    "tags": []
   },
   "source": [
    "### Построение новых признаков\n",
    "Term (срок кредита) - замена на Long Term (долгосрочный кредит): 1-да, 0-нет"
   ]
  },
  {
   "cell_type": "code",
   "execution_count": 46,
   "id": "a2a6eb44",
   "metadata": {
    "execution": {
     "iopub.execute_input": "2021-12-12T12:04:10.344928Z",
     "iopub.status.busy": "2021-12-12T12:04:10.343971Z",
     "iopub.status.idle": "2021-12-12T12:04:10.349870Z",
     "shell.execute_reply": "2021-12-12T12:04:10.350480Z",
     "shell.execute_reply.started": "2021-12-12T12:03:30.382326Z"
    },
    "papermill": {
     "duration": 0.082264,
     "end_time": "2021-12-12T12:04:10.350648",
     "exception": false,
     "start_time": "2021-12-12T12:04:10.268384",
     "status": "completed"
    },
    "tags": []
   },
   "outputs": [],
   "source": [
    "df_train['Long Term'] = df_train['Term'].map({'Long Term': 1, 'Short Term': 0})"
   ]
  },
  {
   "cell_type": "markdown",
   "id": "ffd98c4f",
   "metadata": {
    "papermill": {
     "duration": 0.072405,
     "end_time": "2021-12-12T12:04:10.494645",
     "exception": false,
     "start_time": "2021-12-12T12:04:10.422240",
     "status": "completed"
    },
    "tags": []
   },
   "source": [
    "#### Years in current job (количество лет на текущем месте работы) - сделаем разбивку на категории:<3, 4-6, 7-9, 10+ лет"
   ]
  },
  {
   "cell_type": "code",
   "execution_count": 47,
   "id": "cdea8777",
   "metadata": {
    "execution": {
     "iopub.execute_input": "2021-12-12T12:04:10.644938Z",
     "iopub.status.busy": "2021-12-12T12:04:10.644092Z",
     "iopub.status.idle": "2021-12-12T12:04:10.646879Z",
     "shell.execute_reply": "2021-12-12T12:04:10.647498Z",
     "shell.execute_reply.started": "2021-12-12T12:03:30.392937Z"
    },
    "papermill": {
     "duration": 0.08116,
     "end_time": "2021-12-12T12:04:10.647678",
     "exception": false,
     "start_time": "2021-12-12T12:04:10.566518",
     "status": "completed"
    },
    "tags": []
   },
   "outputs": [],
   "source": [
    "df_train['Years in current job'] = df_train['Years in current job'].map({'< 1 year':0, \n",
    "                                                                       '1 year':0, \n",
    "                                                                       '2 years':0, \n",
    "                                                                       '3 years':0, \n",
    "                                                                       '4 years':1, \n",
    "                                                                       '5 years':1, \n",
    "                                                                       '6 years':1, \n",
    "                                                                       '7 years':2,\n",
    "                                                                       '8 years':2,\n",
    "                                                                       '9 years':2,\n",
    "                                                                       '10+ years':3})"
   ]
  },
  {
   "cell_type": "markdown",
   "id": "f612fa88",
   "metadata": {
    "papermill": {
     "duration": 0.071264,
     "end_time": "2021-12-12T12:04:10.789753",
     "exception": false,
     "start_time": "2021-12-12T12:04:10.718489",
     "status": "completed"
    },
    "tags": []
   },
   "source": [
    "#### Home ownership (домовладение)"
   ]
  },
  {
   "cell_type": "code",
   "execution_count": 48,
   "id": "4bb453e6",
   "metadata": {
    "execution": {
     "iopub.execute_input": "2021-12-12T12:04:10.939058Z",
     "iopub.status.busy": "2021-12-12T12:04:10.938035Z",
     "iopub.status.idle": "2021-12-12T12:04:10.948448Z",
     "shell.execute_reply": "2021-12-12T12:04:10.948917Z",
     "shell.execute_reply.started": "2021-12-12T12:03:30.405296Z"
    },
    "papermill": {
     "duration": 0.08736,
     "end_time": "2021-12-12T12:04:10.949101",
     "exception": false,
     "start_time": "2021-12-12T12:04:10.861741",
     "status": "completed"
    },
    "tags": []
   },
   "outputs": [],
   "source": [
    "df_train = pd.concat([df_train, pd.get_dummies(df_train['Home Ownership'])], axis=1)"
   ]
  },
  {
   "cell_type": "markdown",
   "id": "3e829d62",
   "metadata": {
    "papermill": {
     "duration": 0.074454,
     "end_time": "2021-12-12T12:04:11.099688",
     "exception": false,
     "start_time": "2021-12-12T12:04:11.025234",
     "status": "completed"
    },
    "tags": []
   },
   "source": [
    "Credit Score(баллы кредитного рейтинга) - Сделаем разбивку рейтинга на категории:\n",
    "* Excellent: 800 to 850\n",
    "* Very Good: 740 to 799\n",
    "* Good: 670 to 739\n",
    "* Fair: 580 to 669\n",
    "* Poor: 300 to 579"
   ]
  },
  {
   "cell_type": "code",
   "execution_count": 49,
   "id": "a1f1daee",
   "metadata": {
    "execution": {
     "iopub.execute_input": "2021-12-12T12:04:11.254777Z",
     "iopub.status.busy": "2021-12-12T12:04:11.254143Z",
     "iopub.status.idle": "2021-12-12T12:04:11.256603Z",
     "shell.execute_reply": "2021-12-12T12:04:11.257120Z",
     "shell.execute_reply.started": "2021-12-12T12:03:30.428557Z"
    },
    "papermill": {
     "duration": 0.082589,
     "end_time": "2021-12-12T12:04:11.257291",
     "exception": false,
     "start_time": "2021-12-12T12:04:11.174702",
     "status": "completed"
    },
    "tags": []
   },
   "outputs": [],
   "source": [
    "def credit_score_to_cat(X):\n",
    "    bins = [300, 579, 669, 739, 799, 850]\n",
    "    X['Credit Score Cat'] = pd.cut(X['Credit Score'], bins=bins, labels=False)\n",
    "    \n",
    "    X['Credit Score Cat'].fillna(-1, inplace=True)\n",
    "    return X"
   ]
  },
  {
   "cell_type": "code",
   "execution_count": 50,
   "id": "6d0492af",
   "metadata": {
    "execution": {
     "iopub.execute_input": "2021-12-12T12:04:11.409297Z",
     "iopub.status.busy": "2021-12-12T12:04:11.408561Z",
     "iopub.status.idle": "2021-12-12T12:04:11.414462Z",
     "shell.execute_reply": "2021-12-12T12:04:11.414984Z",
     "shell.execute_reply.started": "2021-12-12T12:03:30.437663Z"
    },
    "papermill": {
     "duration": 0.083634,
     "end_time": "2021-12-12T12:04:11.415186",
     "exception": false,
     "start_time": "2021-12-12T12:04:11.331552",
     "status": "completed"
    },
    "tags": []
   },
   "outputs": [],
   "source": [
    "df_train = credit_score_to_cat(df_train)"
   ]
  },
  {
   "cell_type": "markdown",
   "id": "0cd9fd0e",
   "metadata": {
    "papermill": {
     "duration": 0.071078,
     "end_time": "2021-12-12T12:04:11.560213",
     "exception": false,
     "start_time": "2021-12-12T12:04:11.489135",
     "status": "completed"
    },
    "tags": []
   },
   "source": [
    "### Классы обработки данных\n",
    "#### Обработка выбрососв и пропусков"
   ]
  },
  {
   "cell_type": "code",
   "execution_count": 51,
   "id": "d3d20a7a",
   "metadata": {
    "execution": {
     "iopub.execute_input": "2021-12-12T12:04:11.902691Z",
     "iopub.status.busy": "2021-12-12T12:04:11.901316Z",
     "iopub.status.idle": "2021-12-12T12:04:11.903410Z",
     "shell.execute_reply": "2021-12-12T12:04:11.903857Z",
     "shell.execute_reply.started": "2021-12-12T12:03:30.456936Z"
    },
    "papermill": {
     "duration": 0.270836,
     "end_time": "2021-12-12T12:04:11.904021",
     "exception": false,
     "start_time": "2021-12-12T12:04:11.633185",
     "status": "completed"
    },
    "tags": []
   },
   "outputs": [],
   "source": [
    "class DataPreparation:\n",
    "    \n",
    "    def __init__(self):\n",
    "        self.medians = None\n",
    "        self.modes = None\n",
    "        self.max_score = 850\n",
    "        self.max_credit = 99999999.0\n",
    "        \n",
    "    def fit(self, X):\n",
    "        \"\"\"Сохранение статистик\"\"\"\n",
    "        X = X.copy()\n",
    "        # Расчет медиан и мод\n",
    "        self.medians = X.median()\n",
    "        self.modes = X.mode().loc[0]\n",
    "        \n",
    "    def transform(self, X):\n",
    "        \"\"\"Трансформация данных\"\"\"\n",
    "        \n",
    "        # Credit Score (баллы кредитного рейтинга)\n",
    "        X['Credit Score Outlier'] = 0\n",
    "        X['Credit Score NaN'] = 0\n",
    "        X.loc[X['Credit Score'] > self.max_score, 'Credit Score Outlier'] = 1\n",
    "        X.loc[X['Credit Score'].isna(), 'Credit Score NaN'] = 1\n",
    "        \n",
    "        X.loc[X['Credit Score'] > self.max_score, 'Credit Score'] = \\\n",
    "                                X.loc[df_train['Credit Score'] > self.max_score, 'Credit Score'] / 10\n",
    "        \n",
    "        # Current Loan Amount (текущая сумма кредита)\n",
    "        X['Current Loan Amount Outlier'] = 0\n",
    "        X.loc[X['Current Loan Amount'] == self.max_credit, 'Current Loan Amount Outlier'] = 1\n",
    "        X.loc[X['Current Loan Amount'] == self.max_credit, 'Current Loan Amount'] = self.medians['Current Loan Amount']\n",
    "        \n",
    "        # Maximum Open Credit (наибольший открытый кредит)\n",
    "        X['Maximum Open Credit Outlier'] = 0\n",
    "        X.loc[X['Maximum Open Credit'] > max_credit, 'Maximum Open Credit Outlier'] = 1\n",
    "        X.loc[X['Maximum Open Credit'] > max_credit, 'Maximum Open Credit'] = max_credit\n",
    "        \n",
    "        # Annual Income (годовой доход)\n",
    "        X['Annual Income NaN'] = 0\n",
    "        X.loc[X['Annual Income'].isna(), 'Annual Income NaN'] = 1\n",
    "        X['Annual Income'].fillna(self.medians['Annual Income'], inplace = True)\n",
    "        \n",
    "        # Years in current job (количество лет на текущем месте работы)\n",
    "        X['Years in current job NaN'] = 0\n",
    "        X.loc[X['Years in current job'].isna(), 'Years in current job NaN'] = 1\n",
    "        X['Years in current job'].fillna(self.modes['Years in current job'], inplace = True)\n",
    "        \n",
    "        # Months since last delinquent (количество месяцев с последней просрочки платежа)\n",
    "        X.drop('Months since last delinquent', axis=1, inplace=True)\n",
    "        \n",
    "        # Bankruptcies (банкротства)\n",
    "        X['Bankruptcies NaN'] = 0\n",
    "        X.loc[X['Bankruptcies'].isna(), 'Bankruptcies NaN'] = 1\n",
    "        X['Bankruptcies'].fillna(self.medians['Bankruptcies'], inplace = True)\n",
    "        \n",
    "        X.fillna(self.medians, inplace=True)\n",
    "        \n",
    "        return X"
   ]
  },
  {
   "cell_type": "markdown",
   "id": "03b8f4cc",
   "metadata": {
    "papermill": {
     "duration": 0.072286,
     "end_time": "2021-12-12T12:04:12.048771",
     "exception": false,
     "start_time": "2021-12-12T12:04:11.976485",
     "status": "completed"
    },
    "tags": []
   },
   "source": [
    "#### Генерация новых признаков"
   ]
  },
  {
   "cell_type": "code",
   "execution_count": 52,
   "id": "8018bdb3",
   "metadata": {
    "execution": {
     "iopub.execute_input": "2021-12-12T12:04:12.195847Z",
     "iopub.status.busy": "2021-12-12T12:04:12.194863Z",
     "iopub.status.idle": "2021-12-12T12:04:12.203003Z",
     "shell.execute_reply": "2021-12-12T12:04:12.203509Z",
     "shell.execute_reply.started": "2021-12-12T12:03:30.477462Z"
    },
    "papermill": {
     "duration": 0.083051,
     "end_time": "2021-12-12T12:04:12.203677",
     "exception": false,
     "start_time": "2021-12-12T12:04:12.120626",
     "status": "completed"
    },
    "tags": []
   },
   "outputs": [],
   "source": [
    "class FeatureGenerator():\n",
    "    \"\"\"Генерация новых фич\"\"\"\n",
    "    \n",
    "    def fit(self, X, y=None):\n",
    "        X = X.copy()\n",
    "        \n",
    "    def transform(self, X):\n",
    "        \n",
    "        #Term (срок кредита)\n",
    "        X['Long Term'] = X['Term'].map({'Long Term' : 1, 'Short Term': 0})\n",
    "        \n",
    "        # Years in current job (количество лет на текущем месте работы)\n",
    "        X['Years in current job'] = X['Years in current job']. map({'< 1 year':0,\n",
    "                                                                   '1 year':0,\n",
    "                                                                   '2 years':0,\n",
    "                                                                   '3 years':0,\n",
    "                                                                   '4 years':1,\n",
    "                                                                   '5 years':1,\n",
    "                                                                   '6 years':1,\n",
    "                                                                   '7 years':2,\n",
    "                                                                   '8 years':2,\n",
    "                                                                   '9 years':2,\n",
    "                                                                   '10+ years':3,})\n",
    "        \n",
    "        # Home Ownership (домовладение)\n",
    "        X = pd.concat([X, pd.get_dummies(X['Home Ownership'])], axis=1)\n",
    "        \n",
    "        # Credit Score (баллы кредитного рейтинга)\n",
    "        X = self.credit_score_to_cat(X)\n",
    "        \n",
    "        return X\n",
    "    \n",
    "    def credit_score_to_cat(self, X):\n",
    "        bins = [300, 579, 669, 739, 799, 850]\n",
    "        X['Credit Score Cat'] = pd.cut(X['Credit Score'], bins=bins, labels=False)\n",
    "        \n",
    "        X['Credit Score Cat'].fillna(-1, inplace=True)\n",
    "        return X"
   ]
  },
  {
   "cell_type": "markdown",
   "id": "cf732671",
   "metadata": {
    "papermill": {
     "duration": 0.07033,
     "end_time": "2021-12-12T12:04:12.344856",
     "exception": false,
     "start_time": "2021-12-12T12:04:12.274526",
     "status": "completed"
    },
    "tags": []
   },
   "source": [
    "#### Отбор признаков"
   ]
  },
  {
   "cell_type": "code",
   "execution_count": 53,
   "id": "fd30dad4",
   "metadata": {
    "execution": {
     "iopub.execute_input": "2021-12-12T12:04:12.494564Z",
     "iopub.status.busy": "2021-12-12T12:04:12.493348Z",
     "iopub.status.idle": "2021-12-12T12:04:12.499273Z",
     "shell.execute_reply": "2021-12-12T12:04:12.499764Z",
     "shell.execute_reply.started": "2021-12-12T12:03:30.495759Z"
    },
    "papermill": {
     "duration": 0.082773,
     "end_time": "2021-12-12T12:04:12.499940",
     "exception": false,
     "start_time": "2021-12-12T12:04:12.417167",
     "status": "completed"
    },
    "tags": []
   },
   "outputs": [],
   "source": [
    "feature_names = ['Annual Income', \n",
    "                 'Tax Liens', \n",
    "                 'Number of Open Accounts', \n",
    "                 'Years of Credit History', \n",
    "                 'Maximum Open Credit', \n",
    "                 'Number of Credit Problems', \n",
    "#                  'Months since last delinquent', \n",
    "                 'Bankruptcies',\n",
    "                 'Current Loan Amount', \n",
    "                 'Current Credit Balance', \n",
    "                 'Monthly Debt', \n",
    "                 'Credit Score', \n",
    "                 'Years in current job', \n",
    "#                  'Purpose'\n",
    "                ]\n",
    "\n",
    "new_feature_names = [\n",
    "#                          'Home Ownership',\n",
    "#                          'Term',\n",
    "#                          'Credit Score Outlier',\n",
    "#                          'Current Loan Amount Outlier',\n",
    "#                          'Maximum Open Credit Outlier',\n",
    "#                          'Annual Income NaN',\n",
    "#                          'Years in current job NaN',\n",
    "#                          'Bankruptcies NaN',\n",
    "#                          'Credit Score NaN',\n",
    "                         'Long Term',\n",
    "                         'Have Mortgage',\n",
    "                         'Home Mortgage',\n",
    "                         'Own Home',\n",
    "                         'Rent',\n",
    "                         'Credit Score Cat'\n",
    "                    ]\n",
    "\n",
    "target_name = 'Credit Default'"
   ]
  },
  {
   "cell_type": "code",
   "execution_count": 54,
   "id": "ca75fe16",
   "metadata": {
    "execution": {
     "iopub.execute_input": "2021-12-12T12:04:12.650353Z",
     "iopub.status.busy": "2021-12-12T12:04:12.649285Z",
     "iopub.status.idle": "2021-12-12T12:04:12.653552Z",
     "shell.execute_reply": "2021-12-12T12:04:12.652975Z",
     "shell.execute_reply.started": "2021-12-12T12:03:30.514395Z"
    },
    "papermill": {
     "duration": 0.08084,
     "end_time": "2021-12-12T12:04:12.653697",
     "exception": false,
     "start_time": "2021-12-12T12:04:12.572857",
     "status": "completed"
    },
    "tags": []
   },
   "outputs": [
    {
     "data": {
      "text/plain": [
       "18"
      ]
     },
     "execution_count": 54,
     "metadata": {},
     "output_type": "execute_result"
    }
   ],
   "source": [
    "all_feature_names = (feature_names)+(new_feature_names)\n",
    "len(all_feature_names)"
   ]
  },
  {
   "cell_type": "markdown",
   "id": "17330611",
   "metadata": {
    "papermill": {
     "duration": 0.075042,
     "end_time": "2021-12-12T12:04:12.801909",
     "exception": false,
     "start_time": "2021-12-12T12:04:12.726867",
     "status": "completed"
    },
    "tags": []
   },
   "source": [
    "### Разбиение на train и test"
   ]
  },
  {
   "cell_type": "code",
   "execution_count": 55,
   "id": "505d97a4",
   "metadata": {
    "execution": {
     "iopub.execute_input": "2021-12-12T12:04:12.949190Z",
     "iopub.status.busy": "2021-12-12T12:04:12.948483Z",
     "iopub.status.idle": "2021-12-12T12:04:12.976006Z",
     "shell.execute_reply": "2021-12-12T12:04:12.976545Z",
     "shell.execute_reply.started": "2021-12-12T12:03:30.531602Z"
    },
    "papermill": {
     "duration": 0.102395,
     "end_time": "2021-12-12T12:04:12.976732",
     "exception": false,
     "start_time": "2021-12-12T12:04:12.874337",
     "status": "completed"
    },
    "tags": []
   },
   "outputs": [],
   "source": [
    "df_train = pd.read_csv(TRAIN_DATASET_PATH)\n",
    "df_test = pd.read_csv(TEST_DATASET_PATH)"
   ]
  },
  {
   "cell_type": "code",
   "execution_count": 56,
   "id": "d87259cb",
   "metadata": {
    "execution": {
     "iopub.execute_input": "2021-12-12T12:04:13.124529Z",
     "iopub.status.busy": "2021-12-12T12:04:13.123816Z",
     "iopub.status.idle": "2021-12-12T12:04:13.129095Z",
     "shell.execute_reply": "2021-12-12T12:04:13.129713Z",
     "shell.execute_reply.started": "2021-12-12T12:03:30.576916Z"
    },
    "papermill": {
     "duration": 0.081141,
     "end_time": "2021-12-12T12:04:13.129887",
     "exception": false,
     "start_time": "2021-12-12T12:04:13.048746",
     "status": "completed"
    },
    "tags": []
   },
   "outputs": [],
   "source": [
    "X = df_train.drop(columns=target_name)\n",
    "y = df_train[target_name]"
   ]
  },
  {
   "cell_type": "code",
   "execution_count": 57,
   "id": "c9564211",
   "metadata": {
    "execution": {
     "iopub.execute_input": "2021-12-12T12:04:13.278880Z",
     "iopub.status.busy": "2021-12-12T12:04:13.278165Z",
     "iopub.status.idle": "2021-12-12T12:04:13.283902Z",
     "shell.execute_reply": "2021-12-12T12:04:13.284410Z",
     "shell.execute_reply.started": "2021-12-12T12:03:30.585231Z"
    },
    "papermill": {
     "duration": 0.082649,
     "end_time": "2021-12-12T12:04:13.284587",
     "exception": false,
     "start_time": "2021-12-12T12:04:13.201938",
     "status": "completed"
    },
    "tags": []
   },
   "outputs": [],
   "source": [
    "X_train, X_valid, y_train, y_valid = train_test_split(X, y, test_size=0.33, shuffle=True, random_state=14)"
   ]
  },
  {
   "cell_type": "code",
   "execution_count": 58,
   "id": "329e6879",
   "metadata": {
    "execution": {
     "iopub.execute_input": "2021-12-12T12:04:13.433069Z",
     "iopub.status.busy": "2021-12-12T12:04:13.432390Z",
     "iopub.status.idle": "2021-12-12T12:04:13.495607Z",
     "shell.execute_reply": "2021-12-12T12:04:13.494965Z",
     "shell.execute_reply.started": "2021-12-12T12:03:30.599000Z"
    },
    "papermill": {
     "duration": 0.139389,
     "end_time": "2021-12-12T12:04:13.495751",
     "exception": false,
     "start_time": "2021-12-12T12:04:13.356362",
     "status": "completed"
    },
    "tags": []
   },
   "outputs": [],
   "source": [
    "preprocessor = DataPreparation()\n",
    "preprocessor.fit(X_train) # fit применяем только к X_train\n",
    "\n",
    "X_train = preprocessor.transform(X_train)\n",
    "X_valid = preprocessor.transform(X_valid)\n",
    "df_test = preprocessor.transform(df_test)"
   ]
  },
  {
   "cell_type": "code",
   "execution_count": 59,
   "id": "2c15927e",
   "metadata": {
    "execution": {
     "iopub.execute_input": "2021-12-12T12:04:13.648162Z",
     "iopub.status.busy": "2021-12-12T12:04:13.647389Z",
     "iopub.status.idle": "2021-12-12T12:04:13.650722Z",
     "shell.execute_reply": "2021-12-12T12:04:13.650275Z",
     "shell.execute_reply.started": "2021-12-12T12:03:30.671947Z"
    },
    "papermill": {
     "duration": 0.081944,
     "end_time": "2021-12-12T12:04:13.650858",
     "exception": false,
     "start_time": "2021-12-12T12:04:13.568914",
     "status": "completed"
    },
    "tags": []
   },
   "outputs": [
    {
     "data": {
      "text/plain": [
       "((5025, 22), (2475, 22), (2500, 22))"
      ]
     },
     "execution_count": 59,
     "metadata": {},
     "output_type": "execute_result"
    }
   ],
   "source": [
    "X_train.shape, X_valid.shape, df_test.shape"
   ]
  },
  {
   "cell_type": "code",
   "execution_count": 60,
   "id": "992ff975",
   "metadata": {
    "execution": {
     "iopub.execute_input": "2021-12-12T12:04:13.802927Z",
     "iopub.status.busy": "2021-12-12T12:04:13.801918Z",
     "iopub.status.idle": "2021-12-12T12:04:13.823806Z",
     "shell.execute_reply": "2021-12-12T12:04:13.824318Z",
     "shell.execute_reply.started": "2021-12-12T12:03:30.679316Z"
    },
    "papermill": {
     "duration": 0.100362,
     "end_time": "2021-12-12T12:04:13.824510",
     "exception": false,
     "start_time": "2021-12-12T12:04:13.724148",
     "status": "completed"
    },
    "tags": []
   },
   "outputs": [],
   "source": [
    "features_gen = FeatureGenerator()\n",
    "features_gen.fit(X_train, y_train) # fit применяем только X_train, y_train\n",
    "\n",
    "X_train = features_gen.transform(X_train)\n",
    "X_valid = features_gen.transform(X_valid)\n",
    "df_test = features_gen.transform(df_test)"
   ]
  },
  {
   "cell_type": "code",
   "execution_count": 61,
   "id": "f93ba686",
   "metadata": {
    "execution": {
     "iopub.execute_input": "2021-12-12T12:04:13.973585Z",
     "iopub.status.busy": "2021-12-12T12:04:13.972590Z",
     "iopub.status.idle": "2021-12-12T12:04:13.977660Z",
     "shell.execute_reply": "2021-12-12T12:04:13.978126Z",
     "shell.execute_reply.started": "2021-12-12T12:03:30.715071Z"
    },
    "papermill": {
     "duration": 0.08028,
     "end_time": "2021-12-12T12:04:13.978305",
     "exception": false,
     "start_time": "2021-12-12T12:04:13.898025",
     "status": "completed"
    },
    "tags": []
   },
   "outputs": [
    {
     "data": {
      "text/plain": [
       "((5025, 28), (2475, 28), (2500, 28))"
      ]
     },
     "execution_count": 61,
     "metadata": {},
     "output_type": "execute_result"
    }
   ],
   "source": [
    "X_train.shape, X_valid.shape, df_test.shape"
   ]
  },
  {
   "cell_type": "code",
   "execution_count": 62,
   "id": "2d23ac73",
   "metadata": {
    "execution": {
     "iopub.execute_input": "2021-12-12T12:04:14.127961Z",
     "iopub.status.busy": "2021-12-12T12:04:14.126837Z",
     "iopub.status.idle": "2021-12-12T12:04:14.134027Z",
     "shell.execute_reply": "2021-12-12T12:04:14.134461Z",
     "shell.execute_reply.started": "2021-12-12T12:03:30.722188Z"
    },
    "papermill": {
     "duration": 0.084364,
     "end_time": "2021-12-12T12:04:14.134634",
     "exception": false,
     "start_time": "2021-12-12T12:04:14.050270",
     "status": "completed"
    },
    "tags": []
   },
   "outputs": [],
   "source": [
    "\"\"\"во всех датафреймах оставляем только отобранные признаки (all_feature_names)\"\"\"\n",
    "X_train = X_train[all_feature_names]\n",
    "X_valid = X_valid[all_feature_names]\n",
    "df_test = df_test[all_feature_names]"
   ]
  },
  {
   "cell_type": "code",
   "execution_count": 63,
   "id": "b4a5c5f8",
   "metadata": {
    "execution": {
     "iopub.execute_input": "2021-12-12T12:04:14.286166Z",
     "iopub.status.busy": "2021-12-12T12:04:14.283841Z",
     "iopub.status.idle": "2021-12-12T12:04:14.289156Z",
     "shell.execute_reply": "2021-12-12T12:04:14.289594Z",
     "shell.execute_reply.started": "2021-12-12T12:03:30.738211Z"
    },
    "papermill": {
     "duration": 0.081857,
     "end_time": "2021-12-12T12:04:14.289769",
     "exception": false,
     "start_time": "2021-12-12T12:04:14.207912",
     "status": "completed"
    },
    "tags": []
   },
   "outputs": [
    {
     "data": {
      "text/plain": [
       "((5025, 18), (2475, 18), (2500, 18))"
      ]
     },
     "execution_count": 63,
     "metadata": {},
     "output_type": "execute_result"
    }
   ],
   "source": [
    "X_train.shape, X_valid.shape, df_test.shape"
   ]
  },
  {
   "cell_type": "code",
   "execution_count": 64,
   "id": "8647df6b",
   "metadata": {
    "execution": {
     "iopub.execute_input": "2021-12-12T12:04:14.443693Z",
     "iopub.status.busy": "2021-12-12T12:04:14.442277Z",
     "iopub.status.idle": "2021-12-12T12:04:14.452611Z",
     "shell.execute_reply": "2021-12-12T12:04:14.452076Z",
     "shell.execute_reply.started": "2021-12-12T12:03:30.747150Z"
    },
    "papermill": {
     "duration": 0.08728,
     "end_time": "2021-12-12T12:04:14.452759",
     "exception": false,
     "start_time": "2021-12-12T12:04:14.365479",
     "status": "completed"
    },
    "tags": []
   },
   "outputs": [
    {
     "data": {
      "text/plain": [
       "(0, 0, 0)"
      ]
     },
     "execution_count": 64,
     "metadata": {},
     "output_type": "execute_result"
    }
   ],
   "source": [
    "X_train.isna().sum().sum(), X_valid.isna().sum().sum(), df_test.isna().sum().sum()"
   ]
  },
  {
   "cell_type": "code",
   "execution_count": 65,
   "id": "b9343678",
   "metadata": {
    "execution": {
     "iopub.execute_input": "2021-12-12T12:04:14.603687Z",
     "iopub.status.busy": "2021-12-12T12:04:14.602397Z",
     "iopub.status.idle": "2021-12-12T12:04:14.609359Z",
     "shell.execute_reply": "2021-12-12T12:04:14.609807Z",
     "shell.execute_reply.started": "2021-12-12T12:03:30.762437Z"
    },
    "papermill": {
     "duration": 0.084064,
     "end_time": "2021-12-12T12:04:14.609970",
     "exception": false,
     "start_time": "2021-12-12T12:04:14.525906",
     "status": "completed"
    },
    "tags": []
   },
   "outputs": [
    {
     "data": {
      "text/plain": [
       "Annual Income                0\n",
       "Tax Liens                    0\n",
       "Number of Open Accounts      0\n",
       "Years of Credit History      0\n",
       "Maximum Open Credit          0\n",
       "Number of Credit Problems    0\n",
       "Bankruptcies                 0\n",
       "Current Loan Amount          0\n",
       "Current Credit Balance       0\n",
       "Monthly Debt                 0\n",
       "Credit Score                 0\n",
       "Years in current job         0\n",
       "Long Term                    0\n",
       "Have Mortgage                0\n",
       "Home Mortgage                0\n",
       "Own Home                     0\n",
       "Rent                         0\n",
       "Credit Score Cat             0\n",
       "dtype: int64"
      ]
     },
     "execution_count": 65,
     "metadata": {},
     "output_type": "execute_result"
    }
   ],
   "source": [
    "X_train.isna().sum()"
   ]
  },
  {
   "cell_type": "markdown",
   "id": "55f9205d",
   "metadata": {
    "papermill": {
     "duration": 0.071977,
     "end_time": "2021-12-12T12:04:14.754223",
     "exception": false,
     "start_time": "2021-12-12T12:04:14.682246",
     "status": "completed"
    },
    "tags": []
   },
   "source": [
    "### Построение модели"
   ]
  },
  {
   "cell_type": "code",
   "execution_count": 66,
   "id": "e8a3660d",
   "metadata": {
    "execution": {
     "iopub.execute_input": "2021-12-12T12:04:14.901427Z",
     "iopub.status.busy": "2021-12-12T12:04:14.900842Z",
     "iopub.status.idle": "2021-12-12T12:04:14.906626Z",
     "shell.execute_reply": "2021-12-12T12:04:14.907170Z",
     "shell.execute_reply.started": "2021-12-12T12:03:30.771899Z"
    },
    "papermill": {
     "duration": 0.080835,
     "end_time": "2021-12-12T12:04:14.907334",
     "exception": false,
     "start_time": "2021-12-12T12:04:14.826499",
     "status": "completed"
    },
    "tags": []
   },
   "outputs": [
    {
     "data": {
      "text/plain": [
       "2.558781869688385"
      ]
     },
     "execution_count": 66,
     "metadata": {},
     "output_type": "execute_result"
    }
   ],
   "source": [
    "imbalance = y_train.value_counts()[0] / y_train.value_counts()[1]\n",
    "imbalance"
   ]
  },
  {
   "cell_type": "code",
   "execution_count": 67,
   "id": "c4f6e225",
   "metadata": {
    "execution": {
     "iopub.execute_input": "2021-12-12T12:04:15.064872Z",
     "iopub.status.busy": "2021-12-12T12:04:15.064251Z",
     "iopub.status.idle": "2021-12-12T12:04:15.343243Z",
     "shell.execute_reply": "2021-12-12T12:04:15.342762Z",
     "shell.execute_reply.started": "2021-12-12T12:03:30.781840Z"
    },
    "papermill": {
     "duration": 0.362919,
     "end_time": "2021-12-12T12:04:15.343384",
     "exception": false,
     "start_time": "2021-12-12T12:04:14.980465",
     "status": "completed"
    },
    "tags": []
   },
   "outputs": [
    {
     "data": {
      "application/vnd.jupyter.widget-view+json": {
       "model_id": "18bc9e6192d54f7daa9ee8340ddb8d5e",
       "version_major": 2,
       "version_minor": 0
      },
      "text/plain": [
       "MetricVisualizer(layout=Layout(align_self='stretch', height='500px'))"
      ]
     },
     "metadata": {},
     "output_type": "display_data"
    },
    {
     "data": {
      "text/plain": [
       "<catboost.core.CatBoostClassifier at 0x7fc0d4f71a10>"
      ]
     },
     "execution_count": 67,
     "metadata": {},
     "output_type": "execute_result"
    }
   ],
   "source": [
    "model_catb = catb.CatBoostClassifier(\n",
    "                                    silent=True,\n",
    "                                    random_state=14,\n",
    "                                    class_weights=[1, imbalance],\n",
    "                                    eval_metric='F1',\n",
    "                                    early_stopping_rounds=35,\n",
    "                                    use_best_model=True,\n",
    "                                    custom_metric=['Precision', 'Recall'],\n",
    "                                    iterations=150,\n",
    "                                    max_depth=5,\n",
    "                                    min_data_in_leaf=5\n",
    "                                    )\n",
    "model_catb.fit(X_train, y_train, plot=True, eval_set=(X_valid, y_valid))"
   ]
  },
  {
   "cell_type": "code",
   "execution_count": 68,
   "id": "9b86327c",
   "metadata": {
    "execution": {
     "iopub.execute_input": "2021-12-12T12:04:15.496351Z",
     "iopub.status.busy": "2021-12-12T12:04:15.495142Z",
     "iopub.status.idle": "2021-12-12T12:04:15.544142Z",
     "shell.execute_reply": "2021-12-12T12:04:15.544626Z",
     "shell.execute_reply.started": "2021-12-12T12:03:30.988295Z"
    },
    "papermill": {
     "duration": 0.128112,
     "end_time": "2021-12-12T12:04:15.544799",
     "exception": false,
     "start_time": "2021-12-12T12:04:15.416687",
     "status": "completed"
    },
    "tags": []
   },
   "outputs": [
    {
     "name": "stdout",
     "output_type": "stream",
     "text": [
      "TRAIN\n",
      " 0.531\n",
      "TEST\n",
      " 0.511\n",
      "TRAIN\n",
      "\n",
      "              precision    recall  f1-score   support\n",
      "\n",
      "           0       0.85      0.61      0.71      3613\n",
      "           1       0.42      0.73      0.53      1412\n",
      "\n",
      "    accuracy                           0.64      5025\n",
      "   macro avg       0.63      0.67      0.62      5025\n",
      "weighted avg       0.73      0.64      0.66      5025\n",
      "\n",
      "VALID\n",
      "\n",
      "              precision    recall  f1-score   support\n",
      "\n",
      "           0       0.83      0.60      0.70      1774\n",
      "           1       0.40      0.69      0.51       701\n",
      "\n",
      "    accuracy                           0.62      2475\n",
      "   macro avg       0.62      0.64      0.60      2475\n",
      "weighted avg       0.71      0.62      0.64      2475\n",
      "\n",
      "CONFUSION MATRIX\n",
      "\n",
      "col_0              0    1\n",
      "Credit Default           \n",
      "0               1060  714\n",
      "1                216  485\n"
     ]
    }
   ],
   "source": [
    "evaluate_preds(model_catb, X_train, X_valid, y_train, y_valid)"
   ]
  },
  {
   "cell_type": "markdown",
   "id": "68d0888f",
   "metadata": {
    "papermill": {
     "duration": 0.075622,
     "end_time": "2021-12-12T12:04:15.697759",
     "exception": false,
     "start_time": "2021-12-12T12:04:15.622137",
     "status": "completed"
    },
    "tags": []
   },
   "source": [
    "#### Важность признаков"
   ]
  },
  {
   "cell_type": "code",
   "execution_count": 69,
   "id": "d505b9ab",
   "metadata": {
    "execution": {
     "iopub.execute_input": "2021-12-12T12:04:15.851561Z",
     "iopub.status.busy": "2021-12-12T12:04:15.850528Z",
     "iopub.status.idle": "2021-12-12T12:04:15.864265Z",
     "shell.execute_reply": "2021-12-12T12:04:15.863753Z",
     "shell.execute_reply.started": "2021-12-12T12:03:31.040621Z"
    },
    "papermill": {
     "duration": 0.090452,
     "end_time": "2021-12-12T12:04:15.864405",
     "exception": false,
     "start_time": "2021-12-12T12:04:15.773953",
     "status": "completed"
    },
    "tags": []
   },
   "outputs": [
    {
     "data": {
      "text/html": [
       "<div>\n",
       "<style scoped>\n",
       "    .dataframe tbody tr th:only-of-type {\n",
       "        vertical-align: middle;\n",
       "    }\n",
       "\n",
       "    .dataframe tbody tr th {\n",
       "        vertical-align: top;\n",
       "    }\n",
       "\n",
       "    .dataframe thead th {\n",
       "        text-align: right;\n",
       "    }\n",
       "</style>\n",
       "<table border=\"1\" class=\"dataframe\">\n",
       "  <thead>\n",
       "    <tr style=\"text-align: right;\">\n",
       "      <th></th>\n",
       "      <th>feature_name</th>\n",
       "      <th>importance</th>\n",
       "    </tr>\n",
       "  </thead>\n",
       "  <tbody>\n",
       "    <tr>\n",
       "      <th>7</th>\n",
       "      <td>Current Loan Amount</td>\n",
       "      <td>46.114651</td>\n",
       "    </tr>\n",
       "    <tr>\n",
       "      <th>12</th>\n",
       "      <td>Long Term</td>\n",
       "      <td>15.829380</td>\n",
       "    </tr>\n",
       "    <tr>\n",
       "      <th>0</th>\n",
       "      <td>Annual Income</td>\n",
       "      <td>11.917783</td>\n",
       "    </tr>\n",
       "    <tr>\n",
       "      <th>10</th>\n",
       "      <td>Credit Score</td>\n",
       "      <td>7.636782</td>\n",
       "    </tr>\n",
       "    <tr>\n",
       "      <th>17</th>\n",
       "      <td>Credit Score Cat</td>\n",
       "      <td>3.711828</td>\n",
       "    </tr>\n",
       "    <tr>\n",
       "      <th>4</th>\n",
       "      <td>Maximum Open Credit</td>\n",
       "      <td>2.686372</td>\n",
       "    </tr>\n",
       "    <tr>\n",
       "      <th>11</th>\n",
       "      <td>Years in current job</td>\n",
       "      <td>1.971667</td>\n",
       "    </tr>\n",
       "    <tr>\n",
       "      <th>2</th>\n",
       "      <td>Number of Open Accounts</td>\n",
       "      <td>1.865933</td>\n",
       "    </tr>\n",
       "    <tr>\n",
       "      <th>9</th>\n",
       "      <td>Monthly Debt</td>\n",
       "      <td>1.797106</td>\n",
       "    </tr>\n",
       "    <tr>\n",
       "      <th>3</th>\n",
       "      <td>Years of Credit History</td>\n",
       "      <td>1.643429</td>\n",
       "    </tr>\n",
       "    <tr>\n",
       "      <th>16</th>\n",
       "      <td>Rent</td>\n",
       "      <td>1.550138</td>\n",
       "    </tr>\n",
       "    <tr>\n",
       "      <th>14</th>\n",
       "      <td>Home Mortgage</td>\n",
       "      <td>1.454528</td>\n",
       "    </tr>\n",
       "    <tr>\n",
       "      <th>8</th>\n",
       "      <td>Current Credit Balance</td>\n",
       "      <td>0.598214</td>\n",
       "    </tr>\n",
       "    <tr>\n",
       "      <th>5</th>\n",
       "      <td>Number of Credit Problems</td>\n",
       "      <td>0.541048</td>\n",
       "    </tr>\n",
       "    <tr>\n",
       "      <th>6</th>\n",
       "      <td>Bankruptcies</td>\n",
       "      <td>0.373741</td>\n",
       "    </tr>\n",
       "    <tr>\n",
       "      <th>1</th>\n",
       "      <td>Tax Liens</td>\n",
       "      <td>0.189948</td>\n",
       "    </tr>\n",
       "    <tr>\n",
       "      <th>15</th>\n",
       "      <td>Own Home</td>\n",
       "      <td>0.117452</td>\n",
       "    </tr>\n",
       "    <tr>\n",
       "      <th>13</th>\n",
       "      <td>Have Mortgage</td>\n",
       "      <td>0.000000</td>\n",
       "    </tr>\n",
       "  </tbody>\n",
       "</table>\n",
       "</div>"
      ],
      "text/plain": [
       "                 feature_name  importance\n",
       "7         Current Loan Amount   46.114651\n",
       "12                  Long Term   15.829380\n",
       "0               Annual Income   11.917783\n",
       "10               Credit Score    7.636782\n",
       "17           Credit Score Cat    3.711828\n",
       "4         Maximum Open Credit    2.686372\n",
       "11       Years in current job    1.971667\n",
       "2     Number of Open Accounts    1.865933\n",
       "9                Monthly Debt    1.797106\n",
       "3     Years of Credit History    1.643429\n",
       "16                       Rent    1.550138\n",
       "14              Home Mortgage    1.454528\n",
       "8      Current Credit Balance    0.598214\n",
       "5   Number of Credit Problems    0.541048\n",
       "6                Bankruptcies    0.373741\n",
       "1                   Tax Liens    0.189948\n",
       "15                   Own Home    0.117452\n",
       "13              Have Mortgage    0.000000"
      ]
     },
     "execution_count": 69,
     "metadata": {},
     "output_type": "execute_result"
    }
   ],
   "source": [
    "feature_importances = pd.DataFrame(zip(X_train.columns, model_catb.feature_importances_), \n",
    "                                   columns=['feature_name', 'importance'])\n",
    "\n",
    "feature_importances.sort_values(by='importance', ascending=False)"
   ]
  },
  {
   "cell_type": "markdown",
   "id": "91c30b02",
   "metadata": {
    "papermill": {
     "duration": 0.07581,
     "end_time": "2021-12-12T12:04:16.014529",
     "exception": false,
     "start_time": "2021-12-12T12:04:15.938719",
     "status": "completed"
    },
    "tags": []
   },
   "source": [
    "#### Прогнозирование на тестовом датасете"
   ]
  },
  {
   "cell_type": "code",
   "execution_count": 70,
   "id": "4be3a7f9",
   "metadata": {
    "execution": {
     "iopub.execute_input": "2021-12-12T12:04:16.171669Z",
     "iopub.status.busy": "2021-12-12T12:04:16.170859Z",
     "iopub.status.idle": "2021-12-12T12:04:16.174250Z",
     "shell.execute_reply": "2021-12-12T12:04:16.173802Z",
     "shell.execute_reply.started": "2021-12-12T12:03:31.058752Z"
    },
    "papermill": {
     "duration": 0.083962,
     "end_time": "2021-12-12T12:04:16.174386",
     "exception": false,
     "start_time": "2021-12-12T12:04:16.090424",
     "status": "completed"
    },
    "tags": []
   },
   "outputs": [
    {
     "data": {
      "text/plain": [
       "(2500, 18)"
      ]
     },
     "execution_count": 70,
     "metadata": {},
     "output_type": "execute_result"
    }
   ],
   "source": [
    "df_test.shape"
   ]
  },
  {
   "cell_type": "code",
   "execution_count": 71,
   "id": "7027394f",
   "metadata": {
    "execution": {
     "iopub.execute_input": "2021-12-12T12:04:16.328148Z",
     "iopub.status.busy": "2021-12-12T12:04:16.327494Z",
     "iopub.status.idle": "2021-12-12T12:04:16.340423Z",
     "shell.execute_reply": "2021-12-12T12:04:16.340839Z",
     "shell.execute_reply.started": "2021-12-12T12:03:31.066747Z"
    },
    "papermill": {
     "duration": 0.092087,
     "end_time": "2021-12-12T12:04:16.341008",
     "exception": false,
     "start_time": "2021-12-12T12:04:16.248921",
     "status": "completed"
    },
    "tags": []
   },
   "outputs": [
    {
     "data": {
      "text/html": [
       "<div>\n",
       "<style scoped>\n",
       "    .dataframe tbody tr th:only-of-type {\n",
       "        vertical-align: middle;\n",
       "    }\n",
       "\n",
       "    .dataframe tbody tr th {\n",
       "        vertical-align: top;\n",
       "    }\n",
       "\n",
       "    .dataframe thead th {\n",
       "        text-align: right;\n",
       "    }\n",
       "</style>\n",
       "<table border=\"1\" class=\"dataframe\">\n",
       "  <thead>\n",
       "    <tr style=\"text-align: right;\">\n",
       "      <th></th>\n",
       "      <th>Id</th>\n",
       "      <th>Credit Default</th>\n",
       "    </tr>\n",
       "  </thead>\n",
       "  <tbody>\n",
       "    <tr>\n",
       "      <th>0</th>\n",
       "      <td>0</td>\n",
       "      <td>1</td>\n",
       "    </tr>\n",
       "    <tr>\n",
       "      <th>1</th>\n",
       "      <td>1</td>\n",
       "      <td>1</td>\n",
       "    </tr>\n",
       "    <tr>\n",
       "      <th>2</th>\n",
       "      <td>2</td>\n",
       "      <td>1</td>\n",
       "    </tr>\n",
       "    <tr>\n",
       "      <th>3</th>\n",
       "      <td>3</td>\n",
       "      <td>1</td>\n",
       "    </tr>\n",
       "    <tr>\n",
       "      <th>4</th>\n",
       "      <td>4</td>\n",
       "      <td>1</td>\n",
       "    </tr>\n",
       "  </tbody>\n",
       "</table>\n",
       "</div>"
      ],
      "text/plain": [
       "   Id  Credit Default\n",
       "0   0               1\n",
       "1   1               1\n",
       "2   2               1\n",
       "3   3               1\n",
       "4   4               1"
      ]
     },
     "execution_count": 71,
     "metadata": {},
     "output_type": "execute_result"
    }
   ],
   "source": [
    "submit = pd.read_csv(SAMPLE_SUBMIT_PATH)\n",
    "submit.head()"
   ]
  },
  {
   "cell_type": "code",
   "execution_count": 72,
   "id": "f26ab48e",
   "metadata": {
    "execution": {
     "iopub.execute_input": "2021-12-12T12:04:16.502693Z",
     "iopub.status.busy": "2021-12-12T12:04:16.501935Z",
     "iopub.status.idle": "2021-12-12T12:04:16.507065Z",
     "shell.execute_reply": "2021-12-12T12:04:16.507569Z",
     "shell.execute_reply.started": "2021-12-12T12:03:31.085709Z"
    },
    "papermill": {
     "duration": 0.091273,
     "end_time": "2021-12-12T12:04:16.507755",
     "exception": false,
     "start_time": "2021-12-12T12:04:16.416482",
     "status": "completed"
    },
    "tags": []
   },
   "outputs": [
    {
     "data": {
      "text/plain": [
       "array([1, 1, 0, ..., 1, 0, 1])"
      ]
     },
     "execution_count": 72,
     "metadata": {},
     "output_type": "execute_result"
    }
   ],
   "source": [
    "predictions = model_catb.predict(df_test)\n",
    "predictions"
   ]
  },
  {
   "cell_type": "code",
   "execution_count": 73,
   "id": "7ee2fe57",
   "metadata": {
    "execution": {
     "iopub.execute_input": "2021-12-12T12:04:16.662021Z",
     "iopub.status.busy": "2021-12-12T12:04:16.661351Z",
     "iopub.status.idle": "2021-12-12T12:04:16.665693Z",
     "shell.execute_reply": "2021-12-12T12:04:16.666401Z",
     "shell.execute_reply.started": "2021-12-12T12:03:31.097652Z"
    },
    "papermill": {
     "duration": 0.082964,
     "end_time": "2021-12-12T12:04:16.666648",
     "exception": false,
     "start_time": "2021-12-12T12:04:16.583684",
     "status": "completed"
    },
    "tags": []
   },
   "outputs": [
    {
     "data": {
      "text/plain": [
       "2500"
      ]
     },
     "execution_count": 73,
     "metadata": {},
     "output_type": "execute_result"
    }
   ],
   "source": [
    "len(predictions)"
   ]
  },
  {
   "cell_type": "code",
   "execution_count": 74,
   "id": "ec0a6ffc",
   "metadata": {
    "execution": {
     "iopub.execute_input": "2021-12-12T12:04:16.844850Z",
     "iopub.status.busy": "2021-12-12T12:04:16.843843Z",
     "iopub.status.idle": "2021-12-12T12:04:16.845612Z",
     "shell.execute_reply": "2021-12-12T12:04:16.846186Z",
     "shell.execute_reply.started": "2021-12-12T12:03:31.106307Z"
    },
    "papermill": {
     "duration": 0.101711,
     "end_time": "2021-12-12T12:04:16.846380",
     "exception": false,
     "start_time": "2021-12-12T12:04:16.744669",
     "status": "completed"
    },
    "tags": []
   },
   "outputs": [],
   "source": [
    "submit['Credit Default'] = predictions"
   ]
  },
  {
   "cell_type": "code",
   "execution_count": 75,
   "id": "161cd743",
   "metadata": {
    "execution": {
     "iopub.execute_input": "2021-12-12T12:04:17.011820Z",
     "iopub.status.busy": "2021-12-12T12:04:17.010849Z",
     "iopub.status.idle": "2021-12-12T12:04:17.020859Z",
     "shell.execute_reply": "2021-12-12T12:04:17.021414Z",
     "shell.execute_reply.started": "2021-12-12T12:03:31.117333Z"
    },
    "papermill": {
     "duration": 0.090514,
     "end_time": "2021-12-12T12:04:17.021594",
     "exception": false,
     "start_time": "2021-12-12T12:04:16.931080",
     "status": "completed"
    },
    "tags": []
   },
   "outputs": [],
   "source": [
    "submit.to_csv('submit_Credit_default150550.csv', index=False)"
   ]
  }
 ],
 "metadata": {
  "kernelspec": {
   "display_name": "Python 3",
   "language": "python",
   "name": "python3"
  },
  "language_info": {
   "codemirror_mode": {
    "name": "ipython",
    "version": 3
   },
   "file_extension": ".py",
   "mimetype": "text/x-python",
   "name": "python",
   "nbconvert_exporter": "python",
   "pygments_lexer": "ipython3",
   "version": "3.7.12"
  },
  "papermill": {
   "default_parameters": {},
   "duration": 32.123621,
   "end_time": "2021-12-12T12:04:17.812880",
   "environment_variables": {},
   "exception": null,
   "input_path": "__notebook__.ipynb",
   "output_path": "__notebook__.ipynb",
   "parameters": {},
   "start_time": "2021-12-12T12:03:45.689259",
   "version": "2.3.3"
  },
  "widgets": {
   "application/vnd.jupyter.widget-state+json": {
    "state": {
     "18bc9e6192d54f7daa9ee8340ddb8d5e": {
      "model_module": "catboost-widget",
      "model_module_version": "^1.0.0",
      "model_name": "CatboostWidgetModel",
      "state": {
       "_dom_classes": [],
       "_model_module": "catboost-widget",
       "_model_module_version": "^1.0.0",
       "_model_name": "CatboostWidgetModel",
       "_view_count": null,
       "_view_module": "catboost-widget",
       "_view_module_version": "^1.0.0",
       "_view_name": "CatboostWidgetView",
       "data": {
        "catboost_info": {
         "content": {
          "data": {
           "iterations": [
            {
             "iteration": 0,
             "learn": [
              0.6269767116,
              0.6851504011,
              0.6085089106,
              0.377897351,
              0.6466005666,
              0.6466005666
             ],
             "passed_time": 0.05184802645,
             "remaining_time": 7.725355941,
             "test": [
              0.6158877014,
              0.6868084694,
              0.6019120109,
              0.3714285714,
              0.6305278174,
              0.6305278174
             ]
            },
            {
             "iteration": 1,
             "learn": [
              0.6353391294,
              0.678145585,
              0.6397179671,
              0.4096551724,
              0.63101983,
              0.63101983
             ],
             "passed_time": 0.05389826829,
             "remaining_time": 3.988471853,
             "test": [
              0.5983234016,
              0.6807091261,
              0.6139725015,
              0.3833177132,
              0.5834522111,
              0.5834522111
             ]
            },
            {
             "iteration": 2,
             "learn": [
              0.5957756592,
              0.6724513018,
              0.6514518722,
              0.4221132898,
              0.5488668555,
              0.5488668555
             ],
             "passed_time": 0.05581472173,
             "remaining_time": 2.734921365,
             "test": [
              0.5647190306,
              0.6764422827,
              0.6293511897,
              0.3988888889,
              0.512125535,
              0.512125535
             ]
            },
            {
             "iteration": 3,
             "learn": [
              0.6552937372,
              0.6647847891,
              0.6393108034,
              0.4092281156,
              0.6720963173,
              0.6720963173
             ],
             "passed_time": 0.05783168168,
             "remaining_time": 2.110856381,
             "test": [
              0.6238216667,
              0.6694431045,
              0.6200155999,
              0.389380531,
              0.6276747504,
              0.6276747504
             ]
            },
            {
             "iteration": 4,
             "learn": [
              0.6450456972,
              0.6582240698,
              0.642101521,
              0.4121621622,
              0.6480169972,
              0.6480169972
             ],
             "passed_time": 0.0597789444,
             "remaining_time": 1.733589388,
             "test": [
              0.6236178451,
              0.6644691545,
              0.6311509079,
              0.400742115,
              0.6162624822,
              0.6162624822
             ]
            },
            {
             "iteration": 5,
             "learn": [
              0.6754917737,
              0.6518340633,
              0.6227737843,
              0.3921716221,
              0.7379603399,
              0.7379603399
             ],
             "passed_time": 0.0616898045,
             "remaining_time": 1.480555308,
             "test": [
              0.6524262323,
              0.6590487665,
              0.6116700208,
              0.3810264386,
              0.6990014265,
              0.6990014265
             ]
            },
            {
             "iteration": 6,
             "learn": [
              0.674984645,
              0.6501656022,
              0.6204112082,
              0.3897799329,
              0.7400849858,
              0.7400849858
             ],
             "passed_time": 0.0636289122,
             "remaining_time": 1.299847778,
             "test": [
              0.6526917994,
              0.6573336985,
              0.6099656303,
              0.3793369314,
              0.7018544936,
              0.7018544936
             ]
            },
            {
             "iteration": 7,
             "learn": [
              0.6636093463,
              0.6465088494,
              0.6204872663,
              0.3898567557,
              0.7131728045,
              0.7131728045
             ],
             "passed_time": 0.06552374223,
             "remaining_time": 1.163046425,
             "test": [
              0.6587315935,
              0.6547771008,
              0.6239859709,
              0.3934030571,
              0.697574893,
              0.697574893
             ]
            },
            {
             "iteration": 8,
             "learn": [
              0.6643786392,
              0.6436851345,
              0.625652406,
              0.3951007507,
              0.7082152975,
              0.7082152975
             ],
             "passed_time": 0.067588956,
             "remaining_time": 1.058893644,
             "test": [
              0.6514138961,
              0.6531007353,
              0.6211843989,
              0.3905614321,
              0.6847360913,
              0.6847360913
             ]
            },
            {
             "iteration": 9,
             "learn": [
              0.6689182744,
              0.6417560782,
              0.6320612297,
              0.4016820184,
              0.7103399433,
              0.7103399433
             ],
             "passed_time": 0.069484436,
             "remaining_time": 0.972782104,
             "test": [
              0.6473926794,
              0.6518870348,
              0.622166989,
              0.3915562914,
              0.6747503566,
              0.6747503566
             ]
            },
            {
             "iteration": 10,
             "learn": [
              0.6763445601,
              0.6380608528,
              0.6272981514,
              0.3967828418,
              0.7337110482,
              0.7337110482
             ],
             "passed_time": 0.07140247208,
             "remaining_time": 0.9022676018,
             "test": [
              0.6525247601,
              0.6483150392,
              0.6174146871,
              0.3867623604,
              0.6918687589,
              0.6918687589
             ]
            },
            {
             "iteration": 11,
             "learn": [
              0.6736674587,
              0.6361686119,
              0.6247630709,
              0.3941940413,
              0.730878187,
              0.730878187
             ],
             "passed_time": 0.07331111321,
             "remaining_time": 0.8430778019,
             "test": [
              0.6583970873,
              0.6471842731,
              0.6177979547,
              0.3871473354,
              0.7047075606,
              0.7047075606
             ]
            },
            {
             "iteration": 12,
             "learn": [
              0.6730588191,
              0.6346868648,
              0.6247521644,
              0.3941829315,
              0.7294617564,
              0.7294617564
             ],
             "passed_time": 0.07505310858,
             "remaining_time": 0.7909442981,
             "test": [
              0.6600111186,
              0.6465724864,
              0.6184500229,
              0.3878029711,
              0.7075606277,
              0.7075606277
             ]
            },
            {
             "iteration": 13,
             "learn": [
              0.6751203513,
              0.6327394341,
              0.6304309887,
              0.4,
              0.7266288952,
              0.7266288952
             ],
             "passed_time": 0.07676673544,
             "remaining_time": 0.7457340015,
             "test": [
              0.6539918255,
              0.6458896979,
              0.617773155,
              0.3871224165,
              0.694721826,
              0.694721826
             ]
            },
            {
             "iteration": 14,
             "learn": [
              0.6751184882,
              0.6316425727,
              0.6309618139,
              0.4005470887,
              0.7259206799,
              0.7259206799
             ],
             "passed_time": 0.07840997239,
             "remaining_time": 0.7056897515,
             "test": [
              0.6532116798,
              0.6449296432,
              0.6186458174,
              0.388,
              0.6918687589,
              0.6918687589
             ]
            },
            {
             "iteration": 15,
             "learn": [
              0.6760690492,
              0.6301988599,
              0.6364382621,
              0.4062250599,
              0.7209631728,
              0.7209631728
             ],
             "passed_time": 0.08005576192,
             "remaining_time": 0.6704670061,
             "test": [
              0.6518820886,
              0.6439750612,
              0.6232183935,
              0.3926229508,
              0.6833095578,
              0.6833095578
             ]
            },
            {
             "iteration": 16,
             "learn": [
              0.6716770881,
              0.6284663056,
              0.6416319765,
              0.4116673562,
              0.704674221,
              0.704674221
             ],
             "passed_time": 0.08185720416,
             "remaining_time": 0.6404122443,
             "test": [
              0.6515750167,
              0.6440958398,
              0.6299387987,
              0.3994932432,
              0.6747503566,
              0.6747503566
             ]
            },
            {
             "iteration": 17,
             "learn": [
              0.674015812,
              0.627419375,
              0.6406499016,
              0.4106339468,
              0.7110481586,
              0.7110481586
             ],
             "passed_time": 0.08373596231,
             "remaining_time": 0.6140637236,
             "test": [
              0.6515035438,
              0.643701968,
              0.6273397178,
              0.3968253968,
              0.6776034237,
              0.6776034237
             ]
            },
            {
             "iteration": 18,
             "learn": [
              0.6765945686,
              0.6239366197,
              0.6390401204,
              0.4089443997,
              0.7188385269,
              0.7188385269
             ],
             "passed_time": 0.08564611063,
             "remaining_time": 0.5905073943,
             "test": [
              0.6564119323,
              0.6405294093,
              0.6267543382,
              0.3962264151,
              0.6890156919,
              0.6890156919
             ]
            },
            {
             "iteration": 19,
             "learn": [
              0.6770355098,
              0.6229044303,
              0.6392672364,
              0.4091824406,
              0.7195467422,
              0.7195467422
             ],
             "passed_time": 0.08758988717,
             "remaining_time": 0.5693342666,
             "test": [
              0.6602624316,
              0.6401489065,
              0.6278949176,
              0.3973941368,
              0.6961483595,
              0.6961483595
             ]
            },
            {
             "iteration": 20,
             "learn": [
              0.6772125707,
              0.6213989748,
              0.6418380051,
              0.4118844119,
              0.716713881,
              0.716713881
             ],
             "passed_time": 0.08944143676,
             "remaining_time": 0.5494259687,
             "test": [
              0.6472195803,
              0.6391976545,
              0.6218473231,
              0.3912324235,
              0.6747503566,
              0.6747503566
             ]
            },
            {
             "iteration": 21,
             "learn": [
              0.6825749855,
              0.6188979046,
              0.6430029908,
              0.4131134352,
              0.7273371105,
              0.7273371105
             ],
             "passed_time": 0.09134812889,
             "remaining_time": 0.5314800227,
             "test": [
              0.6520051635,
              0.6364925474,
              0.6246356917,
              0.3940643034,
              0.6818830243,
              0.6818830243
             ]
            },
            {
             "iteration": 22,
             "learn": [
              0.6809329933,
              0.6179663156,
              0.6456822873,
              0.4159509202,
              0.7202549575,
              0.7202549575
             ],
             "passed_time": 0.09324737779,
             "remaining_time": 0.5148876947,
             "test": [
              0.6520278045,
              0.6364724618,
              0.6283126284,
              0.3978224456,
              0.6776034237,
              0.6776034237
             ]
            },
            {
             "iteration": 23,
             "learn": [
              0.679876822,
              0.6171756949,
              0.646065875,
              0.4163584053,
              0.7174220963,
              0.7174220963
             ],
             "passed_time": 0.09508230553,
             "remaining_time": 0.499182104,
             "test": [
              0.6583600065,
              0.6360471091,
              0.6351682304,
              0.4049027895,
              0.6833095578,
              0.6833095578
             ]
            },
            {
             "iteration": 24,
             "learn": [
              0.6817732677,
              0.6160952806,
              0.6518389706,
              0.4225293132,
              0.7145892351,
              0.7145892351
             ],
             "passed_time": 0.09706340283,
             "remaining_time": 0.4853170141,
             "test": [
              0.653413624,
              0.6361331701,
              0.63591969,
              0.4056847545,
              0.6718972896,
              0.6718972896
             ]
            },
            {
             "iteration": 25,
             "learn": [
              0.6830838668,
              0.6128329052,
              0.6501382517,
              0.4207039337,
              0.7195467422,
              0.7195467422
             ],
             "passed_time": 0.0989833679,
             "remaining_time": 0.4720745238,
             "test": [
              0.6536865153,
              0.6333283508,
              0.6338979725,
              0.4035836177,
              0.6747503566,
              0.6747503566
             ]
            },
            {
             "iteration": 26,
             "learn": [
              0.6827477694,
              0.6119204286,
              0.6518553957,
              0.4225469729,
              0.716713881,
              0.716713881
             ],
             "passed_time": 0.1007805067,
             "remaining_time": 0.4591111973,
             "test": [
              0.6501860162,
              0.6326650487,
              0.6310926405,
              0.4006820119,
              0.6704707561,
              0.6704707561
             ]
            },
            {
             "iteration": 27,
             "learn": [
              0.680975858,
              0.6111906806,
              0.6521527246,
              0.4228667507,
              0.7124645892,
              0.7124645892
             ],
             "passed_time": 0.1028016774,
             "remaining_time": 0.4479215942,
             "test": [
              0.649667017,
              0.63253015,
              0.6339427643,
              0.4036300778,
              0.6661911555,
              0.6661911555
             ]
            },
            {
             "iteration": 28,
             "learn": [
              0.6813277595,
              0.6108256436,
              0.6516139045,
              0.42228739,
              0.7138810198,
              0.7138810198
             ],
             "passed_time": 0.1046241521,
             "remaining_time": 0.4365352554,
             "test": [
              0.6498994428,
              0.632335449,
              0.6330973495,
              0.4027538726,
              0.667617689,
              0.667617689
             ]
            },
            {
             "iteration": 29,
             "learn": [
              0.6846349542,
              0.6079028123,
              0.6477926511,
              0.4181966544,
              0.7259206799,
              0.7259206799
             ],
             "passed_time": 0.1065490506,
             "remaining_time": 0.4261962023,
             "test": [
              0.6620984031,
              0.6294529193,
              0.634784328,
              0.4045037531,
              0.6918687589,
              0.6918687589
             ]
            },
            {
             "iteration": 30,
             "learn": [
              0.6836664958,
              0.6074547103,
              0.6471868519,
              0.4175510204,
              0.7245042493,
              0.7245042493
             ],
             "passed_time": 0.1084328212,
             "remaining_time": 0.41624212,
             "test": [
              0.6560268604,
              0.628889911,
              0.6320599271,
              0.4016806723,
              0.6818830243,
              0.6818830243
             ]
            },
            {
             "iteration": 31,
             "learn": [
              0.6823719861,
              0.6068288054,
              0.6494266943,
              0.419942077,
              0.7188385269,
              0.7188385269
             ],
             "passed_time": 0.1103223151,
             "remaining_time": 0.4068135371,
             "test": [
              0.6518233337,
              0.6288108178,
              0.6329140611,
              0.4025641026,
              0.6718972896,
              0.6718972896
             ]
            },
            {
             "iteration": 32,
             "learn": [
              0.683257216,
              0.6062597031,
              0.649874735,
              0.4204216618,
              0.7202549575,
              0.7202549575
             ],
             "passed_time": 0.1122010651,
             "remaining_time": 0.3978037763,
             "test": [
              0.653333649,
              0.628855665,
              0.6332346577,
              0.4028960818,
              0.6747503566,
              0.6747503566
             ]
            },
            {
             "iteration": 33,
             "learn": [
              0.6831140482,
              0.6052315516,
              0.6531116346,
              0.4238993711,
              0.7160056657,
              0.7160056657
             ],
             "passed_time": 0.114063835,
             "remaining_time": 0.3891589665,
             "test": [
              0.6503742035,
              0.6289261107,
              0.6352908966,
              0.4050303556,
              0.6661911555,
              0.6661911555
             ]
            },
            {
             "iteration": 34,
             "learn": [
              0.6813406536,
              0.6048264738,
              0.6534179294,
              0.4242296328,
              0.7117563739,
              0.7117563739
             ],
             "passed_time": 0.115932961,
             "remaining_time": 0.380922586,
             "test": [
              0.6446693599,
              0.6288192912,
              0.6295934141,
              0.399137931,
              0.6604850214,
              0.6604850214
             ]
            },
            {
             "iteration": 35,
             "learn": [
              0.6810740211,
              0.604432022,
              0.653524774,
              0.4243448859,
              0.7110481586,
              0.7110481586
             ],
             "passed_time": 0.1175275868,
             "remaining_time": 0.3721706916,
             "test": [
              0.6446693599,
              0.6289682055,
              0.6295934141,
              0.399137931,
              0.6604850214,
              0.6604850214
             ]
            },
            {
             "iteration": 36,
             "learn": [
              0.6807315992,
              0.6037497607,
              0.6559088427,
              0.4269230769,
              0.7075070822,
              0.7075070822
             ],
             "passed_time": 0.1194727115,
             "remaining_time": 0.3648761188,
             "test": [
              0.6440078518,
              0.6288272624,
              0.6309367906,
              0.4005212858,
              0.6576319544,
              0.6576319544
             ]
            },
            {
             "iteration": 37,
             "learn": [
              0.6798292059,
              0.6034362205,
              0.6548420846,
              0.4257679181,
              0.7067988669,
              0.7067988669
             ],
             "passed_time": 0.1213110354,
             "remaining_time": 0.3575483149,
             "test": [
              0.6446026593,
              0.6286853932,
              0.6307673697,
              0.4003466205,
              0.6590584879,
              0.6590584879
             ]
            },
            {
             "iteration": 38,
             "learn": [
              0.6834294194,
              0.6028624668,
              0.6578760083,
              0.4290598291,
              0.7110481586,
              0.7110481586
             ],
             "passed_time": 0.1231381399,
             "remaining_time": 0.3504700905,
             "test": [
              0.6419354286,
              0.62856135,
              0.6295861248,
              0.3991304348,
              0.6547788873,
              0.6547788873
             ]
            },
            {
             "iteration": 39,
             "learn": [
              0.6826178537,
              0.6020488389,
              0.6569782835,
              0.4280836534,
              0.7103399433,
              0.7103399433
             ],
             "passed_time": 0.1249161825,
             "remaining_time": 0.3435195018,
             "test": [
              0.6438321001,
              0.6289535877,
              0.6305994992,
              0.4001736111,
              0.6576319544,
              0.6576319544
             ]
            },
            {
             "iteration": 40,
             "learn": [
              0.6847723456,
              0.6016234505,
              0.6585472242,
              0.4297908664,
              0.7131728045,
              0.7131728045
             ],
             "passed_time": 0.1268395492,
             "remaining_time": 0.337207582,
             "test": [
              0.6457706609,
              0.6286778612,
              0.6343296564,
              0.4040315513,
              0.6576319544,
              0.6576319544
             ]
            },
            {
             "iteration": 41,
             "learn": [
              0.6851446534,
              0.6012692852,
              0.6598425453,
              0.4312044578,
              0.7124645892,
              0.7124645892
             ],
             "passed_time": 0.1286823783,
             "remaining_time": 0.3308975443,
             "test": [
              0.643272055,
              0.6285209953,
              0.6334980794,
              0.4031690141,
              0.6533523538,
              0.6533523538
             ]
            },
            {
             "iteration": 42,
             "learn": [
              0.6830903283,
              0.6007985431,
              0.6596869721,
              0.4310344828,
              0.7082152975,
              0.7082152975
             ],
             "passed_time": 0.1305892741,
             "remaining_time": 0.3249547053,
             "test": [
              0.640231601,
              0.6284435457,
              0.6316280664,
              0.4012345679,
              0.6490727532,
              0.6490727532
             ]
            },
            {
             "iteration": 43,
             "learn": [
              0.6831815191,
              0.6005994615,
              0.6598570918,
              0.4312203536,
              0.7082152975,
              0.7082152975
             ],
             "passed_time": 0.1324266117,
             "remaining_time": 0.3190277464,
             "test": [
              0.6396262459,
              0.6283548167,
              0.6318024695,
              0.4014146773,
              0.6476462197,
              0.6476462197
             ]
            },
            {
             "iteration": 44,
             "learn": [
              0.6835465258,
              0.6001763985,
              0.6605384488,
              0.4319654428,
              0.7082152975,
              0.7082152975
             ],
             "passed_time": 0.1343777742,
             "remaining_time": 0.3135481398,
             "test": [
              0.6418198482,
              0.6280632367,
              0.6347272436,
              0.4044444444,
              0.6490727532,
              0.6490727532
             ]
            },
            {
             "iteration": 45,
             "learn": [
              0.6825604039,
              0.5995962158,
              0.6605478555,
              0.4319757366,
              0.7060906516,
              0.7060906516
             ],
             "passed_time": 0.1362492,
             "remaining_time": 0.3080416696,
             "test": [
              0.6388432745,
              0.6279824778,
              0.6316333616,
              0.4012400354,
              0.6462196862,
              0.6462196862
             ]
            },
            {
             "iteration": 46,
             "learn": [
              0.6839049836,
              0.5989845464,
              0.6605921118,
              0.4320241692,
              0.7089235127,
              0.7089235127
             ],
             "passed_time": 0.138106433,
             "remaining_time": 0.3026587786,
             "test": [
              0.6394502049,
              0.6278520723,
              0.6314590402,
              0.4010600707,
              0.6476462197,
              0.6476462197
             ]
            },
            {
             "iteration": 47,
             "learn": [
              0.6851691994,
              0.5984813832,
              0.6617212486,
              0.4332613391,
              0.7103399433,
              0.7103399433
             ],
             "passed_time": 0.1400189539,
             "remaining_time": 0.297540277,
             "test": [
              0.640507907,
              0.6275664461,
              0.6335252349,
              0.4031971581,
              0.6476462197,
              0.6476462197
             ]
            },
            {
             "iteration": 48,
             "learn": [
              0.6856921753,
              0.5979915664,
              0.6608589557,
              0.4323162871,
              0.7124645892,
              0.7124645892
             ],
             "passed_time": 0.1418931595,
             "remaining_time": 0.2924736554,
             "test": [
              0.6442241649,
              0.6274527768,
              0.6340043186,
              0.4036939314,
              0.6547788873,
              0.6547788873
             ]
            },
            {
             "iteration": 49,
             "learn": [
              0.6868914195,
              0.5975297885,
              0.6637051185,
              0.4354419411,
              0.7117563739,
              0.7117563739
             ],
             "passed_time": 0.143996314,
             "remaining_time": 0.2879926281,
             "test": [
              0.6426000929,
              0.627421135,
              0.6348904416,
              0.4046140195,
              0.6504992867,
              0.6504992867
             ]
            },
            {
             "iteration": 50,
             "learn": [
              0.6885002668,
              0.5972785939,
              0.6642491662,
              0.4360414866,
              0.7145892351,
              0.7145892351
             ],
             "passed_time": 0.1458250903,
             "remaining_time": 0.2830722341,
             "test": [
              0.6433788099,
              0.6273661339,
              0.6350530088,
              0.4047829938,
              0.6519258203,
              0.6519258203
             ]
            },
            {
             "iteration": 51,
             "learn": [
              0.6867898485,
              0.5969121851,
              0.6629011995,
              0.4345572354,
              0.7124645892,
              0.7124645892
             ],
             "passed_time": 0.1477047411,
             "remaining_time": 0.2783666275,
             "test": [
              0.6443330849,
              0.6273427946,
              0.6355594401,
              0.4053097345,
              0.6533523538,
              0.6533523538
             ]
            },
            {
             "iteration": 52,
             "learn": [
              0.6882249699,
              0.5963809801,
              0.6637368669,
              0.4354769098,
              0.7145892351,
              0.7145892351
             ],
             "passed_time": 0.1496454351,
             "remaining_time": 0.2738793812,
             "test": [
              0.6444425186,
              0.6273484293,
              0.6371290654,
              0.4069456812,
              0.6519258203,
              0.6519258203
             ]
            },
            {
             "iteration": 53,
             "learn": [
              0.691023761,
              0.595862519,
              0.66649919,
              0.4385281385,
              0.7174220963,
              0.7174220963
             ],
             "passed_time": 0.1515126011,
             "remaining_time": 0.2693557354,
             "test": [
              0.6450423849,
              0.6269861978,
              0.6369411495,
              0.406749556,
              0.6533523538,
              0.6533523538
             ]
            },
            {
             "iteration": 54,
             "learn": [
              0.6923463695,
              0.5954666764,
              0.6665199178,
              0.4385510996,
              0.7202549575,
              0.7202549575
             ],
             "passed_time": 0.1533702595,
             "remaining_time": 0.2649122664,
             "test": [
              0.6437329891,
              0.6271900134,
              0.6357435228,
              0.405501331,
              0.6519258203,
              0.6519258203
             ]
            },
            {
             "iteration": 55,
             "learn": [
              0.6900120193,
              0.5947374974,
              0.6646193427,
              0.4364498061,
              0.7174220963,
              0.7174220963
             ],
             "passed_time": 0.1553055129,
             "remaining_time": 0.2606913966,
             "test": [
              0.6427770928,
              0.6267028735,
              0.6352360911,
              0.404973357,
              0.6504992867,
              0.6504992867
             ]
            },
            {
             "iteration": 56,
             "learn": [
              0.691023761,
              0.5943616028,
              0.66649919,
              0.4385281385,
              0.7174220963,
              0.7174220963
             ],
             "passed_time": 0.1573330204,
             "remaining_time": 0.2567012439,
             "test": [
              0.6431313854,
              0.6264174348,
              0.6359285202,
              0.4056939502,
              0.6504992867,
              0.6504992867
             ]
            },
            {
             "iteration": 57,
             "learn": [
              0.6932849636,
              0.593865179,
              0.6688726704,
              0.4411636995,
              0.7195467422,
              0.7195467422
             ],
             "passed_time": 0.1592455486,
             "remaining_time": 0.2525963875,
             "test": [
              0.6432382535,
              0.6264560605,
              0.6375077117,
              0.4073410922,
              0.6490727532,
              0.6490727532
             ]
            },
            {
             "iteration": 58,
             "learn": [
              0.691518455,
              0.5914568721,
              0.6649870151,
              0.4368556701,
              0.7202549575,
              0.7202549575
             ],
             "passed_time": 0.161127822,
             "remaining_time": 0.2485191832,
             "test": [
              0.6430250202,
              0.6240819894,
              0.6343639933,
              0.4040671972,
              0.6519258203,
              0.6519258203
             ]
            },
            {
             "iteration": 59,
             "learn": [
              0.6937389653,
              0.5912472095,
              0.6660787227,
              0.4380625804,
              0.723796034,
              0.723796034
             ],
             "passed_time": 0.1629722593,
             "remaining_time": 0.2444583889,
             "test": [
              0.6434486506,
              0.6242037108,
              0.6338407104,
              0.4035242291,
              0.6533523538,
              0.6533523538
             ]
            },
            {
             "iteration": 60,
             "learn": [
              0.6940151325,
              0.5911048673,
              0.6665880772,
              0.4386266094,
              0.723796034,
              0.723796034
             ],
             "passed_time": 0.1643610369,
             "remaining_time": 0.2398054473,
             "test": [
              0.643272055,
              0.6243936288,
              0.6334980794,
              0.4031690141,
              0.6533523538,
              0.6533523538
             ]
            },
            {
             "iteration": 61,
             "learn": [
              0.6945154873,
              0.5907813731,
              0.6657149492,
              0.4376601196,
              0.7259206799,
              0.7259206799
             ],
             "passed_time": 0.1663923007,
             "remaining_time": 0.2361697171,
             "test": [
              0.6430955563,
              0.6241704666,
              0.6331558186,
              0.4028144239,
              0.6533523538,
              0.6533523538
             ]
            },
            {
             "iteration": 62,
             "learn": [
              0.6933547309,
              0.5897019973,
              0.6647732999,
              0.4366197183,
              0.7245042493,
              0.7245042493
             ],
             "passed_time": 0.1683376489,
             "remaining_time": 0.2324662771,
             "test": [
              0.6476650172,
              0.6235776684,
              0.6353332094,
              0.4050743657,
              0.6604850214,
              0.6604850214
             ]
            },
            {
             "iteration": 63,
             "learn": [
              0.6957676883,
              0.5892254435,
              0.6668247513,
              0.4388888889,
              0.7273371105,
              0.7273371105
             ],
             "passed_time": 0.1703131093,
             "remaining_time": 0.2288582406,
             "test": [
              0.6442241649,
              0.6235375651,
              0.6340043186,
              0.4036939314,
              0.6547788873,
              0.6547788873
             ]
            },
            {
             "iteration": 64,
             "learn": [
              0.695638368,
              0.588176462,
              0.6654019447,
              0.4373140671,
              0.7287535411,
              0.7287535411
             ],
             "passed_time": 0.1723009626,
             "remaining_time": 0.2253166434,
             "test": [
              0.6469576547,
              0.622728778,
              0.6339732741,
              0.4036617262,
              0.6604850214,
              0.6604850214
             ]
            }
           ],
           "meta": {
            "iteration_count": 150,
            "launch_mode": "Train",
            "learn_metrics": [
             {
              "best_value": "Max",
              "name": "F1"
             },
             {
              "best_value": "Min",
              "name": "Logloss"
             },
             {
              "best_value": "Max",
              "name": "Precision:use_weights=true"
             },
             {
              "best_value": "Max",
              "name": "Precision:use_weights=false"
             },
             {
              "best_value": "Max",
              "name": "Recall:use_weights=true"
             },
             {
              "best_value": "Max",
              "name": "Recall:use_weights=false"
             }
            ],
            "learn_sets": [
             "learn"
            ],
            "name": "experiment",
            "parameters": "",
            "test_metrics": [
             {
              "best_value": "Max",
              "name": "F1"
             },
             {
              "best_value": "Min",
              "name": "Logloss"
             },
             {
              "best_value": "Max",
              "name": "Precision:use_weights=true"
             },
             {
              "best_value": "Max",
              "name": "Precision:use_weights=false"
             },
             {
              "best_value": "Max",
              "name": "Recall:use_weights=true"
             },
             {
              "best_value": "Max",
              "name": "Recall:use_weights=false"
             }
            ],
            "test_sets": [
             "test"
            ]
           }
          },
          "passed_iterations": 64,
          "total_iterations": 150
         },
         "name": "catboost_info",
         "path": "catboost_info"
        }
       },
       "layout": "IPY_MODEL_3749d3f9a130406b84a8cecce3adee60"
      }
     },
     "3749d3f9a130406b84a8cecce3adee60": {
      "model_module": "@jupyter-widgets/base",
      "model_module_version": "1.2.0",
      "model_name": "LayoutModel",
      "state": {
       "_model_module": "@jupyter-widgets/base",
       "_model_module_version": "1.2.0",
       "_model_name": "LayoutModel",
       "_view_count": null,
       "_view_module": "@jupyter-widgets/base",
       "_view_module_version": "1.2.0",
       "_view_name": "LayoutView",
       "align_content": null,
       "align_items": null,
       "align_self": "stretch",
       "border": null,
       "bottom": null,
       "display": null,
       "flex": null,
       "flex_flow": null,
       "grid_area": null,
       "grid_auto_columns": null,
       "grid_auto_flow": null,
       "grid_auto_rows": null,
       "grid_column": null,
       "grid_gap": null,
       "grid_row": null,
       "grid_template_areas": null,
       "grid_template_columns": null,
       "grid_template_rows": null,
       "height": "500px",
       "justify_content": null,
       "justify_items": null,
       "left": null,
       "margin": null,
       "max_height": null,
       "max_width": null,
       "min_height": null,
       "min_width": null,
       "object_fit": null,
       "object_position": null,
       "order": null,
       "overflow": null,
       "overflow_x": null,
       "overflow_y": null,
       "padding": null,
       "right": null,
       "top": null,
       "visibility": null,
       "width": null
      }
     }
    },
    "version_major": 2,
    "version_minor": 0
   }
  }
 },
 "nbformat": 4,
 "nbformat_minor": 5
}
